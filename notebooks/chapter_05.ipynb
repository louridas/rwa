{
 "cells": [
  {
   "cell_type": "markdown",
   "metadata": {
    "slideshow": {
     "slide_type": "slide"
    }
   },
   "source": [
    "# Split Secrets\n",
    "\n",
    "* Chapter 5 of [Real World Algorithms](https://mitpress.mit.edu/books/real-world-algorithms).\n",
    "\n",
    "---\n",
    "\n",
    "> Panos Louridas<br />\n",
    "> Athens University of Economics and Business"
   ]
  },
  {
   "cell_type": "markdown",
   "metadata": {
    "slideshow": {
     "slide_type": "slide"
    }
   },
   "source": [
    "## The RSA Cryptosystem\n",
    "\n",
    "The security of the RSA cryptosystem is based on the difficulty of factoring.\n",
    "\n",
    "That is, given a number, it is difficult to find its prime factors.\n",
    "\n",
    "But to arrive at the RSA cryptosystem itself, we need first to see first some algorithms from Number Theory.\n",
    "\n",
    "Euclid's algorithm allows us to find the Greatest Common Divisor (gcd) of two numbers."
   ]
  },
  {
   "cell_type": "code",
   "execution_count": 11,
   "metadata": {
    "slideshow": {
     "slide_type": "fragment"
    }
   },
   "outputs": [
    {
     "name": "stdout",
     "output_type": "stream",
     "text": [
      "16\n"
     ]
    }
   ],
   "source": [
    "def euclid(a, b):\n",
    "    if b == 0:\n",
    "        return a\n",
    "    else:\n",
    "        return euclid(b, a % b)\n",
    "    \n",
    "print(euclid(160, 144))"
   ]
  },
  {
   "cell_type": "markdown",
   "metadata": {
    "slideshow": {
     "slide_type": "slide"
    }
   },
   "source": [
    "The algorithm is recursive.\n",
    "\n",
    "To find the gcd of $a$ and $b$ is equivalent to finding the GCD of $a$ and $a \\bmod b$, unless $b$ is zero, in which case the gcd is $a$.\n",
    "\n",
    "It does not matter which of $a$, $b$ is bigger, the algorithm will provide the same answer."
   ]
  },
  {
   "cell_type": "code",
   "execution_count": 12,
   "metadata": {
    "slideshow": {
     "slide_type": "fragment"
    }
   },
   "outputs": [
    {
     "name": "stdout",
     "output_type": "stream",
     "text": [
      "16\n"
     ]
    }
   ],
   "source": [
    "print(euclid(144, 160))"
   ]
  },
  {
   "cell_type": "markdown",
   "metadata": {
    "slideshow": {
     "slide_type": "slide"
    }
   },
   "source": [
    "To see why this happens, and to get a better understanding at the workings of the algorithm, we can include some tracing information in the code."
   ]
  },
  {
   "cell_type": "code",
   "execution_count": 13,
   "metadata": {
    "collapsed": true,
    "slideshow": {
     "slide_type": "fragment"
    }
   },
   "outputs": [],
   "source": [
    "def trace_euclid(a, b):\n",
    "    print('GCD of', a, b)\n",
    "    if b == 0:\n",
    "        return a\n",
    "    else:\n",
    "        return trace_euclid(b, a % b)"
   ]
  },
  {
   "cell_type": "code",
   "execution_count": 14,
   "metadata": {
    "slideshow": {
     "slide_type": "slide"
    }
   },
   "outputs": [
    {
     "name": "stdout",
     "output_type": "stream",
     "text": [
      "GCD of 160 144\n",
      "GCD of 144 16\n",
      "GCD of 16 0\n",
      "16\n",
      "GCD of 144 160\n",
      "GCD of 160 144\n",
      "GCD of 144 16\n",
      "GCD of 16 0\n",
      "16\n"
     ]
    }
   ],
   "source": [
    "print(trace_euclid(160, 144))\n",
    "print(trace_euclid(144, 160))"
   ]
  },
  {
   "cell_type": "markdown",
   "metadata": {
    "slideshow": {
     "slide_type": "slide"
    }
   },
   "source": [
    "So, what happens is that when $a < b$, $a$ and $b$ are swapped in the first recursive call.\n",
    "\n",
    "That is because if $a < b$, then $a \\bmod b = a$."
   ]
  },
  {
   "cell_type": "code",
   "execution_count": 15,
   "metadata": {
    "slideshow": {
     "slide_type": "fragment"
    }
   },
   "outputs": [
    {
     "data": {
      "text/plain": [
       "True"
      ]
     },
     "execution_count": 15,
     "metadata": {},
     "output_type": "execute_result"
    }
   ],
   "source": [
    "144 % 160 == 144"
   ]
  },
  {
   "cell_type": "markdown",
   "metadata": {
    "slideshow": {
     "slide_type": "slide"
    }
   },
   "source": [
    "The next step is the Extended Euclid's Algorithm.\n",
    "\n",
    "This algorithm gives us the GCD of $a$ and $b$ *and* two numbers $x$ and $y$ such that:\n",
    "$$ GCD(a, b) = xa + yb$$"
   ]
  },
  {
   "cell_type": "code",
   "execution_count": 16,
   "metadata": {
    "slideshow": {
     "slide_type": "slide"
    }
   },
   "outputs": [
    {
     "name": "stdout",
     "output_type": "stream",
     "text": [
      "(1, -117, 1)\n"
     ]
    }
   ],
   "source": [
    "def extended_euclid(a, b):\n",
    "    if b == 0:\n",
    "        return (a, 1, 0)\n",
    "    else:\n",
    "        (d, x, y) = extended_euclid(b, a % b)\n",
    "        return (d, y, x - (a // b) * y)\n",
    "    \n",
    "print(extended_euclid(3, 352))"
   ]
  },
  {
   "cell_type": "markdown",
   "metadata": {
    "slideshow": {
     "slide_type": "slide"
    }
   },
   "source": [
    "Indeed, we can verify that the GCD of 3 and 352 is 1 and that:\n",
    "$$ 1 = -117 \\times 3 + 352 \\times 1$$"
   ]
  },
  {
   "cell_type": "code",
   "execution_count": 17,
   "metadata": {
    "slideshow": {
     "slide_type": "fragment"
    }
   },
   "outputs": [
    {
     "data": {
      "text/plain": [
       "True"
      ]
     },
     "execution_count": 17,
     "metadata": {},
     "output_type": "execute_result"
    }
   ],
   "source": [
    "(d, x, y) = extended_euclid(3, 352)\n",
    "d == x * 3 + y * 352"
   ]
  },
  {
   "cell_type": "markdown",
   "metadata": {
    "slideshow": {
     "slide_type": "slide"
    }
   },
   "source": [
    "Again, we can gain a better understanding by tracing the algorithm.\n",
    "\n",
    "In the following, `Going down` means that we make recursive calls (so we go add to the recursion stack) and `Going up` means that we have returned from recursive calls (so we make our way up, unwinding the recursion stack).\n",
    "\n",
    "In effect, they are the left and the right part of Figure 5.2 in the book."
   ]
  },
  {
   "cell_type": "code",
   "execution_count": 18,
   "metadata": {
    "slideshow": {
     "slide_type": "slide"
    }
   },
   "outputs": [
    {
     "name": "stdout",
     "output_type": "stream",
     "text": [
      "Going down 3 352 3\n",
      "Going down 352 3 1\n",
      "Going down 3 1 0\n",
      "Going up 1 1 0\n",
      "Going up 1 0 1\n",
      "Going up 1 1 -117\n",
      "(1, -117, 1)\n"
     ]
    }
   ],
   "source": [
    "def trace_extended_euclid(a, b):\n",
    "    if b == 0:\n",
    "        return (a, 1, 0)\n",
    "    else:\n",
    "        print('Going down', a, b, a % b)\n",
    "        (d, x, y) = trace_extended_euclid(b, a % b)\n",
    "        print('Going up', d, x, y)\n",
    "        return (d, y, x - (a // b) * y)\n",
    "    \n",
    "print(trace_extended_euclid(3, 352))"
   ]
  },
  {
   "cell_type": "markdown",
   "metadata": {
    "slideshow": {
     "slide_type": "slide"
    }
   },
   "source": [
    "We need the Extended Euclid's Algorithm in order to find the *modular inverse* of a number $a$ modulo $n$.\n",
    "\n",
    "The inverse of a number $a$, is the number that we denote by $a^{-1}$ such that $a a^{-1} = 1$.\n",
    "\n",
    "If we move over to arithmetic modulo $n$, we obtain a similar definition for the modular inverse.\n",
    "\n",
    "The modular inverse of a number $a$ modulo $n$, is the number we denote by $a^{-1} \\bmod n$ such that $a a^{-1} \\bmod n = 1$."
   ]
  },
  {
   "cell_type": "markdown",
   "metadata": {
    "slideshow": {
     "slide_type": "slide"
    }
   },
   "source": [
    "To find the modular inverse of a number $a$ modulo $n$, we run the Extended Euclid's Algorithm with input $a$ and $n$.\n",
    "\n",
    "The algorithm will return a triplet $(r, x, y)$. \n",
    "\n",
    "If $r = 1$ it means we have:\n",
    "$$ 1 = ax + nb$$\n",
    "\n",
    "Therefore:\n",
    "$$ ax = 1 - bn$$\n",
    "\n",
    "But that is equivalent to:\n",
    "$$ ax \\bmod n = 1$$\n",
    "\n",
    "So, $x$ is the modular inverse of $a$ modulo $n$."
   ]
  },
  {
   "cell_type": "markdown",
   "metadata": {
    "slideshow": {
     "slide_type": "slide"
    }
   },
   "source": [
    "If $r \\ne 1$, then the modular inverse does not exist.\n",
    "\n",
    "Note that the Extended Euclid's Algorithm may return $(r, x, y)$ with $x < 0$.\n",
    "\n",
    "If this happens, the modular inverse is $x + n$.\n",
    "\n",
    "With all this, the function for finding the modular inverse is:"
   ]
  },
  {
   "cell_type": "code",
   "execution_count": 19,
   "metadata": {
    "collapsed": true,
    "slideshow": {
     "slide_type": "slide"
    }
   },
   "outputs": [],
   "source": [
    "def modular_inverse(a, n):\n",
    "    (r, x, y) = extended_euclid(a, n) \n",
    "    if r != 1:\n",
    "        return 0 \n",
    "    elif x < 0:\n",
    "        return x + n\n",
    "    else:\n",
    "        return x"
   ]
  },
  {
   "cell_type": "markdown",
   "metadata": {
    "slideshow": {
     "slide_type": "slide"
    }
   },
   "source": [
    "For example, let's take $n = 31$ and $a = 6$."
   ]
  },
  {
   "cell_type": "code",
   "execution_count": 20,
   "metadata": {
    "slideshow": {
     "slide_type": "fragment"
    }
   },
   "outputs": [
    {
     "data": {
      "text/plain": [
       "26"
      ]
     },
     "execution_count": 20,
     "metadata": {},
     "output_type": "execute_result"
    }
   ],
   "source": [
    "modular_inverse(6, 31)"
   ]
  },
  {
   "cell_type": "markdown",
   "metadata": {
    "slideshow": {
     "slide_type": "fragment"
    }
   },
   "source": [
    "We can verify that it is correct:"
   ]
  },
  {
   "cell_type": "code",
   "execution_count": 21,
   "metadata": {
    "slideshow": {
     "slide_type": "fragment"
    }
   },
   "outputs": [
    {
     "data": {
      "text/plain": [
       "True"
      ]
     },
     "execution_count": 21,
     "metadata": {},
     "output_type": "execute_result"
    }
   ],
   "source": [
    "(6 * 26) % 31 == 1"
   ]
  },
  {
   "cell_type": "markdown",
   "metadata": {
    "slideshow": {
     "slide_type": "slide"
    }
   },
   "source": [
    "Now we can see the RSA cryptosystem in action.\n",
    "\n",
    "Alice picks two primes, say $p = 17$ and $q = 23$.\n",
    "\n",
    "She calculates $n = pq$."
   ]
  },
  {
   "cell_type": "code",
   "execution_count": 22,
   "metadata": {
    "slideshow": {
     "slide_type": "fragment"
    }
   },
   "outputs": [
    {
     "name": "stdout",
     "output_type": "stream",
     "text": [
      "391\n"
     ]
    }
   ],
   "source": [
    "p_alice = 17\n",
    "q_alice = 23\n",
    "n_alice = p_alice * q_alice\n",
    "print(n_alice)"
   ]
  },
  {
   "cell_type": "markdown",
   "metadata": {
    "slideshow": {
     "slide_type": "slide"
    }
   },
   "source": [
    "Alice then chooses a number $e$ that is relatively prime to $(p - 1)(q - 1)$.\n",
    "\n",
    "Say she picks $e = 3$.\n",
    "\n",
    "She then finds the modular inverse of $e$ modulo $(p - 1)(q - 1)$."
   ]
  },
  {
   "cell_type": "code",
   "execution_count": 23,
   "metadata": {
    "slideshow": {
     "slide_type": "slide"
    }
   },
   "outputs": [
    {
     "name": "stdout",
     "output_type": "stream",
     "text": [
      "235\n"
     ]
    }
   ],
   "source": [
    "e_alice = 3\n",
    "phi_alice = (p_alice - 1)*(q_alice - 1)\n",
    "d_alice = modular_inverse(e_alice, phi_alice)\n",
    "print(d_alice)"
   ]
  },
  {
   "cell_type": "markdown",
   "metadata": {
    "slideshow": {
     "slide_type": "slide"
    }
   },
   "source": [
    "Alice's public key is $(e, n) = (3, 391)$.\n",
    "\n",
    "Her private key is $(d, n) = (235, 391)$."
   ]
  },
  {
   "cell_type": "markdown",
   "metadata": {
    "slideshow": {
     "slide_type": "slide"
    }
   },
   "source": [
    "If Bob wants to encrypt, say, the message $M = 314$ and send it to Alice, he takes her public key and performs the following operation:\n",
    "$$ M^e \\bmod n$$"
   ]
  },
  {
   "cell_type": "code",
   "execution_count": 24,
   "metadata": {
    "slideshow": {
     "slide_type": "fragment"
    }
   },
   "outputs": [
    {
     "name": "stdout",
     "output_type": "stream",
     "text": [
      "155\n"
     ]
    }
   ],
   "source": [
    "m = 314\n",
    "c = pow(m, e_alice, n_alice)\n",
    "print(c)"
   ]
  },
  {
   "cell_type": "markdown",
   "metadata": {
    "slideshow": {
     "slide_type": "fragment"
    }
   },
   "source": [
    "The encrypted message is $C = 155$, which he sends to Alice."
   ]
  },
  {
   "cell_type": "markdown",
   "metadata": {
    "slideshow": {
     "slide_type": "slide"
    }
   },
   "source": [
    "To decrypt the message, Alice uses her private key and performs the following operation:\n",
    "$$C^d \\bmod n$$"
   ]
  },
  {
   "cell_type": "code",
   "execution_count": 25,
   "metadata": {
    "slideshow": {
     "slide_type": "fragment"
    }
   },
   "outputs": [
    {
     "name": "stdout",
     "output_type": "stream",
     "text": [
      "314\n"
     ]
    }
   ],
   "source": [
    "dec_c = pow(c, d_alice, n_alice)\n",
    "print(dec_c)"
   ]
  },
  {
   "cell_type": "markdown",
   "metadata": {
    "slideshow": {
     "slide_type": "fragment"
    }
   },
   "source": [
    "So she did decrypt $C$ to the correct message."
   ]
  },
  {
   "cell_type": "markdown",
   "metadata": {
    "slideshow": {
     "slide_type": "slide"
    }
   },
   "source": [
    "Signing a message works in the same way, only the roles of the public and the private key are interchanged.\n",
    "\n",
    "If Alice wants to sign, say, the message $M = 314$ and send it to Bob, she takes her public key and performs the following operation:\n",
    "$$M^d \\bmod n$$"
   ]
  },
  {
   "cell_type": "code",
   "execution_count": 26,
   "metadata": {
    "slideshow": {
     "slide_type": "fragment"
    }
   },
   "outputs": [
    {
     "name": "stdout",
     "output_type": "stream",
     "text": [
      "274\n"
     ]
    }
   ],
   "source": [
    "sig_c = pow(m, d_alice, n_alice)\n",
    "print(sig_c)"
   ]
  },
  {
   "cell_type": "markdown",
   "metadata": {
    "slideshow": {
     "slide_type": "fragment"
    }
   },
   "source": [
    "The signature is $S = 274$, which she sends to Bob, along with $M = 314$."
   ]
  },
  {
   "cell_type": "markdown",
   "metadata": {
    "slideshow": {
     "slide_type": "slide"
    }
   },
   "source": [
    "Bob can then verify that the sender is indeed Alice by taking her public key and performing the following operation:\n",
    "$$S^e \\bmod n$$"
   ]
  },
  {
   "cell_type": "code",
   "execution_count": 27,
   "metadata": {
    "slideshow": {
     "slide_type": "fragment"
    }
   },
   "outputs": [
    {
     "data": {
      "text/plain": [
       "True"
      ]
     },
     "execution_count": 27,
     "metadata": {},
     "output_type": "execute_result"
    }
   ],
   "source": [
    "pow(sig_c, e_alice, n_alice) == m"
   ]
  },
  {
   "cell_type": "markdown",
   "metadata": {
    "slideshow": {
     "slide_type": "slide"
    }
   },
   "source": [
    "As we saw, this allows Bob to verify that Alice was the sender, but Alice sends her message as plaintext to Bob.\n",
    "\n",
    "If she wants to encrypt it, then she will encrypt the message and the signature with Bob's public key.\n",
    "\n",
    "Bob will decrypt the message and the signagure and then will check the signature against the decrypted message."
   ]
  },
  {
   "cell_type": "markdown",
   "metadata": {
    "slideshow": {
     "slide_type": "slide"
    }
   },
   "source": [
    "Suppose that Bob has selected $p = 31$, $q = 43$.\n"
   ]
  },
  {
   "cell_type": "code",
   "execution_count": 28,
   "metadata": {
    "slideshow": {
     "slide_type": "fragment"
    }
   },
   "outputs": [
    {
     "name": "stdout",
     "output_type": "stream",
     "text": [
      "1333\n",
      "1260\n"
     ]
    }
   ],
   "source": [
    "p_bob = 31\n",
    "q_bob = 43\n",
    "n_bob = 31 * 43\n",
    "print(n_bob)\n",
    "phi_bob = (p_bob - 1) * (q_bob - 1)\n",
    "print(phi_bob)"
   ]
  },
  {
   "cell_type": "markdown",
   "metadata": {
    "slideshow": {
     "slide_type": "slide"
    }
   },
   "source": [
    "Bob then picks $e = 23$, which is relatively prime to 1260.\n",
    "\n",
    "He finds the modular inverse of $e$ modulo $(p - 1)(q - 1)$."
   ]
  },
  {
   "cell_type": "code",
   "execution_count": 29,
   "metadata": {
    "slideshow": {
     "slide_type": "fragment"
    }
   },
   "outputs": [
    {
     "name": "stdout",
     "output_type": "stream",
     "text": [
      "767\n"
     ]
    }
   ],
   "source": [
    "e_bob = 23\n",
    "d_bob = modular_inverse(e_bob, phi_bob)\n",
    "print(d_bob)"
   ]
  },
  {
   "cell_type": "markdown",
   "metadata": {
    "slideshow": {
     "slide_type": "slide"
    }
   },
   "source": [
    "So Alice will send her signature of $M = 314$, and send it along with $M$ encrypted with Bob's public key: "
   ]
  },
  {
   "cell_type": "code",
   "execution_count": 30,
   "metadata": {
    "slideshow": {
     "slide_type": "fragment"
    }
   },
   "outputs": [
    {
     "name": "stdout",
     "output_type": "stream",
     "text": [
      "126\n",
      "471\n"
     ]
    }
   ],
   "source": [
    "c = pow(m, e_bob, n_bob)\n",
    "print(c)\n",
    "enc_sig = pow(sig_c, e_bob, n_bob)\n",
    "print(enc_sig)"
   ]
  },
  {
   "cell_type": "markdown",
   "metadata": {
    "slideshow": {
     "slide_type": "slide"
    }
   },
   "source": [
    "Bob can now decrypt the message and the signature using his private key:"
   ]
  },
  {
   "cell_type": "code",
   "execution_count": 31,
   "metadata": {
    "slideshow": {
     "slide_type": "fragment"
    }
   },
   "outputs": [
    {
     "name": "stdout",
     "output_type": "stream",
     "text": [
      "314\n",
      "274\n"
     ]
    }
   ],
   "source": [
    "dec_c = pow(c, d_bob, n_bob)\n",
    "print(dec_c)\n",
    "dec_sig = pow(enc_sig, d_bob, n_bob)\n",
    "print(dec_sig)"
   ]
  },
  {
   "cell_type": "markdown",
   "metadata": {
    "slideshow": {
     "slide_type": "slide"
    }
   },
   "source": [
    "This is equal to what he will get by verifying the signature:"
   ]
  },
  {
   "cell_type": "code",
   "execution_count": 32,
   "metadata": {
    "slideshow": {
     "slide_type": "fragment"
    }
   },
   "outputs": [
    {
     "data": {
      "text/plain": [
       "True"
      ]
     },
     "execution_count": 32,
     "metadata": {},
     "output_type": "execute_result"
    }
   ],
   "source": [
    "pow(dec_sig, e_alice, n_alice) == m"
   ]
  },
  {
   "cell_type": "markdown",
   "metadata": {
    "slideshow": {
     "slide_type": "slide"
    }
   },
   "source": [
    "\n",
    "Up to this point we have been using small numbers, but in reality we use much bigger ones.\n",
    "\n",
    "For instance, we want the sizes of our RSA keys to be 4096 bits.\n",
    "\n",
    "Let's see how RSA works with such numbers.\n",
    "\n",
    "In what follows we did not pulled big numbers out of thin air. In reality, we used the [OpenSSL toolkit](https://www.openssl.org/), in case you wonder how the example was built."
   ]
  },
  {
   "cell_type": "markdown",
   "metadata": {
    "slideshow": {
     "slide_type": "slide"
    }
   },
   "source": [
    "We'll use $e = 65537$."
   ]
  },
  {
   "cell_type": "code",
   "execution_count": 33,
   "metadata": {
    "collapsed": true,
    "slideshow": {
     "slide_type": "fragment"
    }
   },
   "outputs": [],
   "source": [
    "e = 65537"
   ]
  },
  {
   "cell_type": "markdown",
   "metadata": {
    "slideshow": {
     "slide_type": "slide"
    }
   },
   "source": [
    "We need two large primes $p$ and $q$, so here is $p$:"
   ]
  },
  {
   "cell_type": "code",
   "execution_count": 34,
   "metadata": {
    "collapsed": true,
    "slideshow": {
     "slide_type": "fragment"
    }
   },
   "outputs": [],
   "source": [
    "p = 0x00cfb0f468a68aee13806191c962ea\\\n",
    "565a4ab0d5547797d05a27aac67d6a\\\n",
    "ba1b279a1e7f62220b26190cefb271\\\n",
    "5d4bb81e28cffc290c2c05a58c9767\\\n",
    "184ceec95e3b333833829e346ec9ec\\\n",
    "f50ba2ba033f88d5b961008726f61b\\\n",
    "7600fd6b0d408c2d347ab8360aa14c\\\n",
    "eb9b4c851e61b76265bf53b510c647\\\n",
    "d185341571cb8fa76e1fce322906a8\\\n",
    "8a78fb4c588d821a08d395dc57e972\\\n",
    "2cc83c71cf3a138531f3e0f3918996\\\n",
    "eaf80c4879bf94755f0d2f470d5d6f\\\n",
    "bcbe1ec71fa2012341dcf8be36daf2\\\n",
    "3f3b00d30859a373efce255649602d\\\n",
    "f7664779bdc441602d3f0217240003\\\n",
    "a96801730aba5392796d0ea69116e8\\\n",
    "2e107d48b35d010c3c4a49973b3aa7\\\n",
    "d047"
   ]
  },
  {
   "cell_type": "markdown",
   "metadata": {
    "slideshow": {
     "slide_type": "slide"
    }
   },
   "source": [
    "And here is $q$:"
   ]
  },
  {
   "cell_type": "code",
   "execution_count": 35,
   "metadata": {
    "collapsed": true,
    "slideshow": {
     "slide_type": "fragment"
    }
   },
   "outputs": [],
   "source": [
    "q = 0x00c7e596a9d7d1ee5f7e591933b3b9\\\n",
    "9f8e720b9f3e7b402987adb9480595\\\n",
    "14a5bd56d071bb9ef8637cd9c34932\\\n",
    "1d60ff2990bf2d4d1178d6456d7007\\\n",
    "ae527e3f8d7128a4f0d7fe04179b2a\\\n",
    "080c7c63f85207be1e21a8d322823a\\\n",
    "201860accf874effbc9a14bfeb266c\\\n",
    "83bf2957dc79f1459a34d7bda13b96\\\n",
    "caa239540b9337c018793d0645bf4c\\\n",
    "541e792bccfb43b849505296da74c9\\\n",
    "18ae9b47dbc544ac880baaf733df5d\\\n",
    "76fd0a2bfb9c9b2bfe24393a61acdb\\\n",
    "2cc134366ce669788ff8c85ac4806a\\\n",
    "b35bc8d1110a27769fabae1a474007\\\n",
    "33f0e63e078b15163a86b7f402d9e4\\\n",
    "644a594f2e42b095728d25d411eb0a\\\n",
    "72efe859f58e5bdd1f93d15b77fb90\\\n",
    "c9dd"
   ]
  },
  {
   "cell_type": "markdown",
   "metadata": {
    "slideshow": {
     "slide_type": "slide"
    }
   },
   "source": [
    "Now we can calculate $(p - 1)(q - 1)$:"
   ]
  },
  {
   "cell_type": "code",
   "execution_count": 36,
   "metadata": {
    "slideshow": {
     "slide_type": "fragment"
    }
   },
   "outputs": [
    {
     "name": "stdout",
     "output_type": "stream",
     "text": [
      "0xa22cd18375319222e3284c004ac9a225ecce5b00446aaff5f2df68ecb6ae135c90127c58b7d99cb1a66da9cbe67db3352f3068af2381bf6d2bcf0220a416af0b008bf87eec889a95e8f81036634f2d823eccab77f79f09c693a5f0f335566c5b10c90c0ebbeef5076a273db5a86873351a7b06df09118f3fe988732ebdd4642f6a25b0ad85b49f1b68b07e946e2005cbb6143110a05df959570828c45b7aa8d2bbc78c0bddf7d27a48aaee8f569b5434229ddd4711f8c67bc6c8f52dff31b1d8df252008c8049706bc1598a1cba14ea82a2a9dd19b6d937df77106676c1c039894dd9101189f97c709f5849293774f74c4b6f69cdfb8397c4a22518a7f1aaaa720076e198df7913b3da617b04efad404d366ecf7a3e3c9ddad036f36f5bcda11b395436f9edd42a9e192e994d6573e4ce1b9ed779f17320a3dd78f8e301e0e2651c58bf8351e28caa10a12872581617a74f7ec1ce9cfc038e6de4e71dff6f047dba1b113eed5a4b7e3ac3f56fc8d2f32360167f96c3c9bcb14ff87bc1b8735d3b9394807d3e853dbf6a8cd669f0600de09c15558cd99d8371fc016d24ac73de641714b1afa8e39e1f70b1e335cedf452477509af901580cdbd1ed1fa2c1b65105dbfd2c89184c5f835e9a73d0d73604da0c2b50268a56e073220f8b121f2827d321eec3a5c582dc6c8875efb7bdf47da380bb614bf430b44e8ffb217f41df228\n"
     ]
    }
   ],
   "source": [
    "phi = (p - 1) * (q - 1)\n",
    "print(hex(phi))"
   ]
  },
  {
   "cell_type": "markdown",
   "metadata": {
    "slideshow": {
     "slide_type": "slide"
    }
   },
   "source": [
    "And we can also calculate $n = pq$:"
   ]
  },
  {
   "cell_type": "code",
   "execution_count": 37,
   "metadata": {
    "slideshow": {
     "slide_type": "fragment"
    }
   },
   "outputs": [
    {
     "name": "stdout",
     "output_type": "stream",
     "text": [
      "0xa22cd18375319222e3284c004ac9a225ecce5b00446aaff5f2df68ecb6ae135c90127c58b7d99cb1a66da9cbe67db3352f3068af2381bf6d2bcf0220a416af0b008bf87eec889a95e8f81036634f2d823eccab77f79f09c693a5f0f335566c5b10c90c0ebbeef5076a273db5a86873351a7b06df09118f3fe988732ebdd4642f6a25b0ad85b49f1b68b07e946e2005cbb6143110a05df959570828c45b7aa8d2bbc78c0bddf7d27a48aaee8f569b5434229ddd4711f8c67bc6c8f52dff31b1d8df252008c8049706bc1598a1cba14ea82a2a9dd19b6d937df77106676c1c039894dd9101189f97c709f5849293774f74c4b6f69cdfb8397c4a22518a7f1aaaa8b79df92c0c546dae3c60c2ad659ec9ed9023618a96bbc3bf82677db9f58b9af6a484348d5fe0cc3fc845e5385103f5949b4916edbcbc0df537defe54cf8b1711fe21691c8fba615106210f9f449f5d0c058bc39f932a09b13c7467cff7d3b8230892c5e0e4cb6c715306b533f768d7da35f5936c1e3e7a673c6cf1397a4e9d5a5244807699dd32736b20f2ef64d85301f23487b708df4f0ed96b162a7c813d722c36b40f5c8350566c674dd4ba1f5cd3b67f54990f687e5a45896dcc01dc7e0bb91cc55f5b28df5c00d436b6e0e3f0edd5ee0c30206abd5da888be6b2d195c653fd146fc955531eeb48193761ee13a7b387158bdaa9ff4a0c71aa4cb2a568c4b\n"
     ]
    }
   ],
   "source": [
    "n = p * q\n",
    "print(hex(n))"
   ]
  },
  {
   "cell_type": "markdown",
   "metadata": {
    "slideshow": {
     "slide_type": "slide"
    }
   },
   "source": [
    "The public key is $(e, n)$.\n",
    "\n",
    "The private key is $(d, n)$ where $d$ is the multiplicative inverse modulo $(p - 1)(q - 1)$ of $e$.\n",
    "\n",
    "That is:"
   ]
  },
  {
   "cell_type": "code",
   "execution_count": 40,
   "metadata": {
    "slideshow": {
     "slide_type": "fragment"
    }
   },
   "outputs": [
    {
     "name": "stdout",
     "output_type": "stream",
     "text": [
      "0x5c36e1d73eff35da52922a4d0c3984d2cdc934a37d43b0d4480ad2edae9e62f2021610d09d91c6709972c7d6e233dd7fc35a625c1bf37df6c4af4bc565a86455fc349ad3090a4fe427f94db6af576948230f5bfcb6379f6663b43ac30034291ecaf796bc960e3513c73f92ee455947110e02a09097e67d2ed94ab63c00c2d148c8b1afb9ab4a5e2246affcf9c778bbf2ee90a2a992967cdf590691afbd588cc06ef7f3611810ff847ae77f08d035387700ac0513915b84f902ba67f784a12c4065fa05321911cb1290463368e491cf58fdc907be15040496dee94cbbe81431d343ea8cb633db238190df2347f9442151033e0a127f7f906864fb08a498cb7ff7d1d587bc4e2654557c23825ac53e08eac98e3ff63c219d3a4853a89c76b4b0c6d9f768c6026e4ba6af564b2d4f87822c5339d6966b46d434509fcec80a023d077afdba2e237e07b1d84a12e8f7e18e9d03ffa92973a5a6e674183a40b41a04dcc73d34a461ece7618cbaf7b52d9bd61755f00cc01dd484bdc02de06f8cb3a05ec87692c7a8adf56920e33110462232c20e87f950aa6fed2ac30a05b003c731224959f35bded69a812b690dfe24bc456db7a60c20e0ebe936936ffff3a1bade07a5571ab2e353bd01fb1de5f3683f8fa5f460626e813477d0eda723e20cac899848b49e9c3cc0031f820cbf6c7e2e22fc295c3767aaada3adc65306606a75d0a9\n"
     ]
    }
   ],
   "source": [
    "d = modular_inverse(e, phi)\n",
    "print(hex(d))"
   ]
  },
  {
   "cell_type": "markdown",
   "metadata": {
    "slideshow": {
     "slide_type": "slide"
    }
   },
   "source": [
    "Let's encrypt the message `ATTACKATDAWN`. \n",
    "\n",
    "To do that, we need to convert the message to a number smaller than $n$.\n",
    "\n",
    "One way to do that is to convert the string to a sequence of bytes and then interpret that sequence of bytes as an integer, using the `int.from_bytes()` function that we saw in the notebook for Chapter 4."
   ]
  },
  {
   "cell_type": "code",
   "execution_count": 53,
   "metadata": {
    "slideshow": {
     "slide_type": "fragment"
    }
   },
   "outputs": [
    {
     "name": "stdout",
     "output_type": "stream",
     "text": [
      "20218473289907025413077555022\n"
     ]
    }
   ],
   "source": [
    "encoded_m = int.from_bytes('ATTACKATDAWN'.encode('utf-8'), byteorder='big')\n",
    "print(m)"
   ]
  },
  {
   "cell_type": "markdown",
   "metadata": {
    "slideshow": {
     "slide_type": "slide"
    }
   },
   "source": [
    "The number is well below $n$, so we are fine.\n",
    "\n",
    "We can encrypt it:"
   ]
  },
  {
   "cell_type": "code",
   "execution_count": 50,
   "metadata": {
    "slideshow": {
     "slide_type": "fragment"
    }
   },
   "outputs": [
    {
     "name": "stdout",
     "output_type": "stream",
     "text": [
      "407610036536766973941746712970056610431835270763945506960742542700949567151960874466077831719168680539470512240285486337550969993279696657735430597939419591374065091761356463235152143710255449503873561336415103006795697846296395947461876977977394431370772059394605673469827590676144590868929203525034699443219779269405168770159479959294157741569972986104837443912443448384645504245575692381456943218026944194684571058452049478974903319436215524101922325643097716873419410243227934020948460647053999998422913455094868056924225820448155709173128595626608895554934753751544860636088412735253276591446354450386193737480234349332997586568691670839008357864280250666956934406970115168608653775115126626245410948290822146137494594341860806577958750028245578858672356969329085479075907906476430846438024985350304613047425941365722484003570780153140446461960446467394379043325391336573770382418692001929699853863734921837392277439431493254812307721121364761570747515567992948509006262597846233976186363549135380390043355308274871299976822982419028054165067879724454988158437177860111295800172420220495633529577878379178147048919884717838512877763877003097684166522722064813438850586879945356215277724271919578412510711801553294801455380141500\n"
     ]
    }
   ],
   "source": [
    "c = pow(encoded_m, e, n)\n",
    "print(c)"
   ]
  },
  {
   "cell_type": "markdown",
   "metadata": {
    "slideshow": {
     "slide_type": "slide"
    }
   },
   "source": [
    "And we can verify that it decrypts correctly:"
   ]
  },
  {
   "cell_type": "code",
   "execution_count": 54,
   "metadata": {
    "slideshow": {
     "slide_type": "fragment"
    }
   },
   "outputs": [
    {
     "data": {
      "text/plain": [
       "True"
      ]
     },
     "execution_count": 54,
     "metadata": {},
     "output_type": "execute_result"
    }
   ],
   "source": [
    "dec_c = pow(c, d, n)\n",
    "dec_c == encoded_m"
   ]
  },
  {
   "cell_type": "markdown",
   "metadata": {
    "slideshow": {
     "slide_type": "slide"
    }
   },
   "source": [
    "Finally, we can recover the original string, by converting its number encoding to a series of bytes, and that to a string.\n",
    "\n",
    "Note that the `int.to_bytes()` function requires the length of the byte array, which we calculate as we go.\n",
    "\n",
    "In effect, we add 7 to the number of bits representing the integer encoding of the message, and then we perform an integer division by 8. In this way we get the rounded up multiple of 8, which is what we want."
   ]
  },
  {
   "cell_type": "code",
   "execution_count": 59,
   "metadata": {
    "slideshow": {
     "slide_type": "fragment"
    }
   },
   "outputs": [
    {
     "name": "stdout",
     "output_type": "stream",
     "text": [
      "ATTACKATDAWN\n"
     ]
    }
   ],
   "source": [
    "decoded_m = dec_c.to_bytes((dec_c.bit_length() + 7) // 8, byteorder='big').decode('utf-8')\n",
    "print(decoded_m)"
   ]
  },
  {
   "cell_type": "markdown",
   "metadata": {
    "slideshow": {
     "slide_type": "slide"
    }
   },
   "source": [
    "Note, though, that if our message cannot be encoded with less bits than those required for representing $n$, the modulo, we cannot encrypt it using RSA.\n",
    "\n",
    "In that case, we use RSA only to exchange a secret encryption key that we will use to encrypt and decrypt our message using a symmetric encryption algorithm, such as AES, using a *hybrid encryption scheme*: a combination of symmetric and asymmetric cryptography.\n"
   ]
  },
  {
   "cell_type": "markdown",
   "metadata": {
    "slideshow": {
     "slide_type": "slide"
    }
   },
   "source": [
    "## Message Hashing\n",
    "\n",
    "If we want to sign a large message, we usually sign a *digital fingerprint* of the message instead.\n",
    "\n",
    "A  fingerprint of a message $M$ is a short piece of identifying data that we get by applying a special fast function $h(M)$ to the message. \n",
    "\n",
    "This function is called a *hash* function.\n",
    "\n",
    "As a hash function maps a message of a number of bits to a digest of a smaller number of bits, we will always have collisions: different messages hashing to the same value.\n",
    "\n",
    "However, a good hash function will make such collisions very unlikely in practice."
   ]
  },
  {
   "cell_type": "markdown",
   "metadata": {
    "slideshow": {
     "slide_type": "slide"
    }
   },
   "source": [
    "A good family of hash function is the Secure Hash Algorithm 2 (SHA-2) family of functions, defined as part of the [Secure Hash Standard](http://nvlpubs.nist.gov/nistpubs/FIPS/NIST.FIPS.180-4.pdf).\n",
    "\n",
    "The functions are available in Python through the `hashlib` library."
   ]
  },
  {
   "cell_type": "markdown",
   "metadata": {
    "slideshow": {
     "slide_type": "slide"
    }
   },
   "source": [
    "As an example, we will use SHA-256, which produces 256 bit hashes.\n",
    "\n",
    "We can verify that even very similar messages produce very different hashes.\n",
    "\n",
    "For example, capital and smaller case latin letters differ only by one bit, bit 100000 = 32 as we can see below:"
   ]
  },
  {
   "cell_type": "code",
   "execution_count": 83,
   "metadata": {
    "slideshow": {
     "slide_type": "slide"
    }
   },
   "outputs": [
    {
     "name": "stdout",
     "output_type": "stream",
     "text": [
      "a 0b1100001 A 0b1000001 0b100000 32\n",
      "b 0b1100010 B 0b1000010 0b100000 32\n",
      "c 0b1100011 C 0b1000011 0b100000 32\n",
      "d 0b1100100 D 0b1000100 0b100000 32\n",
      "e 0b1100101 E 0b1000101 0b100000 32\n",
      "f 0b1100110 F 0b1000110 0b100000 32\n",
      "g 0b1100111 G 0b1000111 0b100000 32\n",
      "h 0b1101000 H 0b1001000 0b100000 32\n",
      "i 0b1101001 I 0b1001001 0b100000 32\n",
      "j 0b1101010 J 0b1001010 0b100000 32\n",
      "k 0b1101011 K 0b1001011 0b100000 32\n",
      "l 0b1101100 L 0b1001100 0b100000 32\n",
      "m 0b1101101 M 0b1001101 0b100000 32\n",
      "n 0b1101110 N 0b1001110 0b100000 32\n",
      "o 0b1101111 O 0b1001111 0b100000 32\n",
      "p 0b1110000 P 0b1010000 0b100000 32\n",
      "q 0b1110001 Q 0b1010001 0b100000 32\n",
      "r 0b1110010 R 0b1010010 0b100000 32\n",
      "s 0b1110011 S 0b1010011 0b100000 32\n",
      "t 0b1110100 T 0b1010100 0b100000 32\n",
      "u 0b1110101 U 0b1010101 0b100000 32\n",
      "v 0b1110110 V 0b1010110 0b100000 32\n",
      "w 0b1110111 W 0b1010111 0b100000 32\n",
      "x 0b1111000 X 0b1011000 0b100000 32\n",
      "y 0b1111001 Y 0b1011001 0b100000 32\n",
      "z 0b1111010 Z 0b1011010 0b100000 32\n"
     ]
    }
   ],
   "source": [
    "import string\n",
    "\n",
    "for lc, uc in zip(string.ascii_lowercase, string.ascii_uppercase):\n",
    "    bin_lc = bin(ord(lc))\n",
    "    bin_uc = bin(ord(uc))\n",
    "    diff = ord(lc) ^ ord(uc)\n",
    "    print(lc, bin_lc, uc, bin_uc, bin(diff), diff)"
   ]
  },
  {
   "cell_type": "markdown",
   "metadata": {
    "slideshow": {
     "slide_type": "slide"
    }
   },
   "source": [
    "We can then see what happens if we get the SHA-256 hash value of `i am going to be hashed` vs. the hash value of `I am going to be hashed`.\n",
    "\n",
    "The two messages differ by just one bit.\n",
    "\n",
    "Yet they produce completely different SHA-256 hash values."
   ]
  },
  {
   "cell_type": "code",
   "execution_count": 88,
   "metadata": {
    "slideshow": {
     "slide_type": "fragment"
    }
   },
   "outputs": [
    {
     "name": "stdout",
     "output_type": "stream",
     "text": [
      "52ac2af460118f051bcc42886ab7f6cbb48ecdba8eeffb141f9c811c12a34353\n",
      "1b0ca72ec711fcec092e0acfec74f2033dbe70531019892e2bf9be2a0d53c84d\n"
     ]
    }
   ],
   "source": [
    "import hashlib\n",
    "\n",
    "print(hashlib.sha256(b\"i am going to be hashed\").hexdigest())\n",
    "print(hashlib.sha256(b\"I am going to be hashed\").hexdigest())"
   ]
  },
  {
   "cell_type": "markdown",
   "metadata": {
    "slideshow": {
     "slide_type": "slide"
    }
   },
   "source": [
    "## Cryptography in Practice\n",
    "\n",
    "To repeat how we ended the previous notebook: you should never, ever, use any of the code in this notepad for production use if you care a bit about security.\n",
    "\n",
    "The code we have shown serves for demonstration purposes only.\n",
    "\n",
    "However, the development of secure code is a full-blown art. There are many details that one has to take into account when writing code for a robust, secure system.\n",
    "\n",
    "You should always use libraries that have a good security record, that are actively supported, and are well documented.\n",
    "\n",
    "You should never use your own cryptographic code unless you are an expert programmer, you have shared your code with the programming community, and the consensus is that the implementation is sound."
   ]
  }
 ],
 "metadata": {
  "celltoolbar": "Slideshow",
  "kernelspec": {
   "display_name": "Python 3 (ipykernel)",
   "language": "python",
   "name": "python3"
  },
  "language_info": {
   "codemirror_mode": {
    "name": "ipython",
    "version": 3
   },
   "file_extension": ".py",
   "mimetype": "text/x-python",
   "name": "python",
   "nbconvert_exporter": "python",
   "pygments_lexer": "ipython3",
   "version": "3.9.12"
  }
 },
 "nbformat": 4,
 "nbformat_minor": 1
}
