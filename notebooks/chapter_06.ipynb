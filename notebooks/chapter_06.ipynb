{
 "cells": [
  {
   "cell_type": "markdown",
   "metadata": {
    "slideshow": {
     "slide_type": "slide"
    }
   },
   "source": [
    "# Tasks in Order\n",
    "\n",
    "Chapter 6 of [Real World Algorithms](https://mitpress.mit.edu/books/real-world-algorithms).\n",
    "\n",
    "---\n",
    "\n",
    "> Panos Louridas<br />\n",
    "> Athens University of Economics and Business"
   ]
  },
  {
   "cell_type": "markdown",
   "metadata": {
    "slideshow": {
     "slide_type": "slide"
    }
   },
   "source": [
    "## Topological Sort\n",
    "\n",
    "Topological sort is based on depth-first search.\n",
    "\n",
    "We want to visit the nodes in a graph so that we visit each node before any of the nodes that the node we are visiting points to.\n",
    "\n",
    "To do that, we do a depth-first search and each time we arrive at a dead-end we add that node in the head of a list. \n",
    "\n",
    "In this way we will fill a list from the back to the front.\n",
    "\n",
    "When the depth-first search is over, the list will contain the nodes of the graph topologicallly sorted. "
   ]
  },
  {
   "cell_type": "markdown",
   "metadata": {
    "slideshow": {
     "slide_type": "slide"
    }
   },
   "source": [
    "The following function is depth-first search, with that additional list.\n",
    "\n",
    "So, apart from the graph `g`, the starting node `node` and an array `visited` marking the nodes that we have visited, we pass to the function a list `position` that we will be filling back-to-front.\n",
    "\n",
    "This happens by calling `positions.insert(0, node)`, which puts `node` at the head of the list."
   ]
  },
  {
   "cell_type": "code",
   "execution_count": 1,
   "metadata": {
    "slideshow": {
     "slide_type": "slide"
    }
   },
   "outputs": [],
   "source": [
    "def dfs(g, node, positions, visited):\n",
    "\n",
    "    visited[node] = True\n",
    "    for v in g[node]:\n",
    "        if not visited[v]:\n",
    "            dfs(g, v, positions, visited)\n",
    "    positions.insert(0, node)"
   ]
  },
  {
   "cell_type": "markdown",
   "metadata": {
    "slideshow": {
     "slide_type": "slide"
    }
   },
   "source": [
    "As, an example, let's see `dfs()` in action on the following graph.\n",
    "\n",
    "<img width=\"400\" src=\"topological_sort_graph.png\"/>"
   ]
  },
  {
   "cell_type": "markdown",
   "metadata": {
    "slideshow": {
     "slide_type": "slide"
    }
   },
   "source": [
    "The graph is represented in Python as follows:"
   ]
  },
  {
   "cell_type": "code",
   "execution_count": 2,
   "metadata": {
    "slideshow": {
     "slide_type": "fragment"
    }
   },
   "outputs": [],
   "source": [
    "g = {\n",
    "    0: [1, 3],\n",
    "    1: [2],\n",
    "    2: [],\n",
    "    3: [4],\n",
    "    4: [2, 5],\n",
    "    5: [],\n",
    "    6: [3, 7],\n",
    "    7: [],\n",
    "    8: [6, 9],\n",
    "    9: [7],\n",
    "    10: []\n",
    "}"
   ]
  },
  {
   "cell_type": "markdown",
   "metadata": {
    "slideshow": {
     "slide_type": "slide"
    }
   },
   "source": [
    "We start by initializing `positions` and `visited` and running `dfs(g, node, positions, visited)` from node 0."
   ]
  },
  {
   "cell_type": "code",
   "execution_count": 3,
   "metadata": {
    "slideshow": {
     "slide_type": "fragment"
    }
   },
   "outputs": [
    {
     "name": "stdout",
     "output_type": "stream",
     "text": [
      "[0, 3, 4, 5, 1, 2]\n"
     ]
    }
   ],
   "source": [
    "positions = []\n",
    "visited = [ False ] * len(g)\n",
    "\n",
    "dfs(g, 0, positions, visited)\n",
    "print(positions)"
   ]
  },
  {
   "cell_type": "markdown",
   "metadata": {
    "slideshow": {
     "slide_type": "slide"
    }
   },
   "source": [
    "We see that we have not visited all the nodes in the graph. That is because not all nodes are reachable from node 0.\n",
    "\n",
    "So we call again `dfs(g, node, positions, visited)`, this time starting from node 6."
   ]
  },
  {
   "cell_type": "code",
   "execution_count": 4,
   "metadata": {
    "slideshow": {
     "slide_type": "fragment"
    }
   },
   "outputs": [
    {
     "name": "stdout",
     "output_type": "stream",
     "text": [
      "[6, 7, 0, 3, 4, 5, 1, 2]\n"
     ]
    }
   ],
   "source": [
    "dfs(g, 6, positions, visited)\n",
    "print(positions)"
   ]
  },
  {
   "cell_type": "markdown",
   "metadata": {
    "slideshow": {
     "slide_type": "slide"
    }
   },
   "source": [
    "Again, we have not visited the whole graph, because nodes 8, 9, and 10 were not reachable.\n",
    "\n",
    "So we finish by calling `dfs(g, node, positions, visited)` from node 8."
   ]
  },
  {
   "cell_type": "code",
   "execution_count": 5,
   "metadata": {
    "slideshow": {
     "slide_type": "fragment"
    }
   },
   "outputs": [
    {
     "name": "stdout",
     "output_type": "stream",
     "text": [
      "[8, 9, 6, 7, 0, 3, 4, 5, 1, 2]\n"
     ]
    }
   ],
   "source": [
    "dfs(g, 8, positions, visited)\n",
    "print(positions)"
   ]
  },
  {
   "cell_type": "markdown",
   "metadata": {
    "slideshow": {
     "slide_type": "slide"
    }
   },
   "source": [
    "We still have not visited the whole graph, as node 10 is unreachable. \n",
    "\n",
    "So we finish by calling `dfs(g, node, positions, visited)` from node 10. Yes, this is trivial, but we should do it to complete the exploration.\n",
    "\n",
    "When we finish, the `positions` list contains the nodes in topological sort."
   ]
  },
  {
   "cell_type": "code",
   "execution_count": 6,
   "metadata": {
    "slideshow": {
     "slide_type": "fragment"
    }
   },
   "outputs": [
    {
     "name": "stdout",
     "output_type": "stream",
     "text": [
      "[10, 8, 9, 6, 7, 0, 3, 4, 5, 1, 2]\n"
     ]
    }
   ],
   "source": [
    "dfs(g, 10, positions, visited)\n",
    "print(positions)"
   ]
  },
  {
   "cell_type": "markdown",
   "metadata": {
    "slideshow": {
     "slide_type": "slide"
    }
   },
   "source": [
    "Note that we could have started from node 0, and then begin a new exploration from node 8, and then go to 10. \n",
    "\n",
    "Indeed, let's see what happens. \n",
    "\n",
    "We need to initialize `positions` and `visited` again before we start."
   ]
  },
  {
   "cell_type": "code",
   "execution_count": 7,
   "metadata": {
    "slideshow": {
     "slide_type": "fragment"
    }
   },
   "outputs": [
    {
     "name": "stdout",
     "output_type": "stream",
     "text": [
      "[0, 3, 4, 5, 1, 2]\n"
     ]
    }
   ],
   "source": [
    "positions = []\n",
    "visited = [ False ] * len(g)\n",
    "\n",
    "dfs(g, 0, positions, visited)\n",
    "print(positions)"
   ]
  },
  {
   "cell_type": "markdown",
   "metadata": {
    "slideshow": {
     "slide_type": "slide"
    }
   },
   "source": [
    "Then we continue from node 8:"
   ]
  },
  {
   "cell_type": "code",
   "execution_count": 8,
   "metadata": {
    "slideshow": {
     "slide_type": "fragment"
    }
   },
   "outputs": [
    {
     "name": "stdout",
     "output_type": "stream",
     "text": [
      "[8, 9, 6, 7, 0, 3, 4, 5, 1, 2]\n"
     ]
    }
   ],
   "source": [
    "dfs(g, 8, positions, visited)\n",
    "print(positions)"
   ]
  },
  {
   "cell_type": "markdown",
   "metadata": {
    "slideshow": {
     "slide_type": "slide"
    }
   },
   "source": [
    "And we wrap up with node 10:"
   ]
  },
  {
   "cell_type": "code",
   "execution_count": 9,
   "metadata": {},
   "outputs": [
    {
     "name": "stdout",
     "output_type": "stream",
     "text": [
      "[10, 8, 9, 6, 7, 0, 3, 4, 5, 1, 2]\n"
     ]
    }
   ],
   "source": [
    "dfs(g, 10, positions, visited)\n",
    "print(positions)"
   ]
  },
  {
   "cell_type": "markdown",
   "metadata": {
    "slideshow": {
     "slide_type": "slide"
    }
   },
   "source": [
    "Our steps show us how topolotical sort should be implemented.\n",
    "\n",
    "Just call `dfs()` enough times to cover the whole graph.\n",
    "\n",
    "That is what we do in the following function. \n",
    "\n",
    "Starting from node 0, we perform as many depth-first searches as needed to make sure that no node is left unvisited."
   ]
  },
  {
   "cell_type": "code",
   "execution_count": 10,
   "metadata": {
    "slideshow": {
     "slide_type": "slide"
    }
   },
   "outputs": [],
   "source": [
    "def topological_sort(g):\n",
    "\n",
    "    positions = []\n",
    "    visited = [ False ] * len(g)\n",
    "    \n",
    "    num_nodes = len(g)\n",
    "    \n",
    "    for i in range(num_nodes):\n",
    "        if not visited[i]:\n",
    "            dfs(g, i, positions, visited)\n",
    "            \n",
    "    return positions"
   ]
  },
  {
   "cell_type": "markdown",
   "metadata": {
    "slideshow": {
     "slide_type": "slide"
    }
   },
   "source": [
    "We can test it directly on our graph:"
   ]
  },
  {
   "cell_type": "code",
   "execution_count": 11,
   "metadata": {
    "slideshow": {
     "slide_type": "fragment"
    }
   },
   "outputs": [
    {
     "name": "stdout",
     "output_type": "stream",
     "text": [
      "[10, 8, 9, 6, 7, 0, 3, 4, 5, 1, 2]\n"
     ]
    }
   ],
   "source": [
    "topologically_sorted_nodes = topological_sort(g)\n",
    "print(topologically_sorted_nodes)"
   ]
  },
  {
   "cell_type": "markdown",
   "metadata": {
    "slideshow": {
     "slide_type": "slide"
    }
   },
   "source": [
    "Note that in Python, inserting at the front of a list is slower than appending at the end. \n",
    "\n",
    "So if we wanted a more efficient implementation, we would add items at the end of `positions` and then we would just reverse the result."
   ]
  },
  {
   "cell_type": "code",
   "execution_count": 12,
   "metadata": {
    "slideshow": {
     "slide_type": "slide"
    }
   },
   "outputs": [],
   "source": [
    "def dfs(g, node, positions, visited):\n",
    "\n",
    "    visited[node] = True\n",
    "    for v in g[node]:\n",
    "        if not visited[v]:\n",
    "            dfs(g, v, positions, visited)\n",
    "    positions.append(node)\n",
    "    \n",
    "def topological_sort(g):\n",
    "\n",
    "    positions = []\n",
    "    visited = [ False ] * len(g)\n",
    "    \n",
    "    num_nodes = len(g.keys())\n",
    "    \n",
    "    for i in range(num_nodes):\n",
    "        if not visited[i]:\n",
    "            dfs(g, i, positions, visited)\n",
    "            \n",
    "    positions.reverse()\n",
    "    return positions"
   ]
  },
  {
   "cell_type": "markdown",
   "metadata": {
    "slideshow": {
     "slide_type": "slide"
    }
   },
   "source": [
    "We can verify that we produce correct results."
   ]
  },
  {
   "cell_type": "code",
   "execution_count": 13,
   "metadata": {
    "slideshow": {
     "slide_type": "fragment"
    }
   },
   "outputs": [
    {
     "name": "stdout",
     "output_type": "stream",
     "text": [
      "[10, 8, 9, 6, 7, 0, 3, 4, 5, 1, 2]\n"
     ]
    }
   ],
   "source": [
    "topologically_sorted_nodes = topological_sort(g)\n",
    "print(topologically_sorted_nodes)"
   ]
  },
  {
   "cell_type": "markdown",
   "metadata": {
    "slideshow": {
     "slide_type": "slide"
    }
   },
   "source": [
    "## Weighted Graphs\n",
    "\n",
    "In *weighted graphs* we associate a weight with each edge.\n",
    "\n",
    "We can think of unweighted graphs as weighted graphs in which every edge has weight equal to one.\n",
    "\n",
    "We can represented weighted graphs with adjacency matrices or with adjacency lists.\n",
    "\n",
    "In adjacency matrices we store the weight of edge $(v, u)$ at the cell at position $(v, u)$ of the matrix.\n",
    "\n",
    "In adjacency lists we store the weight along with each link."
   ]
  },
  {
   "cell_type": "markdown",
   "metadata": {
    "slideshow": {
     "slide_type": "slide"
    }
   },
   "source": [
    "The following function reads a directed weighted graph from a text file.\n",
    "\n",
    "The text file contains an edge in each line and its weight.\n",
    "\n",
    "An example file is [weighted_graph.txt](weighted_graph.txt):\n",
    "\n",
    "```\n",
    "0 1 10\n",
    "0 3 4\n",
    "1 2 7\n",
    "1 5 5\n",
    "2 3 0\n",
    "2 4 9\n",
    "3 4 8\n",
    "4 5 1\n",
    "```"
   ]
  },
  {
   "cell_type": "markdown",
   "metadata": {
    "slideshow": {
     "slide_type": "slide"
    }
   },
   "source": [
    "It corresponds to the following graph:\n",
    "\n",
    "<img width=\"400\" src=\"weighted_graph.png\"/>"
   ]
  },
  {
   "cell_type": "code",
   "execution_count": 14,
   "metadata": {
    "slideshow": {
     "slide_type": "slide"
    }
   },
   "outputs": [],
   "source": [
    "def read_weighted_graph(filename):\n",
    "    graph = {}\n",
    "    with open(filename) as input_file:\n",
    "        for line in input_file:\n",
    "            [n1, n2, w] = [ int (x) for x in line.split() ]\n",
    "            if n1 not in graph:\n",
    "                graph[n1] = []\n",
    "            if n2 not in graph:\n",
    "                graph[n2] = []\n",
    "            graph[n1].append((n2, w))\n",
    "    return graph"
   ]
  },
  {
   "cell_type": "markdown",
   "metadata": {
    "slideshow": {
     "slide_type": "slide"
    }
   },
   "source": [
    "We can test it on [weighted_graph.txt](weighted_graph.txt) to see what we get:"
   ]
  },
  {
   "cell_type": "code",
   "execution_count": 15,
   "metadata": {
    "slideshow": {
     "slide_type": "fragment"
    }
   },
   "outputs": [
    {
     "name": "stdout",
     "output_type": "stream",
     "text": [
      "{0: [(1, 10), (3, 4)],\n",
      " 1: [(2, 7), (5, 5)],\n",
      " 2: [(3, 0), (4, 9)],\n",
      " 3: [(4, 8)],\n",
      " 4: [(5, 1)],\n",
      " 5: []}\n"
     ]
    }
   ],
   "source": [
    "import pprint\n",
    "\n",
    "g = read_weighted_graph('weighted_graph.txt')\n",
    "pprint.pprint(g)"
   ]
  },
  {
   "cell_type": "markdown",
   "metadata": {
    "slideshow": {
     "slide_type": "slide"
    }
   },
   "source": [
    "Adjancency lists now contain *tuples*. \n",
    "\n",
    "The first element of each tuple is the node, the second is the weight of the corresponding link.\n",
    "\n",
    "Note that we append to each list, so that the tuples in the list are in the reverse order than in Figure 6.7 in the book.\n",
    "\n",
    "That does not matter. If we want, we can change `graph[n1].append((n2, w))` to `graph[n1].insert(0, (n2, w))`, but that would be less efficient as appending at the end of a list is faster in Python."
   ]
  },
  {
   "cell_type": "markdown",
   "metadata": {
    "slideshow": {
     "slide_type": "slide"
    }
   },
   "source": [
    "There is another way to represent weighted graphs.\n",
    "\n",
    "We just keep the adjacency lists the same with unweighted graphs, and we use a map to hold the weight for each edge.\n",
    "\n",
    "Let's write a function `read_weighted_graph_wm(filename)` (wm stands for weighs' map) that does that.\n",
    "\n",
    "The function will return the adjacency list representation of a graph *and* a map associating edges with weights.\n",
    "\n",
    "This representation has the advantage that we can use it directly with our depth-first search and topological sort implementations, which expect simple adjacency lists without weights."
   ]
  },
  {
   "cell_type": "code",
   "execution_count": 16,
   "metadata": {
    "slideshow": {
     "slide_type": "slide"
    }
   },
   "outputs": [],
   "source": [
    "def read_weighted_graph_wm(filename):\n",
    "    graph = {}\n",
    "    weights = {}\n",
    "    with open(filename) as input_file:\n",
    "        for line in input_file:\n",
    "            [n1, n2, w] = [ int (x) for x in line.split() ]\n",
    "            if n1 not in graph:\n",
    "                graph[n1] = []\n",
    "            if n2 not in graph:\n",
    "                graph[n2] = []\n",
    "            graph[n1].append(n2)\n",
    "            weights[(n1, n2)] = w\n",
    "    return (graph, weights)\n"
   ]
  },
  {
   "cell_type": "markdown",
   "metadata": {
    "slideshow": {
     "slide_type": "slide"
    }
   },
   "source": [
    "We can test this one too on [weighted_graph.txt](weighted_graph.txt) to see what we get:"
   ]
  },
  {
   "cell_type": "code",
   "execution_count": 17,
   "metadata": {
    "slideshow": {
     "slide_type": "fragment"
    }
   },
   "outputs": [
    {
     "name": "stdout",
     "output_type": "stream",
     "text": [
      "{0: [1, 3], 1: [2, 5], 2: [3, 4], 3: [4], 4: [5], 5: []}\n",
      "{(0, 1): 10,\n",
      " (0, 3): 4,\n",
      " (1, 2): 7,\n",
      " (1, 5): 5,\n",
      " (2, 3): 0,\n",
      " (2, 4): 9,\n",
      " (3, 4): 8,\n",
      " (4, 5): 1}\n"
     ]
    }
   ],
   "source": [
    "g, w = read_weighted_graph_wm('weighted_graph.txt')\n",
    "pprint.pprint(g)\n",
    "pprint.pprint(w)"
   ]
  },
  {
   "cell_type": "markdown",
   "metadata": {
    "slideshow": {
     "slide_type": "slide"
    }
   },
   "source": [
    "## Critical Paths\n",
    "\n",
    "Finding the critical path in a graph is an application of topological sorting.\n",
    "\n",
    "But before we really start looking for the critical path, we need to adjust the graph so that it has a *source* and a *sink*.\n",
    "\n",
    "The source is a node that precedes all other nodes. It is a node that we add with links pointing to any nodes that are not the destination of any existing edge.\n",
    "\n",
    "The target is a node that follows all other nodes. It is a node that we add with links from any nodes that do not point to any other node."
   ]
  },
  {
   "cell_type": "markdown",
   "metadata": {
    "slideshow": {
     "slide_type": "slide"
    }
   },
   "source": [
    "That means that if we have the following graph:\n",
    "\n",
    "<img width=\"400\" src=\"task_scheduling_graph.png\"/>"
   ]
  },
  {
   "cell_type": "markdown",
   "metadata": {
    "slideshow": {
     "slide_type": "slide"
    }
   },
   "source": [
    "We want to transform it to this one:\n",
    "\n",
    "<img width=\"500\" src=\"task_scheduling_graph_s_t.png\"/>"
   ]
  },
  {
   "cell_type": "markdown",
   "metadata": {
    "slideshow": {
     "slide_type": "slide"
    }
   },
   "source": [
    "That is not difficult to do.\n",
    "\n",
    "We'll start by finding the nodes that are pointed to by other nodes.\n",
    "\n",
    "We'll use them to find the nodes that are *not* pointed to by any other nodes. We can do that by taking the set difference between the set of all nodes and the set of the nodes pointed to by other nodes.\n",
    "\n",
    "Then we'll find the nodes that point nowhere; that's the nodes with an empty adjacency list.\n",
    "\n",
    "And then we'll add the source and the sink nodes.\n",
    "\n",
    "If $n$ is the number of nodes in the graph (from $0$ to $n - 1$), we'll call $n$ the source node and $n+1$ the sink node."
   ]
  },
  {
   "cell_type": "code",
   "execution_count": 18,
   "metadata": {
    "slideshow": {
     "slide_type": "slide"
    }
   },
   "outputs": [],
   "source": [
    "def add_source_sink(g):\n",
    "    # Find the nodes that no node points to them.\n",
    "    # To do that, we need first to find the nodes\n",
    "    # that are pointed to by other nodes.\n",
    "    to_nodes = { v for u in g.keys() for v in g[u] }\n",
    "    # Then we just take the difference with\n",
    "    # the full set of nodes.\n",
    "    no_previous = g.keys() - to_nodes\n",
    "    # Find the nodes that point nowhere.\n",
    "    # That is easy, we just need to find those with\n",
    "    # an empty adjacency list.\n",
    "    no_next = { u for u in g.keys() if len(g[u]) == 0 }\n",
    "    # Get the number of nodes in the graph.\n",
    "    num_nodes = len(g.keys())\n",
    "    # Add source node.\n",
    "    # As num_nodes is the number of nodes in the graph,\n",
    "    # we can use it as the name of the source node.\n",
    "    source = num_nodes\n",
    "    g[source] = [ u for u in no_previous ] # all zero weights\n",
    "    num_nodes += 1\n",
    "    # Add sink node.\n",
    "    # Again, we can use num_nodes (which we increased by one)\n",
    "    # as the name of the target node.\n",
    "    sink = num_nodes\n",
    "    g[sink] = [ ]    \n",
    "    for node in no_next:\n",
    "        g[node].append(sink) # all zero weights\n",
    "    return (source, sink)"
   ]
  },
  {
   "cell_type": "markdown",
   "metadata": {
    "slideshow": {
     "slide_type": "slide"
    }
   },
   "source": [
    "With `add_source_sink(g)` at hand, we can proceed to implement the function that finds the critical path.\n",
    "\n",
    "As a first step, it will call `add_source_sink(g)` to our graph.\n",
    "\n",
    "The function will return two lists:\n",
    "  * The first list will have at each position $i$ the predecessor of the node $i$ in the critical path.\n",
    "  * The second list will have at each position $i$ the distance of node $i$ from the source in the critical path.\n",
    "  \n",
    "We will initialize both to -1.\n",
    "\n",
    "Then finding the critical path is only a matter of relaxation of the distances from -1 to larger values. "
   ]
  },
  {
   "cell_type": "markdown",
   "metadata": {
    "slideshow": {
     "slide_type": "slide"
    }
   },
   "source": [
    "We will use the second representation of a weighted graph with two structures, one for the adjacency lists and one for the weights.\n",
    "\n",
    "This allows us not to introduce explicit zero weights for the edges of the source and the sink nodes.\n",
    "\n",
    "We use the `get(k, default)` method of dictionaries, which returns the value associated with the key `k`, if it exists, or the value that we supply as `default`, otherwise."
   ]
  },
  {
   "cell_type": "code",
   "execution_count": 19,
   "metadata": {
    "slideshow": {
     "slide_type": "slide"
    }
   },
   "outputs": [],
   "source": [
    "def critical_path(g, w):\n",
    "    source, sink = add_source_sink(g)\n",
    "    n = len(g.keys())\n",
    "    pred = [ -1 ] * n # list of predecessors in critical path\n",
    "    dist = [ -1 ] * n # list of distances to nodes \n",
    "\n",
    "    dist[source] = 0 # correct distance to source to 0\n",
    "    tsorted = topological_sort(g)\n",
    "    for u in tsorted:\n",
    "        for v in g[u]:\n",
    "            if dist[v] < dist[u] + w.get((u, v), 0):\n",
    "                dist[v] = dist[u] + w.get((u, v), 0)\n",
    "                pred[v] = u\n",
    "    return (pred, dist)"
   ]
  },
  {
   "cell_type": "markdown",
   "metadata": {
    "slideshow": {
     "slide_type": "slide"
    }
   },
   "source": [
    "To check our implementation, we can use the [task_scheduling_graph.txt](task_scheduling_graph.txt) file, which is the graph that we used as an example for adding a source and a sink."
   ]
  },
  {
   "cell_type": "code",
   "execution_count": 20,
   "metadata": {
    "slideshow": {
     "slide_type": "subslide"
    }
   },
   "outputs": [],
   "source": [
    "g, w = read_weighted_graph_wm('task_scheduling_graph.txt')"
   ]
  },
  {
   "cell_type": "markdown",
   "metadata": {
    "slideshow": {
     "slide_type": "slide"
    }
   },
   "source": [
    "After reading the graph from the file, `g` contains the adjacency lists:"
   ]
  },
  {
   "cell_type": "code",
   "execution_count": 21,
   "metadata": {
    "slideshow": {
     "slide_type": "fragment"
    }
   },
   "outputs": [
    {
     "name": "stdout",
     "output_type": "stream",
     "text": [
      "{0: [1],\n",
      " 1: [2],\n",
      " 2: [3],\n",
      " 3: [4, 8],\n",
      " 4: [],\n",
      " 5: [6, 9],\n",
      " 6: [7],\n",
      " 7: [3, 8, 11],\n",
      " 8: [],\n",
      " 9: [10],\n",
      " 10: [11],\n",
      " 11: []}\n"
     ]
    }
   ],
   "source": [
    "pprint.pprint(g)"
   ]
  },
  {
   "cell_type": "markdown",
   "metadata": {
    "slideshow": {
     "slide_type": "slide"
    }
   },
   "source": [
    "The dictionary `w` contains the weights:"
   ]
  },
  {
   "cell_type": "code",
   "execution_count": 22,
   "metadata": {
    "slideshow": {
     "slide_type": "fragment"
    }
   },
   "outputs": [
    {
     "name": "stdout",
     "output_type": "stream",
     "text": [
      "{(0, 1): 17,\n",
      " (1, 2): 13,\n",
      " (2, 3): 9,\n",
      " (3, 4): 11,\n",
      " (3, 8): 10,\n",
      " (5, 6): 11,\n",
      " (5, 9): 15,\n",
      " (6, 7): 18,\n",
      " (7, 3): 16,\n",
      " (7, 8): 13,\n",
      " (7, 11): 19,\n",
      " (9, 10): 14,\n",
      " (10, 11): 17}\n"
     ]
    }
   ],
   "source": [
    "pprint.pprint(w)"
   ]
  },
  {
   "cell_type": "markdown",
   "metadata": {
    "slideshow": {
     "slide_type": "slide"
    }
   },
   "source": [
    "We can proceed with finding the critical path."
   ]
  },
  {
   "cell_type": "code",
   "execution_count": 23,
   "metadata": {
    "slideshow": {
     "slide_type": "fragment"
    }
   },
   "outputs": [
    {
     "name": "stdout",
     "output_type": "stream",
     "text": [
      "pred [12, 0, 1, 7, 3, 12, 5, 6, 3, 5, 9, 7, -1, 4]\n",
      "dist [0, 17, 30, 45, 56, 0, 11, 29, 55, 15, 29, 48, 0, 56]\n"
     ]
    }
   ],
   "source": [
    "pred, dist = critical_path(g, w)\n",
    "print('pred', pred)\n",
    "print('dist', dist)"
   ]
  },
  {
   "cell_type": "markdown",
   "metadata": {
    "slideshow": {
     "slide_type": "slide"
    }
   },
   "source": [
    "So we see that the predecessor of node 0 is node 12, which is the source node, which has no predecessor (-1).\n",
    "\n",
    "Similarly, the predecessor of node 13, the sink node, is node 4, whose predecessor is node 3, whose predecessor is node 7, and so on.\n",
    "\n",
    "The length of the critical path is the last element of `dist`."
   ]
  },
  {
   "cell_type": "code",
   "execution_count": 24,
   "metadata": {
    "slideshow": {
     "slide_type": "fragment"
    }
   },
   "outputs": [
    {
     "name": "stdout",
     "output_type": "stream",
     "text": [
      "Critical path length = 56\n"
     ]
    }
   ],
   "source": [
    "print('Critical path length =', dist[-1])"
   ]
  },
  {
   "cell_type": "markdown",
   "metadata": {
    "slideshow": {
     "slide_type": "slide"
    }
   },
   "source": [
    "Of course, it is not difficult to write a little function that we'll do that lookup up for us:"
   ]
  },
  {
   "cell_type": "code",
   "execution_count": 25,
   "metadata": {
    "scrolled": true,
    "slideshow": {
     "slide_type": "slide"
    }
   },
   "outputs": [
    {
     "name": "stdout",
     "output_type": "stream",
     "text": [
      "[12, 5, 6, 7, 3, 4, 13]\n"
     ]
    }
   ],
   "source": [
    "def get_critical_path(pred):\n",
    "    path = []\n",
    "    t = len(pred) - 1 # position of sink node\n",
    "    while t != -1:\n",
    "        path.insert(0, t)\n",
    "        t = pred[t]\n",
    "    return path\n",
    "\n",
    "print(get_critical_path(pred))"
   ]
  },
  {
   "cell_type": "markdown",
   "metadata": {
    "slideshow": {
     "slide_type": "fragment"
    }
   },
   "source": [
    "Remember that we named the source node $n$ and the sink node $n+1$, where $n$ is the number of nodes in the initial graph, so the sink node is at position `len(pred) - 1`."
   ]
  },
  {
   "cell_type": "markdown",
   "metadata": {
    "slideshow": {
     "slide_type": "slide"
    }
   },
   "source": [
    "Recall also that in Python it is more efficient to append items at the end of the list rather than inserting in the beginning.\n",
    "\n",
    "So we could rewrite `get_critical_path()` as follows:"
   ]
  },
  {
   "cell_type": "code",
   "execution_count": 26,
   "metadata": {
    "slideshow": {
     "slide_type": "fragment"
    }
   },
   "outputs": [
    {
     "name": "stdout",
     "output_type": "stream",
     "text": [
      "[12, 5, 6, 7, 3, 4, 13]\n"
     ]
    }
   ],
   "source": [
    "def get_critical_path(pred):\n",
    "    path = []\n",
    "    t = len(pred) - 1\n",
    "    while t != -1:\n",
    "        path.append(t)\n",
    "        t = pred[t]\n",
    "    path.reverse()\n",
    "    return path\n",
    "\n",
    "print(get_critical_path(pred))"
   ]
  }
 ],
 "metadata": {
  "celltoolbar": "Slideshow",
  "kernelspec": {
   "display_name": "Python 3 (ipykernel)",
   "language": "python",
   "name": "python3"
  },
  "language_info": {
   "codemirror_mode": {
    "name": "ipython",
    "version": 3
   },
   "file_extension": ".py",
   "mimetype": "text/x-python",
   "name": "python",
   "nbconvert_exporter": "python",
   "pygments_lexer": "ipython3",
   "version": "3.9.12"
  }
 },
 "nbformat": 4,
 "nbformat_minor": 1
}
