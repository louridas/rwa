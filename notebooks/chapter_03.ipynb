{
 "cells": [
  {
   "cell_type": "markdown",
   "metadata": {
    "slideshow": {
     "slide_type": "slide"
    }
   },
   "source": [
    "# Compressing\n",
    "\n",
    "Chapter 3 of [Real-World Algorithms](https://mitpress.mit.edu/books/real-world-algorithms).\n",
    "\n",
    "---\n",
    "\n",
    "> Panos Louridas<br />\n",
    "> Athens University of Economics and Business"
   ]
  },
  {
   "cell_type": "markdown",
   "metadata": {
    "slideshow": {
     "slide_type": "slide"
    }
   },
   "source": [
    "# Huffman Encoding\n",
    "\n",
    "To implement Huffman encoding we need a priority queue.\n",
    "\n",
    "We will implement the priority queue as a min-heap.\n",
    "\n",
    "A min-heap is a complete binary tree in which the value of each node is less than or equal to the values of its children.\n",
    "\n",
    "The heap will be implemented as an array with the root of the heap at position 0. Then for each node, $i$, its left child is at position $2i + 1$ and its right child is at position $2i + 2$. "
   ]
  },
  {
   "cell_type": "markdown",
   "metadata": {
    "slideshow": {
     "slide_type": "fragment"
    }
   },
   "source": [
    "```\n",
    "         6\n",
    "       /   \\\n",
    "      11    8\n",
    "     / \\   / \\\n",
    "    17 19 13 12\n",
    "   \n",
    "[6, 11, 8, 17, 19, 13, 12]\n",
    "```"
   ]
  },
  {
   "cell_type": "markdown",
   "metadata": {
    "slideshow": {
     "slide_type": "slide"
    }
   },
   "source": [
    "We create a priority queue by creating an empty list:"
   ]
  },
  {
   "cell_type": "code",
   "execution_count": 1,
   "metadata": {
    "slideshow": {
     "slide_type": "fragment"
    }
   },
   "outputs": [],
   "source": [
    "def create_pq():\n",
    "    return []"
   ]
  },
  {
   "cell_type": "markdown",
   "metadata": {
    "slideshow": {
     "slide_type": "slide"
    }
   },
   "source": [
    "To insert an element in the priority queue, we will first put it at the end of the corresponding list (so it will be at the bottom of the queue, or the equivalent min-heap).\n",
    "\n",
    "Then the element will start floating up until it reaches a level where it is smaller than its parent node.\n",
    "\n",
    "Here is the function that simply adds an element at the end of the priority queue."
   ]
  },
  {
   "cell_type": "code",
   "execution_count": 2,
   "metadata": {
    "slideshow": {
     "slide_type": "fragment"
    }
   },
   "outputs": [],
   "source": [
    "def add_last(pq, c):\n",
    "    pq.append(c)"
   ]
  },
  {
   "cell_type": "markdown",
   "metadata": {
    "slideshow": {
     "slide_type": "slide"
    }
   },
   "source": [
    "It will also be useful to have some helper functions for the priority queue.\n",
    "\n",
    "We need a function that returns the position of the root, i.e., the first element in the queue for a non-empty queue. That is simple, it will always be position 0.\n",
    "\n",
    "Then, we need a function that assigns an element to the root of a non-empty queue. If the queue is empty, nothing will be done; otherwise, the item will be assigned to position 0."
   ]
  },
  {
   "cell_type": "code",
   "execution_count": 3,
   "metadata": {
    "slideshow": {
     "slide_type": "fragment"
    }
   },
   "outputs": [],
   "source": [
    "def root(pq):\n",
    "    return 0\n",
    "\n",
    "def set_root(pq, c):\n",
    "    if len(pq) != 0:\n",
    "        pq[0] = c"
   ]
  },
  {
   "cell_type": "markdown",
   "metadata": {
    "slideshow": {
     "slide_type": "slide"
    }
   },
   "source": [
    "We also need a function that will return the data stored at a specified position in the queue. \n",
    "\n",
    "In essence, that is just the element at that position in the list."
   ]
  },
  {
   "cell_type": "code",
   "execution_count": 4,
   "metadata": {
    "slideshow": {
     "slide_type": "fragment"
    }
   },
   "outputs": [],
   "source": [
    "def get_data(pq, p):\n",
    "    return pq[p]"
   ]
  },
  {
   "cell_type": "markdown",
   "metadata": {
    "slideshow": {
     "slide_type": "slide"
    }
   },
   "source": [
    "As we have said, the children of node $c$ are at positions $2c + 1$ and $2c + 2$. \n",
    "\n",
    "So, here is the function that returns the children of a node in the queue.\n",
    "\n",
    "Note that we must be careful to return the right number of children.\n",
    "\n",
    "A node that has children has always two children, except if its only child is the last element of the queue; check the two following examples:\n",
    "\n",
    "```\n",
    "         6                           6                   \n",
    "       /   \\                       /   \\                 \n",
    "      11    8                     11    8                \n",
    "     / \\   / \\                   / \\   /                \n",
    "    17 19 13 12                 17 19 13               \n",
    "                                                         \n",
    "[6, 11, 8, 17, 19, 13, 12]  [6, 11, 8, 17, 19, 13]   \n",
    "```"
   ]
  },
  {
   "cell_type": "code",
   "execution_count": 5,
   "metadata": {
    "slideshow": {
     "slide_type": "fragment"
    }
   },
   "outputs": [],
   "source": [
    "def children(pq, p):\n",
    "    if 2*p + 2 < len(pq):\n",
    "        return [2*p + 1, 2*p + 2]\n",
    "    else:\n",
    "        return [2*p + 1]"
   ]
  },
  {
   "cell_type": "markdown",
   "metadata": {
    "slideshow": {
     "slide_type": "slide"
    }
   },
   "source": [
    "Conversely, the parent of a node at position $c$ is at position $\\lfloor(c - 1)\\rfloor / 2$."
   ]
  },
  {
   "cell_type": "code",
   "execution_count": 6,
   "metadata": {
    "slideshow": {
     "slide_type": "fragment"
    }
   },
   "outputs": [],
   "source": [
    "def parent(p):\n",
    "    return (p - 1) // 2"
   ]
  },
  {
   "cell_type": "markdown",
   "metadata": {
    "slideshow": {
     "slide_type": "slide"
    }
   },
   "source": [
    "To swap two elements of the queue we will use the following function:"
   ]
  },
  {
   "cell_type": "code",
   "execution_count": 7,
   "metadata": {
    "slideshow": {
     "slide_type": "fragment"
    }
   },
   "outputs": [],
   "source": [
    "def exchange(pq, p1, p2):\n",
    "    pq[p1], pq[p2] = pq[p2], pq[p1]"
   ]
  },
  {
   "cell_type": "markdown",
   "metadata": {
    "slideshow": {
     "slide_type": "slide"
    }
   },
   "source": [
    "With all this in place, here is how we can insert an element in the priority queue:"
   ]
  },
  {
   "cell_type": "code",
   "execution_count": 8,
   "metadata": {
    "slideshow": {
     "slide_type": "fragment"
    }
   },
   "outputs": [],
   "source": [
    "def insert_in_pq(pq, c):\n",
    "    add_last(pq, c)\n",
    "    i = len(pq) - 1\n",
    "    while i != root(pq) and get_data(pq, i) < get_data(pq, parent(i)):\n",
    "        p = parent(i)\n",
    "        exchange(pq, i, p)\n",
    "        i = p"
   ]
  },
  {
   "cell_type": "markdown",
   "metadata": {
    "slideshow": {
     "slide_type": "slide"
    }
   },
   "source": [
    "We can follow the queue construction process step-by-step."
   ]
  },
  {
   "cell_type": "code",
   "execution_count": 9,
   "metadata": {
    "slideshow": {
     "slide_type": "fragment"
    }
   },
   "outputs": [
    {
     "name": "stdout",
     "output_type": "stream",
     "text": [
      "[11]\n"
     ]
    }
   ],
   "source": [
    "min_queue = create_pq()\n",
    "insert_in_pq(min_queue, 11)\n",
    "print(min_queue)"
   ]
  },
  {
   "cell_type": "markdown",
   "metadata": {
    "slideshow": {
     "slide_type": "fragment"
    }
   },
   "source": [
    "```\n",
    "  11\n",
    "\n",
    "```"
   ]
  },
  {
   "cell_type": "code",
   "execution_count": 10,
   "metadata": {
    "slideshow": {
     "slide_type": "slide"
    }
   },
   "outputs": [
    {
     "name": "stdout",
     "output_type": "stream",
     "text": [
      "[11, 17]\n"
     ]
    }
   ],
   "source": [
    "insert_in_pq(min_queue, 17)\n",
    "print(min_queue)"
   ]
  },
  {
   "cell_type": "markdown",
   "metadata": {
    "slideshow": {
     "slide_type": "fragment"
    }
   },
   "source": [
    "```\n",
    "   11\n",
    "  /\n",
    " 17\n",
    "```"
   ]
  },
  {
   "cell_type": "code",
   "execution_count": 11,
   "metadata": {
    "slideshow": {
     "slide_type": "slide"
    }
   },
   "outputs": [
    {
     "name": "stdout",
     "output_type": "stream",
     "text": [
      "[11, 17, 12]\n"
     ]
    }
   ],
   "source": [
    "insert_in_pq(min_queue, 12)\n",
    "print(min_queue)"
   ]
  },
  {
   "cell_type": "markdown",
   "metadata": {
    "slideshow": {
     "slide_type": "fragment"
    }
   },
   "source": [
    "```\n",
    "   11\n",
    "  /  \\\n",
    " 17  12\n",
    "```"
   ]
  },
  {
   "cell_type": "code",
   "execution_count": 12,
   "metadata": {
    "slideshow": {
     "slide_type": "slide"
    }
   },
   "outputs": [
    {
     "name": "stdout",
     "output_type": "stream",
     "text": [
      "[8, 11, 12, 17]\n"
     ]
    }
   ],
   "source": [
    "insert_in_pq(min_queue, 8)\n",
    "print(min_queue)"
   ]
  },
  {
   "cell_type": "markdown",
   "metadata": {
    "slideshow": {
     "slide_type": "fragment"
    }
   },
   "source": [
    "```\n",
    "     8\n",
    "   /  \\ \n",
    "  11  12\n",
    " /\n",
    "17\n",
    "```"
   ]
  },
  {
   "cell_type": "code",
   "execution_count": 13,
   "metadata": {
    "slideshow": {
     "slide_type": "slide"
    }
   },
   "outputs": [
    {
     "name": "stdout",
     "output_type": "stream",
     "text": [
      "[8, 11, 12, 17, 19]\n"
     ]
    }
   ],
   "source": [
    "insert_in_pq(min_queue, 19)\n",
    "print(min_queue)"
   ]
  },
  {
   "cell_type": "markdown",
   "metadata": {
    "slideshow": {
     "slide_type": "fragment"
    }
   },
   "source": [
    "```\n",
    "     8\n",
    "   /  \\ \n",
    "  11  12\n",
    " / \\\n",
    "17 19\n",
    "```\n"
   ]
  },
  {
   "cell_type": "code",
   "execution_count": 14,
   "metadata": {
    "slideshow": {
     "slide_type": "slide"
    }
   },
   "outputs": [
    {
     "name": "stdout",
     "output_type": "stream",
     "text": [
      "[8, 11, 12, 17, 19, 13]\n"
     ]
    }
   ],
   "source": [
    "insert_in_pq(min_queue, 13)\n",
    "print(min_queue)"
   ]
  },
  {
   "cell_type": "markdown",
   "metadata": {
    "slideshow": {
     "slide_type": "fragment"
    }
   },
   "source": [
    "```\n",
    "      8\n",
    "    /   \\ \n",
    "  11    12\n",
    " / \\    /\n",
    "17 19  13\n",
    "```"
   ]
  },
  {
   "cell_type": "code",
   "execution_count": 15,
   "metadata": {
    "slideshow": {
     "slide_type": "slide"
    }
   },
   "outputs": [
    {
     "name": "stdout",
     "output_type": "stream",
     "text": [
      "[6, 11, 8, 17, 19, 13, 12]\n"
     ]
    }
   ],
   "source": [
    "insert_in_pq(min_queue, 6)\n",
    "print(min_queue)"
   ]
  },
  {
   "cell_type": "markdown",
   "metadata": {
    "slideshow": {
     "slide_type": "fragment"
    }
   },
   "source": [
    "```\n",
    "         6\n",
    "       /   \\\n",
    "      11    8\n",
    "     / \\   / \\\n",
    "    17 19 13 12\n",
    "```"
   ]
  },
  {
   "cell_type": "markdown",
   "metadata": {
    "slideshow": {
     "slide_type": "slide"
    }
   },
   "source": [
    "Now we must implement the extraction of elements from the queue.\n",
    "\n",
    "To do that, we must use a helper function that will extract the *last* element of the queue.\n",
    "\n",
    "That is equivalent to removing the last element of the corresponding list."
   ]
  },
  {
   "cell_type": "code",
   "execution_count": 16,
   "metadata": {
    "slideshow": {
     "slide_type": "fragment"
    }
   },
   "outputs": [],
   "source": [
    "def extract_last_from_pq(pq):\n",
    "    return pq.pop()"
   ]
  },
  {
   "cell_type": "markdown",
   "metadata": {
    "slideshow": {
     "slide_type": "slide"
    }
   },
   "source": [
    "We will also need a function that will determine whether a given node has children.\n",
    "\n",
    "Remember that a node $p$ may have children at positions $2p + 1$ and $2p + 2$.\n",
    "\n",
    "Therefore we only need to check whether position $2p + 1$ is a valid position in the list."
   ]
  },
  {
   "cell_type": "code",
   "execution_count": 17,
   "metadata": {
    "slideshow": {
     "slide_type": "fragment"
    }
   },
   "outputs": [],
   "source": [
    "def has_children(pq, p):\n",
    "    return 2*p + 1 < len(pq)"
   ]
  },
  {
   "cell_type": "markdown",
   "metadata": {
    "slideshow": {
     "slide_type": "slide"
    }
   },
   "source": [
    "With this, we can write the following element extraction function.\n",
    "\n",
    "Note that inside the `while` loop we want to get the minimum of the children. To do that we use Python's `min()` function, telling it to use the data of each child for the comparison."
   ]
  },
  {
   "cell_type": "code",
   "execution_count": 18,
   "metadata": {
    "slideshow": {
     "slide_type": "fragment"
    }
   },
   "outputs": [],
   "source": [
    "def extract_min_from_pq(pq):\n",
    "    c = pq[root(pq)]\n",
    "    set_root(pq, extract_last_from_pq(pq))\n",
    "    i = root(pq)\n",
    "    while has_children(pq, i):\n",
    "        # Use the data stored at each child as the comparison key\n",
    "        # for finding the minimum.\n",
    "        j = min(children(pq, i), key=lambda x: get_data(pq, x))\n",
    "        if get_data(pq, i) < get_data(pq, j):\n",
    "            return c        \n",
    "        exchange(pq, i, j)\n",
    "        i = j\n",
    "    return c"
   ]
  },
  {
   "cell_type": "markdown",
   "metadata": {
    "slideshow": {
     "slide_type": "slide"
    }
   },
   "source": [
    "Let's see how it works in practice."
   ]
  },
  {
   "cell_type": "code",
   "execution_count": 19,
   "metadata": {
    "slideshow": {
     "slide_type": "fragment"
    }
   },
   "outputs": [
    {
     "name": "stdout",
     "output_type": "stream",
     "text": [
      "6\n",
      "[8, 11, 12, 17, 19, 13]\n"
     ]
    }
   ],
   "source": [
    "m = extract_min_from_pq(min_queue)\n",
    "print(m)\n",
    "print(min_queue)"
   ]
  },
  {
   "cell_type": "markdown",
   "metadata": {
    "slideshow": {
     "slide_type": "fragment"
    }
   },
   "source": [
    "```\n",
    "         8\n",
    "       /   \\\n",
    "      11   12\n",
    "     / \\   /\n",
    "    17 19 13\n",
    "```"
   ]
  },
  {
   "cell_type": "code",
   "execution_count": 20,
   "metadata": {
    "slideshow": {
     "slide_type": "slide"
    }
   },
   "outputs": [
    {
     "name": "stdout",
     "output_type": "stream",
     "text": [
      "8\n",
      "[11, 13, 12, 17, 19]\n"
     ]
    }
   ],
   "source": [
    "m = extract_min_from_pq(min_queue)\n",
    "print(m)\n",
    "print(min_queue)"
   ]
  },
  {
   "cell_type": "markdown",
   "metadata": {
    "slideshow": {
     "slide_type": "fragment"
    }
   },
   "source": [
    "```\n",
    "         11\n",
    "       /    \\\n",
    "      13    12\n",
    "     / \\   \n",
    "    17 19\n",
    "```"
   ]
  },
  {
   "cell_type": "markdown",
   "metadata": {
    "slideshow": {
     "slide_type": "slide"
    }
   },
   "source": [
    "With the priority queue in our hands we can implement Huffman encoding.\n",
    "\n",
    "We will adapt the example given in [Rosetta Code](https://rosettacode.org/wiki/Huffman_coding#Python).\n",
    "\n",
    "We start by reading the text that we want to compress and counting the frequencies of its characters.\n",
    "\n",
    "To do that we can use a dictionary."
   ]
  },
  {
   "cell_type": "code",
   "execution_count": 21,
   "metadata": {
    "slideshow": {
     "slide_type": "slide"
    }
   },
   "outputs": [
    {
     "name": "stdout",
     "output_type": "stream",
     "text": [
      "{' ': 8,\n",
      " '.': 1,\n",
      " 'T': 1,\n",
      " 'a': 3,\n",
      " 'c': 1,\n",
      " 'e': 4,\n",
      " 'h': 4,\n",
      " 'i': 2,\n",
      " 'm': 1,\n",
      " 'n': 1,\n",
      " 'o': 2,\n",
      " 'p': 2,\n",
      " 'r': 2,\n",
      " 's': 5,\n",
      " 't': 5,\n",
      " 'w': 2}\n"
     ]
    }
   ],
   "source": [
    "text = \"This is the phrase that we want to compress.\"\n",
    "\n",
    "symb2freq = {}\n",
    "for ch in text:\n",
    "    # If ch is not in the frequency table\n",
    "    # we have to create an entry for it\n",
    "    # initialized to zero.\n",
    "    if ch not in symb2freq:\n",
    "        symb2freq[ch] = 0\n",
    "    # Add one to the number of times we have\n",
    "    # seen ch.\n",
    "    symb2freq[ch] += 1\n",
    "\n",
    "import pprint\n",
    "\n",
    "pprint.pprint(symb2freq)"
   ]
  },
  {
   "cell_type": "markdown",
   "metadata": {
    "slideshow": {
     "slide_type": "slide"
    }
   },
   "source": [
    "Instead of using a bare-bones dictionary, it is more practical to use Python's `defaultdict`.\n",
    "\n",
    "This will add an entry with its value as zero if we try to access an element that does not already exist in the dictionary."
   ]
  },
  {
   "cell_type": "code",
   "execution_count": 22,
   "metadata": {
    "slideshow": {
     "slide_type": "fragment"
    }
   },
   "outputs": [
    {
     "name": "stdout",
     "output_type": "stream",
     "text": [
      "defaultdict(<class 'int'>,\n",
      "            {' ': 8,\n",
      "             '.': 1,\n",
      "             'T': 1,\n",
      "             'a': 3,\n",
      "             'c': 1,\n",
      "             'e': 4,\n",
      "             'h': 4,\n",
      "             'i': 2,\n",
      "             'm': 1,\n",
      "             'n': 1,\n",
      "             'o': 2,\n",
      "             'p': 2,\n",
      "             'r': 2,\n",
      "             's': 5,\n",
      "             't': 5,\n",
      "             'w': 2})\n"
     ]
    }
   ],
   "source": [
    "from collections import defaultdict\n",
    "\n",
    "symb2freq = defaultdict(int)\n",
    "for ch in text:\n",
    "    symb2freq[ch] += 1\n",
    "    \n",
    "pprint.pprint(symb2freq)   "
   ]
  },
  {
   "cell_type": "markdown",
   "metadata": {
    "slideshow": {
     "slide_type": "slide"
    }
   },
   "source": [
    "We can simplify things even further if we use Python's `Counter`.\n",
    "\n",
    "This will automatically count the occurrences of the characters in our text."
   ]
  },
  {
   "cell_type": "code",
   "execution_count": 23,
   "metadata": {},
   "outputs": [
    {
     "name": "stdout",
     "output_type": "stream",
     "text": [
      "Counter({' ': 8,\n",
      "         's': 5,\n",
      "         't': 5,\n",
      "         'h': 4,\n",
      "         'e': 4,\n",
      "         'a': 3,\n",
      "         'i': 2,\n",
      "         'p': 2,\n",
      "         'r': 2,\n",
      "         'w': 2,\n",
      "         'o': 2,\n",
      "         'T': 1,\n",
      "         'n': 1,\n",
      "         'c': 1,\n",
      "         'm': 1,\n",
      "         '.': 1})\n"
     ]
    }
   ],
   "source": [
    "from collections import Counter\n",
    "\n",
    "symb2freq = Counter(text)\n",
    "pprint.pprint(symb2freq)"
   ]
  },
  {
   "cell_type": "markdown",
   "metadata": {
    "slideshow": {
     "slide_type": "slide"
    }
   },
   "source": [
    "Going now to the priority queue, it will contain elements of the following form:\n",
    "```\n",
    "[value, [character, encoding], ... ]\n",
    "```\n",
    "\n",
    "The `value` is the frequency corresponding to the element of the queue.\n",
    "\n",
    "The `...` above refers to repeated `[character, encoding]` instances; these are the characters represented by the specific element of the queue and the Huffman encodings of these characters.\n",
    "\n",
    "We will see that this will allow us to create the Huffman encoding while we are building the encoding tree, without needing to traverse it afterwards.\n",
    "\n",
    "We start by putting the characters and their frequencies in the priority queue."
   ]
  },
  {
   "cell_type": "code",
   "execution_count": 24,
   "metadata": {
    "slideshow": {
     "slide_type": "fragment"
    }
   },
   "outputs": [
    {
     "name": "stdout",
     "output_type": "stream",
     "text": [
      "[[1, ['.', '']],\n",
      " [1, ['T', '']],\n",
      " [1, ['c', '']],\n",
      " [2, ['p', '']],\n",
      " [2, ['w', '']],\n",
      " [2, ['i', '']],\n",
      " [1, ['m', '']],\n",
      " [2, ['r', '']],\n",
      " [4, ['h', '']],\n",
      " [8, [' ', '']],\n",
      " [3, ['a', '']],\n",
      " [5, ['t', '']],\n",
      " [2, ['o', '']],\n",
      " [4, ['e', '']],\n",
      " [1, ['n', '']],\n",
      " [5, ['s', '']]]\n"
     ]
    }
   ],
   "source": [
    "pq = create_pq()\n",
    "\n",
    "# The priority queue will be initialized with elements of the form:\n",
    "# [value, [character, encoding]]\n",
    "\n",
    "for key, value in symb2freq.items():\n",
    "    insert_in_pq(pq, [value, [key, '']])\n",
    "    \n",
    "pprint.pprint(pq)"
   ]
  },
  {
   "cell_type": "markdown",
   "metadata": {
    "slideshow": {
     "slide_type": "slide"
    }
   },
   "source": [
    "As you can see, right now we have inserted into the queue the individual characters of the text with their occurrences. None of them has any Huffman encoding, yet.\n",
    "\n",
    "To create the Huffman encodings, we work as follows.\n",
    "\n",
    "Note that we do not really need to create a Huffman tree explicitly at all. \n",
    "\n",
    "When we take out two nodes from the queue and create a new node with the two nodes as children, we only need to add a `0` to the encoding of the left child and a `1` to the encoding of the right child."
   ]
  },
  {
   "cell_type": "markdown",
   "metadata": {
    "slideshow": {
     "slide_type": "slide"
    }
   },
   "source": [
    "So, when we take out the two nodes:\n",
    "```\n",
    "[1, ['.', '']]\n",
    "[1, ['T', '']]\n",
    "```\n",
    "\n",
    "We will get the node:\n",
    "```\n",
    "[2, ['.', '0'], ['T', '1']]\n",
    "```"
   ]
  },
  {
   "cell_type": "markdown",
   "metadata": {
    "slideshow": {
     "slide_type": "slide"
    }
   },
   "source": [
    "Then, when we take out the two nodes:\n",
    "```\n",
    "[2, ['.', '0'], ['T', '1']]\n",
    "[1, ['n', '']]\n",
    "```\n",
    "\n",
    "We will get the node:\n",
    "```\n",
    "[3, ['n', '0'], ['.', '10'], ['T', '11']]\n",
    "```\n",
    "\n",
    "That explains why we had the priority queue have elements of the form:\n",
    "```\n",
    "[value, [character, encoding], [character, encoding], ... ]\n",
    "```"
   ]
  },
  {
   "cell_type": "code",
   "execution_count": 25,
   "metadata": {
    "slideshow": {
     "slide_type": "slide"
    }
   },
   "outputs": [
    {
     "name": "stdout",
     "output_type": "stream",
     "text": [
      "Huffman Code:\n",
      "[44,\n",
      " ['h', '000'],\n",
      " ['o', '0010'],\n",
      " ['p', '0011'],\n",
      " ['r', '0100'],\n",
      " ['w', '0101'],\n",
      " ['s', '011'],\n",
      " ['t', '100'],\n",
      " ['a', '1010'],\n",
      " ['n', '10110'],\n",
      " ['.', '101110'],\n",
      " ['T', '101111'],\n",
      " [' ', '110'],\n",
      " ['c', '111000'],\n",
      " ['m', '111001'],\n",
      " ['i', '11101'],\n",
      " ['e', '1111']]\n"
     ]
    }
   ],
   "source": [
    "def create_huffman_code(pq):\n",
    "    while len(pq) > 1:\n",
    "        # Extract the two minimum items from the priority queue.\n",
    "        x = extract_min_from_pq(pq)\n",
    "        y = extract_min_from_pq(pq)\n",
    "        # Get all the [character, encoding] items associated with x;\n",
    "        # as x is the left child of the new node, prepend '0'\n",
    "        # to their encodings.\n",
    "        for pair in x[1:]:\n",
    "            pair[1] = '0' + pair[1]\n",
    "        # Do the same for y; as y is the right child of the \n",
    "        # new node, prepend '1' to their encodings.\n",
    "        for pair in y[1:]:\n",
    "            pair[1] = '1' + pair[1]\n",
    "        # Insert a new node with the sum of the occurrences\n",
    "        # of the two extracted nodes and the updated \n",
    "        # [character, encoding] sequences.\n",
    "        insert_in_pq(pq, [x[0] + y[0]] + x[1:] + y[1:])\n",
    "    return extract_min_from_pq(pq)\n",
    "  \n",
    "hc = create_huffman_code(pq)\n",
    "\n",
    "print(\"Huffman Code:\")\n",
    "pprint.pprint(hc)"
   ]
  },
  {
   "cell_type": "markdown",
   "metadata": {
    "slideshow": {
     "slide_type": "slide"
    }
   },
   "source": [
    "As we can see, the Huffman encoding was returned in a list. \n",
    "\n",
    "It is more practical to enter it into a dictionary, where the keys are the characters and the values are their encodings.\n",
    "\n",
    "We will call this *Huffman coding table*."
   ]
  },
  {
   "cell_type": "code",
   "execution_count": 26,
   "metadata": {
    "slideshow": {
     "slide_type": "fragment"
    }
   },
   "outputs": [
    {
     "name": "stdout",
     "output_type": "stream",
     "text": [
      "{' ': '110',\n",
      " '.': '101110',\n",
      " 'T': '101111',\n",
      " 'a': '1010',\n",
      " 'c': '111000',\n",
      " 'e': '1111',\n",
      " 'h': '000',\n",
      " 'i': '11101',\n",
      " 'm': '111001',\n",
      " 'n': '10110',\n",
      " 'o': '0010',\n",
      " 'p': '0011',\n",
      " 'r': '0100',\n",
      " 's': '011',\n",
      " 't': '100',\n",
      " 'w': '0101'}\n"
     ]
    }
   ],
   "source": [
    "hc_table = { character: encoding for [character, encoding] in  hc[1:]}\n",
    "pprint.pprint(hc_table)"
   ]
  },
  {
   "cell_type": "markdown",
   "metadata": {
    "slideshow": {
     "slide_type": "slide"
    }
   },
   "source": [
    "Now we can encode our original text.\n",
    "\n",
    "To see what is happening, we take the original text and we print the binary representation of each character.\n",
    "\n",
    "The Python `ord()` function returns the Python encoding for a character, which we convert to binary format.\n",
    "\n",
    "Then we print out the compressed text, so you can see the savings:"
   ]
  },
  {
   "cell_type": "code",
   "execution_count": 27,
   "metadata": {
    "slideshow": {
     "slide_type": "fragment"
    }
   },
   "outputs": [
    {
     "name": "stdout",
     "output_type": "stream",
     "text": [
      "This is the phrase that we want to compress.\n",
      "Original contents:\n",
      "['1010100', '1101000', '1101001', '1110011', '100000', '1101001', '1110011', '100000', '1110100', '1101000', '1100101', '100000', '1110000', '1101000', '1110010', '1100001', '1110011', '1100101', '100000', '1110100', '1101000', '1100001', '1110100', '100000', '1110111', '1100101', '100000', '1110111', '1100001', '1101110', '1110100', '100000', '1110100', '1101111', '100000', '1100011', '1101111', '1101101', '1110000', '1110010', '1100101', '1110011', '1110011', '101110']\n",
      "Compressed contents:\n",
      "['101111', '000', '11101', '011', '110', '11101', '011', '110', '100', '000', '1111', '110', '0011', '000', '0100', '1010', '011', '1111', '110', '100', '000', '1010', '100', '110', '0101', '1111', '110', '0101', '1010', '10110', '100', '110', '100', '0010', '110', '111000', '0010', '111001', '0011', '0100', '1111', '011', '011', '101110']\n"
     ]
    }
   ],
   "source": [
    "huffman_encoding = [ hc_table[c] for c in text ]\n",
    "\n",
    "print(text)\n",
    "print(\"Original contents:\")\n",
    "bit_representation = [ f'{ord(c):b}' for c in text ]\n",
    "print(bit_representation)\n",
    "print(\"Compressed contents:\")\n",
    "print(huffman_encoding)"
   ]
  },
  {
   "cell_type": "markdown",
   "metadata": {
    "slideshow": {
     "slide_type": "slide"
    }
   },
   "source": [
    "## Huffman Compression  and Decompression for Files\n",
    "\n",
    "Careful, now we go into a bit more advanced stuff, on how we would actually store compressed data and how we will the decompress them.\n",
    "\n",
    "Notice that the compressed contents we have been displaying are not *really* compressed. \n",
    "\n",
    "Let us check how long our original text was:"
   ]
  },
  {
   "cell_type": "code",
   "execution_count": 28,
   "metadata": {
    "slideshow": {
     "slide_type": "fragment"
    }
   },
   "outputs": [
    {
     "name": "stdout",
     "output_type": "stream",
     "text": [
      "44\n"
     ]
    }
   ],
   "source": [
    "print(len(text))"
   ]
  },
  {
   "cell_type": "markdown",
   "metadata": {
    "slideshow": {
     "slide_type": "slide"
    }
   },
   "source": [
    "It is 44 characters long; whereas the compressed text is:"
   ]
  },
  {
   "cell_type": "code",
   "execution_count": 29,
   "metadata": {
    "slideshow": {
     "slide_type": "fragment"
    }
   },
   "outputs": [
    {
     "name": "stdout",
     "output_type": "stream",
     "text": [
      "101111000111010111101110101111010000011111100011000010010100111111110100000101010011001011111110010110101011010011010000101101110000010111001001101001111011011101110\n",
      "165\n"
     ]
    }
   ],
   "source": [
    "huffman_string = ''.join(huffman_encoding)\n",
    "print(huffman_string)\n",
    "print(len(huffman_string))"
   ]
  },
  {
   "cell_type": "markdown",
   "metadata": {
    "slideshow": {
     "slide_type": "slide"
    }
   },
   "source": [
    "This happens because we store `0` and `1` as characters, not as individual bits. \n",
    "\n",
    "In reality, we want to store them using single bits. Then we will achieve the promised savings.\n",
    "\n",
    "To convert them to bits, we'll break the Huffman string to chunks of eight, and we will convert each one of them to two bytes, equal to to exactly eight bits.\n",
    "\n",
    "If the Huffman string is not divisible by eight, we assume that the last chunk is padded to the left with zeros."
   ]
  },
  {
   "cell_type": "markdown",
   "metadata": {
    "slideshow": {
     "slide_type": "slide"
    }
   },
   "source": [
    "To convert a bit string to bytes, we use the function `int(chunk, 2)`, which will treat `chunk` as a string representing a binary (base 2) number.\n",
    "\n",
    "We convert the result to bytes, using `to_bytes(1, byteorder='big')`: we need one byte to represent the integer we got. The `to_bytes()` function returns an array of bytes, here it returns an array of one. In general, though, it could be longer.\n",
    "\n",
    "The second argument specifies how bytes will be put into the array. By giving `byteorder='big'` we specify that\n",
    "and we want the bytes to follow the [big endian representation](https://en.wikipedia.org/wiki/Endianness#Big-endian), i.e., if we put two bytes into the array, the most significant of the two bytes is the first one and it will be put first in the array, followed by the second.\n",
    "\n",
    "For example, if we have the two bytes `0xABCD` in hexadecimal we will get an array of two bytes, the first element of the array will contain `0xAB` and the second `0xCD`. If we `use to_bytes(2, byteorder='little')`, then we get [little endian representation](https://en.wikipedia.org/wiki/Endianness#Little-endian), meaning that the hexadecimal number`ABCD` would be stored as an array with the first element being `CD` and the second `AB`.\n",
    "\n",
    "Again, here it does not matter as we get only one byte, but we do have to specify it."
   ]
  },
  {
   "cell_type": "code",
   "execution_count": 30,
   "metadata": {
    "slideshow": {
     "slide_type": "slide"
    }
   },
   "outputs": [
    {
     "name": "stdout",
     "output_type": "stream",
     "text": [
      "10111100 b'\\xbc'\n",
      "01110101 b'u'\n",
      "11101110 b'\\xee'\n",
      "10111101 b'\\xbd'\n",
      "00000111 b'\\x07'\n",
      "11100011 b'\\xe3'\n",
      "00001001 b'\\t'\n",
      "01001111 b'O'\n",
      "11110100 b'\\xf4'\n",
      "00010101 b'\\x15'\n",
      "00110010 b'2'\n",
      "11111110 b'\\xfe'\n",
      "01011010 b'Z'\n",
      "10110100 b'\\xb4'\n",
      "11010000 b'\\xd0'\n",
      "10110111 b'\\xb7'\n",
      "00000101 b'\\x05'\n",
      "11001001 b'\\xc9'\n",
      "10100111 b'\\xa7'\n",
      "10110111 b'\\xb7'\n",
      "01110 b'\\x0e'\n"
     ]
    }
   ],
   "source": [
    "for i in range(0, len(huffman_string), 8):\n",
    "    chunk = huffman_string[i:i+8]\n",
    "    byte_chunk = int(chunk, 2).to_bytes(1, byteorder='big')\n",
    "    print(f'{chunk} {byte_chunk}')"
   ]
  },
  {
   "cell_type": "markdown",
   "metadata": {
    "slideshow": {
     "slide_type": "slide"
    }
   },
   "source": [
    "Instead of printing it on screen, we want to save the compressed data.\n",
    "\n",
    "We also need to save the Huffman coding table, otherwise there is no way we will be able to decompress them.\n",
    "\n",
    "So we will create a file, in which we will save the Huffman coding table first, followed by the total number of uncompressed characters and the bytes of the Huffman encoding of our data.\n",
    "\n",
    "We'll need the total number of uncompressed characters to ensure correct decompression.\n",
    "\n",
    "We'll save these two (the table and the number of uncompressed characters) with Python's [pickle](https://docs.python.org/3/library/pickle.html) facility."
   ]
  },
  {
   "cell_type": "markdown",
   "metadata": {},
   "source": [
    "For each character in the file, we'll get its Huffman encoding.\n",
    "\n",
    "We need to pack the encodings into bytes in order to save them; to do that, we will pack the Huffman encodings into a `buffer` variable, which we'll be breaking at 8 characters to create and output a byte.\n",
    "\n",
    "Care must be taken in the last byte of the file, which may need to be padded to the right with zeroes, if the sum of the lengths of all Huffman encodings of the characters is not a multiple of 8."
   ]
  },
  {
   "cell_type": "code",
   "execution_count": 31,
   "metadata": {
    "slideshow": {
     "slide_type": "slide"
    }
   },
   "outputs": [],
   "source": [
    "import pickle\n",
    "\n",
    "def huffman_compress(original_file, output_file):\n",
    "    pq = create_pq()\n",
    "    # First pass: count character occurrences.\n",
    "    symb2freq = Counter()\n",
    "    with open(original_file) as uncompressed_file:\n",
    "        for line in uncompressed_file:\n",
    "            symb2freq += Counter(line)\n",
    "    # Put the occurrences in a priority queue.\n",
    "    pq = create_pq()\n",
    "    for key, value in symb2freq.items():\n",
    "        insert_in_pq(pq, [value, [key, '']])\n",
    "    # Create the Huffman code.\n",
    "    hc = create_huffman_code(pq)\n",
    "    # Turn the code to a dictionary for easier lookup.\n",
    "    hc_table = { character: encoding for [character, encoding] in  hc[1:]}\n",
    "    # Second pass: we'll read again the uncompressed file,\n",
    "    # we'll compress the contents and save them to the\n",
    "    # compressed file as we go.\n",
    "    with open(original_file) as uncompressed_file, \\\n",
    "        open(output_file, 'wb') as compressed_file:\n",
    "        # First save the Huffman encoding...\n",
    "        pickle.dump(hc_table, compressed_file)\n",
    "        # then save the total number of characters in the original file.\n",
    "        pickle.dump(sum(symb2freq.values()), compressed_file)\n",
    "        # Use a buffer in which we will be adding the encoded characters;\n",
    "        # when the buffer has 8 bits or more we will output a byte and\n",
    "        # keep the remaining bits.\n",
    "        buffer = ''\n",
    "        for line in uncompressed_file:\n",
    "            for c in line:\n",
    "                # For each character, add the encoding to the buffer.\n",
    "                buffer += hc_table[c]\n",
    "                # Have we got enough stuff in the buffer to output a byte?\n",
    "                while len(buffer) >= 8:\n",
    "                    # Yes, output a byte.\n",
    "                    byte = int(buffer[:8], base=2).to_bytes(1, byteorder='big')\n",
    "                    compressed_file.write(byte)\n",
    "                    # Keep any remaining stuff in the buffer; that will go out\n",
    "                    # with the next byte.\n",
    "                    buffer = buffer[8:]\n",
    "        if len(buffer) > 0:\n",
    "            # If we have still remaining stuff, it means that part of the last \n",
    "            # character encoding was put in the previous byte, and part of it\n",
    "            # will go in the last byte; we'll pad zeroes to the end of it.\n",
    "            buffer = buffer.ljust(8, '0')\n",
    "            byte = int(buffer[:8], base=2).to_bytes(1, byteorder='big')\n",
    "            compressed_file.write(byte)"
   ]
  },
  {
   "cell_type": "markdown",
   "metadata": {
    "slideshow": {
     "slide_type": "slide"
    }
   },
   "source": [
    "Decompressing a file follows the reverse logic.\n",
    "\n",
    "We read the Huffman coding table and reverse it, in order to use it for decoding.\n",
    "\n",
    "Then we read the number of expected decompressed characters.\n",
    "\n",
    "We proceed with reading the file byte-by-byte, converting the bytes to bits, and decoding them as soon as we find a valid Huffman code for a sequence of bits."
   ]
  },
  {
   "cell_type": "code",
   "execution_count": 32,
   "metadata": {
    "slideshow": {
     "slide_type": "slide"
    }
   },
   "outputs": [],
   "source": [
    "def huffman_decompress(input_file, output_file):\n",
    "    with open(input_file, 'rb') as compressed_file,\\\n",
    "        open(output_file, 'w') as decompressed_file:\n",
    "        # Read the Huffman table.\n",
    "        hc_table = pickle.load(compressed_file)\n",
    "        # Read the total number of uncompressed characters.\n",
    "        num_chars = pickle.load(compressed_file)\n",
    "        # Construct an inverse, Huffman decoding table.\n",
    "        hc_decoding_table = { v: k for (k, v) in hc_table.items() }\n",
    "        # Set a counter for the decompressed characters.\n",
    "        num_decompressed = 0\n",
    "        # Keep the Huffman code that we want to decode.\n",
    "        encoding = ''\n",
    "        # Read the file byte-by-byte.\n",
    "        byte = compressed_file.read(1)\n",
    "        while byte:\n",
    "            # For each byte, get its bit representation.\n",
    "            bit_repr = format(int.from_bytes(byte, byteorder='big'), '08b')\n",
    "            # Then read it bit-by-bit, extending the current encoding\n",
    "            # that we are trying to decode.\n",
    "            for bit in bit_repr:\n",
    "                encoding += bit\n",
    "                # Is this a valid Huffman encoding?\n",
    "                if encoding in hc_decoding_table:\n",
    "                    # Yes, decompress it.\n",
    "                    decompressed_file.write(hc_decoding_table[encoding])\n",
    "                    num_decompressed += 1\n",
    "                    # If we have decompressed the expected amount of\n",
    "                    # characters, we are done; any leftover is just the\n",
    "                    # padding of the last byte of the file.\n",
    "                    if num_decompressed == num_chars:\n",
    "                        break\n",
    "                    encoding = ''\n",
    "            byte = compressed_file.read(1)"
   ]
  },
  {
   "cell_type": "markdown",
   "metadata": {
    "slideshow": {
     "slide_type": "slide"
    }
   },
   "source": [
    "For convenience, here is a [full program](huffman.py) that compresses and decompresses files using the Huffman scheme.\n",
    "\n",
    "The usage information is as follows:\n",
    "\n",
    "```\n",
    "usage: huffman.py [-h] [-d] input_file output_file\n",
    "\n",
    "Huffman compression/decompression\n",
    "\n",
    "positional arguments:\n",
    "  input_file        Input file\n",
    "  output_file       Output file\n",
    "\n",
    "optional arguments:\n",
    "  -h, --help        show this help message and exit\n",
    "  -d, --decompress  Decompress\n",
    "```"
   ]
  },
  {
   "cell_type": "markdown",
   "metadata": {
    "slideshow": {
     "slide_type": "slide"
    }
   },
   "source": [
    "If we run it on James Joyce's [Ulysses](ulysses.txt), which is 1,520,795 bytes, we get a compressed version of 884,155 bytes; that is, we achieved a compression ratio of 58%."
   ]
  },
  {
   "cell_type": "markdown",
   "metadata": {
    "slideshow": {
     "slide_type": "slide"
    }
   },
   "source": [
    "# Lempel-Ziv-Welch Compression\n",
    "\n",
    "* We now turn to Lempel-Ziv-Welch (LZW) compression.\n",
    "\n",
    "* The code is much more straightforward than with Huffman encoding, because most of the underlying machinery is provided as-is by Python dictionaries.\n",
    "\n",
    "* Therefore the following function is a straightforward application of the algorithm described in the book."
   ]
  },
  {
   "cell_type": "code",
   "execution_count": 33,
   "metadata": {
    "slideshow": {
     "slide_type": "slide"
    }
   },
   "outputs": [],
   "source": [
    "def lzw_compress(message, nb, n):\n",
    "    \"\"\" \n",
    "    Perform LZW compression.\n",
    "    \n",
    "    Parameters\n",
    "    ----------\n",
    "    message : str\n",
    "        the message to compress\n",
    "    nb : int\n",
    "        the number of bits used for each encoding\n",
    "    n : int\n",
    "        the size of the alphabet\n",
    "        \n",
    "    Returns\n",
    "    -------\n",
    "    compressed : list\n",
    "       The encoded message\n",
    "    \"\"\"\n",
    "\n",
    "    compressed = [] # list of encodings\n",
    "    max_code = 2**nb - 1 # size of the encoding table\n",
    "    # Initialize table with encodings for each character\n",
    "    # in the alphabet.\n",
    "    table = { chr(i): i for i in range(n) }\n",
    "    code = n # this is the encoding for the next unencoded ngram\n",
    "\n",
    "    w = \"\" # current ngram\n",
    "    for c in message:\n",
    "        wc = w + c # form new ngram\n",
    "        # If we have already encountered the new ngram\n",
    "        # prepare to add another character to it.\n",
    "        if wc in table:\n",
    "            w = wc\n",
    "        else:\n",
    "            # Otherwise we must put out the encoding of the\n",
    "            # existing ngram.\n",
    "            compressed.append(table[w])\n",
    "            # Start an ngram from the current character.\n",
    "            w = c            \n",
    "            # Check if we can add the non-found ngram\n",
    "            # in the table and add it if possible.\n",
    "            if code <= max_code:\n",
    "                table[wc] = code\n",
    "                code += 1\n",
    "    # If we have finished the message, output the encoding\n",
    "    # of the current ngram.\n",
    "    if w:\n",
    "        compressed.append(table[w])\n",
    "    \n",
    "    return compressed"
   ]
  },
  {
   "cell_type": "markdown",
   "metadata": {
    "slideshow": {
     "slide_type": "slide"
    }
   },
   "source": [
    "We can now test it to see how it works:"
   ]
  },
  {
   "cell_type": "code",
   "execution_count": 34,
   "metadata": {
    "slideshow": {
     "slide_type": "fragment"
    }
   },
   "outputs": [
    {
     "name": "stdout",
     "output_type": "stream",
     "text": [
      "[77, 69, 76, 76, 79, 87, 32, 89, 129, 131, 133, 70, 136, 132]\n"
     ]
    }
   ],
   "source": [
    "compressed = lzw_compress(\"MELLOW YELLOW FELLOW\", nb=8, n=2**7)\n",
    "print(compressed)"
   ]
  },
  {
   "cell_type": "markdown",
   "metadata": {
    "slideshow": {
     "slide_type": "slide"
    }
   },
   "source": [
    "Similarly, LZW decompression is also a straightforward application of the algorithm in the book.\n",
    "\n",
    "The only substantial change is that instead of building the output by concatenating strings, we use the `io.StringIO()` class in Python, which allows us to write to a stream representing a string. \n",
    "\n",
    "This is faster than performing a lot of concatenations."
   ]
  },
  {
   "cell_type": "code",
   "execution_count": 35,
   "metadata": {
    "slideshow": {
     "slide_type": "slide"
    }
   },
   "outputs": [],
   "source": [
    "import io\n",
    "\n",
    "def lzw_decompress(compressed, nb, n):\n",
    "    \"\"\" \n",
    "    Perform LZW decompression.\n",
    "    \n",
    "    Parameters\n",
    "    ----------\n",
    "    compressed : list\n",
    "        the message to decompress\n",
    "    nb : int\n",
    "        the number of bits used for each encoding\n",
    "    n : int\n",
    "        the size of the alphabet\n",
    "        \n",
    "    Returns\n",
    "    -------\n",
    "    result : str\n",
    "        The decompressed message\n",
    "    \"\"\"\n",
    "    max_code = 2**nb - 1 # size of the decoding table\n",
    "    # Initialize the decoding table with reverse encodings \n",
    "    # for each character in the alphabet.\n",
    "    table = { i : chr(i) for i in range(n) }\n",
    "    code = n # this is the encoding for the next unencoded ngram\n",
    "\n",
    "    result = io.StringIO()\n",
    "    # Output the first character.\n",
    "    c = compressed.pop(0)\n",
    "    v = table[c]\n",
    "    result.write(v)\n",
    "    pv = v # previous \n",
    "    # For each encoded value in the compressed message:\n",
    "    for c in compressed:\n",
    "        # If we know the corresponding ngram, get it.\n",
    "        if c in table:\n",
    "            v = table[c]\n",
    "        # If we do not know it, the corresponding ngram\n",
    "        # is really the previous ngram with its first\n",
    "        # character appended to its end.\n",
    "        else:\n",
    "            v = pv + pv[0]\n",
    "\n",
    "        result.write(v)\n",
    "\n",
    "        # If there is room in the decoding table:\n",
    "        if code <= max_code:\n",
    "            # add the new mapping to it.\n",
    "            table[code] = pv + v[0]\n",
    "            code += 1\n",
    "            \n",
    "        pv = v\n",
    "        \n",
    "    return result.getvalue()"
   ]
  },
  {
   "cell_type": "markdown",
   "metadata": {
    "slideshow": {
     "slide_type": "slide"
    }
   },
   "source": [
    "We can test that it works by verifying that it decompresses our compressed message correctly."
   ]
  },
  {
   "cell_type": "code",
   "execution_count": 36,
   "metadata": {
    "slideshow": {
     "slide_type": "fragment"
    }
   },
   "outputs": [
    {
     "name": "stdout",
     "output_type": "stream",
     "text": [
      "MELLOW YELLOW FELLOW\n"
     ]
    }
   ],
   "source": [
    "decompressed = lzw_decompress(compressed, nb=8, n=2**7)\n",
    "print(decompressed)"
   ]
  },
  {
   "cell_type": "markdown",
   "metadata": {
    "slideshow": {
     "slide_type": "slide"
    }
   },
   "source": [
    "To see LZW in action, we try compressing a larger text, such as James Joyce's Ulysses.\n",
    "\n",
    "We can try 12 bits for encoding and an encoding table of $2^8$ entries.\n"
   ]
  },
  {
   "cell_type": "code",
   "execution_count": 37,
   "metadata": {
    "slideshow": {
     "slide_type": "fragment"
    }
   },
   "outputs": [],
   "source": [
    "ulysses = open('ulysses.txt').read()\n",
    "\n",
    "compressed_ulysses = lzw_compress(ulysses, 12, 2**8)"
   ]
  },
  {
   "cell_type": "markdown",
   "metadata": {
    "slideshow": {
     "slide_type": "fragment"
    }
   },
   "source": [
    "Then we can see how much we have actually saved.\n",
    "\n",
    "We will multiply the length of `compressed_ulysses` by 12 and compare with the length of the original text multiplied with 8 (8 bits ASCII)."
   ]
  },
  {
   "cell_type": "code",
   "execution_count": 38,
   "metadata": {
    "slideshow": {
     "slide_type": "fragment"
    }
   },
   "outputs": [
    {
     "name": "stdout",
     "output_type": "stream",
     "text": [
      "bits for encoding: 12 original size: 12165552 compressed size:  6508548 compression ratio: 0.5349981653113645\n"
     ]
    }
   ],
   "source": [
    "s_compressed = 12 * len(compressed_ulysses)\n",
    "s_original = 8 * len(ulysses)\n",
    "print('bits for encoding: 12',\n",
    "      f'original size: {s_original}',\n",
    "      f'compressed size:  {s_compressed}',\n",
    "      f'compression ratio: {s_compressed/s_original}')"
   ]
  },
  {
   "cell_type": "markdown",
   "metadata": {
    "slideshow": {
     "slide_type": "slide"
    }
   },
   "source": [
    "Are 12 bits for a each encoding a good choice?\n",
    "\n",
    "We can actually check.\n",
    "\n",
    "We will compare the savings we have for a series of values for the number of encoding bits, from 8 to 24 (inclusive)."
   ]
  },
  {
   "cell_type": "code",
   "execution_count": 39,
   "metadata": {
    "slideshow": {
     "slide_type": "slide"
    }
   },
   "outputs": [
    {
     "name": "stdout",
     "output_type": "stream",
     "text": [
      "bits for encoding: 8 original size: 12165552 compressed size:  12165552 compression ratio: 1.0\n",
      "bits for encoding: 9 original size: 12165552 compressed size:  8147061 compression ratio: 0.6696828060083093\n",
      "bits for encoding: 10 original size: 12165552 compressed size:  7372070 compression ratio: 0.6059790792887984\n",
      "bits for encoding: 11 original size: 12165552 compressed size:  6844981 compression ratio: 0.5626527263210087\n",
      "bits for encoding: 12 original size: 12165552 compressed size:  6508548 compression ratio: 0.5349981653113645\n",
      "bits for encoding: 13 original size: 12165552 compressed size:  6221514 compression ratio: 0.5114041680969347\n",
      "bits for encoding: 14 original size: 12165552 compressed size:  5994072 compression ratio: 0.492708592261165\n",
      "bits for encoding: 15 original size: 12165552 compressed size:  5791950 compression ratio: 0.47609430299586897\n",
      "bits for encoding: 16 original size: 12165552 compressed size:  5564896 compression ratio: 0.45743062049301175\n",
      "bits for encoding: 17 original size: 12165552 compressed size:  5465517 compression ratio: 0.44926173510252554\n",
      "bits for encoding: 18 original size: 12165552 compressed size:  5462298 compression ratio: 0.4489971355183883\n",
      "bits for encoding: 19 original size: 12165552 compressed size:  5743377 compression ratio: 0.4721016358320609\n",
      "bits for encoding: 20 original size: 12165552 compressed size:  6045660 compression ratio: 0.49694909034953777\n",
      "bits for encoding: 21 original size: 12165552 compressed size:  6347943 compression ratio: 0.5217965448670147\n",
      "bits for encoding: 22 original size: 12165552 compressed size:  6650226 compression ratio: 0.5466439993844916\n",
      "bits for encoding: 23 original size: 12165552 compressed size:  6952509 compression ratio: 0.5714914539019684\n",
      "bits for encoding: 24 original size: 12165552 compressed size:  7254792 compression ratio: 0.5963389084194454\n",
      "best savings:0.4489971355183883 best number of encoding bits: 18\n"
     ]
    }
   ],
   "source": [
    "best_savings = 1\n",
    "best_nbits = 8\n",
    "\n",
    "for nbits in range(8, 25):\n",
    "    compressed_ulysses = lzw_compress(ulysses, nbits, 2**8)\n",
    "    s_compressed = nbits * len(compressed_ulysses)\n",
    "    s_original = 8 * len(ulysses)\n",
    "    savings = s_compressed / s_original\n",
    "    if savings < best_savings:\n",
    "        best_savings = savings\n",
    "        best_nbits = nbits\n",
    "    print(f'bits for encoding: {nbits}',\n",
    "          f'original size: {s_original}',\n",
    "          f'compressed size:  {s_compressed}',\n",
    "          f'compression ratio: {savings}')\n",
    "print(f'best savings:{best_savings} best number of encoding bits: {best_nbits}')"
   ]
  },
  {
   "cell_type": "markdown",
   "metadata": {
    "slideshow": {
     "slide_type": "slide"
    }
   },
   "source": [
    "We see that the best value is to use 18 bits for encoding.\n",
    "\n",
    "With 8 bits we get no savings at all. That is because we use one byte for each encoding, we have 256 encodings, and our alphabet, 8-bit ASCII, has 256 characters. So we only encode unigrams.\n",
    "\n",
    "As we increase the number of bits we use, we start using more and more ngrams.\n",
    "\n",
    "The savings are increased, but after 18 bits they start decreasing.\n",
    "\n",
    "That is because, although we use many ngrams, we squander too many bits for encoding unigrams and small n-grams. "
   ]
  },
  {
   "cell_type": "markdown",
   "metadata": {
    "slideshow": {
     "slide_type": "slide"
    }
   },
   "source": [
    "In practice, we can usually only read and store whole bytes, so we settle down for using a multiple of 8 as the number of bits for encoding.\n",
    "\n",
    "The following  [program](lzw.py)  performs LZW compression and decompression on files. \n",
    "\n",
    "The usage information is as follows:\n",
    "   \n",
    "```\n",
    "usage: lzw.py [-h] [-d] [-n NB] [-s SIZE] input_file output_file\n",
    "\n",
    "LZW compression/decompression\n",
    "\n",
    "positional arguments:\n",
    "  input_file            Input file\n",
    "  output_file           Output file\n",
    "\n",
    "optional arguments:\n",
    "  -h, --help            show this help message and exit\n",
    "  -d, --decompress      decompress\n",
    "  -n NB, --nb NB        number of bits of each table entry\n",
    "  -s SIZE, --size SIZE  size of alphabet\n",
    "```\n",
    "\n",
    "The default values are 16 bits for each encoding and an alphabet size of 256."
   ]
  }
 ],
 "metadata": {
  "celltoolbar": "Slideshow",
  "kernelspec": {
   "display_name": "Python 3 (ipykernel)",
   "language": "python",
   "name": "python3"
  },
  "language_info": {
   "codemirror_mode": {
    "name": "ipython",
    "version": 3
   },
   "file_extension": ".py",
   "mimetype": "text/x-python",
   "name": "python",
   "nbconvert_exporter": "python",
   "pygments_lexer": "ipython3",
   "version": "3.11.8"
  }
 },
 "nbformat": 4,
 "nbformat_minor": 4
}
