{
 "cells": [
  {
   "cell_type": "markdown",
   "metadata": {
    "slideshow": {
     "slide_type": "slide"
    }
   },
   "source": [
    "# Exploring the Labyrinth\n",
    "\n",
    "Chapter 2 of [Real-World Algorithms](https://mitpress.mit.edu/books/real-world-algorithms).\n",
    "\n",
    "---\n",
    "\n",
    "> Panos Louridas<br />\n",
    "> Athens University of Economics and Business"
   ]
  },
  {
   "cell_type": "markdown",
   "metadata": {
    "slideshow": {
     "slide_type": "slide"
    }
   },
   "source": [
    "# Graphs in Python\n",
    "\n",
    "The most common way to represent graphs in Python is with adjacency lists.\n",
    "\n",
    "The adjacency lists are put into a Python dictionary.\n",
    "\n",
    "The keys of the dictionary are the nodes, and the value for each node is its adjacency list.\n",
    "\n",
    "With a slight abuse of terminology, we could use other data structures instead of a list to represent an adjacency list: for example, a set is a sensible choice, as we don't care about the order of the items in the list, and checking for membership (i.e., checking if a node is a neighbor of another node) is much faster in a set than in a list. In a well-implemented set it takes constant time, while in a list the time is linear and depends on the length of the list."
   ]
  },
  {
   "cell_type": "markdown",
   "metadata": {
    "slideshow": {
     "slide_type": "slide"
    }
   },
   "source": [
    "For example, here is a graph with 8 nodes (from 0 to 7) and its adjacency lists, represented as lists:"
   ]
  },
  {
   "cell_type": "code",
   "execution_count": 1,
   "metadata": {
    "slideshow": {
     "slide_type": "fragment"
    }
   },
   "outputs": [
    {
     "name": "stdout",
     "output_type": "stream",
     "text": [
      "{0: [1, 2, 3], 1: [0, 4], 2: [0], 3: [0, 5], 4: [1, 5], 5: [3, 4, 6, 7], 6: [5], 7: [5]}\n",
      "[1, 2, 3]\n",
      "[3, 4, 6, 7]\n"
     ]
    }
   ],
   "source": [
    "g = {\n",
    "    0: [1, 2, 3],\n",
    "    1: [0, 4],\n",
    "    2: [0],\n",
    "    3: [0, 5],\n",
    "    4: [1, 5],\n",
    "    5: [3, 4, 6, 7],\n",
    "    6: [5],\n",
    "    7: [5],\n",
    "}\n",
    "\n",
    "# print whole graph\n",
    "print(g)\n",
    "\n",
    "# print adjacency list of node 0\n",
    "print(g[0])\n",
    "\n",
    "# print adjacency list of node 5\n",
    "print(g[5])"
   ]
  },
  {
   "cell_type": "markdown",
   "metadata": {
    "slideshow": {
     "slide_type": "slide"
    }
   },
   "source": [
    "Similarly, here is the same graph, but this time the nodes are strings (single-character strings, which are still strings in Python).\n",
    "\n",
    "Nodes can be anything: numbers, strings, or anything else that can be used as a key in a Python dictionary, i.e., everything that is \"hashable\"."
   ]
  },
  {
   "cell_type": "code",
   "execution_count": 2,
   "metadata": {
    "slideshow": {
     "slide_type": "fragment"
    }
   },
   "outputs": [
    {
     "name": "stdout",
     "output_type": "stream",
     "text": [
      "{'a': ['b', 'c', 'd'], 'b': ['a', 'e'], 'c': ['a'], 'd': ['a', 'f'], 'e': ['b', 'f'], 'f': ['d', 'e', 'g', 'h'], 'g': ['f'], 'h': ['f']}\n",
      "['b', 'c', 'd']\n",
      "['b', 'f']\n"
     ]
    }
   ],
   "source": [
    "g = {\n",
    "    'a': ['b', 'c', 'd'],\n",
    "    'b': ['a', 'e'],\n",
    "    'c': ['a'],\n",
    "    'd': ['a', 'f'],\n",
    "    'e': ['b', 'f'],\n",
    "    'f': ['d', 'e', 'g', 'h'],\n",
    "    'g': ['f'],\n",
    "    'h': ['f'],\n",
    "}\n",
    "\n",
    "# print whole graph\n",
    "print(g)\n",
    "\n",
    "# print adjacency list of node 'a'\n",
    "print(g['a'])\n",
    "\n",
    "# print adjacency list of node 'e'\n",
    "print(g['e'])"
   ]
  },
  {
   "cell_type": "markdown",
   "metadata": {
    "slideshow": {
     "slide_type": "slide"
    }
   },
   "source": [
    "# Depth-first Search\n",
    "\n",
    "Suppose we have the following graph and we want to explore it depth-first.\n",
    "\n",
    "In depth-first search, we follow a path as far as we can; when we reach a dead-end, that is, a node with no-unvisited neighbours, we backgrack to the previous unvisited node.\n",
    "\n",
    "<img width=\"300\" src=\"example_graph_1.png\"/>"
   ]
  },
  {
   "cell_type": "markdown",
   "metadata": {
    "slideshow": {
     "slide_type": "slide"
    }
   },
   "source": [
    "The graph is represented in Python as follows:"
   ]
  },
  {
   "cell_type": "code",
   "execution_count": 3,
   "metadata": {
    "slideshow": {
     "slide_type": "fragment"
    }
   },
   "outputs": [],
   "source": [
    "g = {\n",
    "    0: [1, 2, 3],\n",
    "    1: [0, 4],\n",
    "    2: [0, 4],\n",
    "    3: [0, 5],\n",
    "    4: [5],\n",
    "    5: [4, 6, 7],\n",
    "    6: [],\n",
    "    7: []\n",
    "}"
   ]
  },
  {
   "cell_type": "markdown",
   "metadata": {
    "slideshow": {
     "slide_type": "slide"
    }
   },
   "source": [
    "The depth-first recursive search algorithm is then simply:"
   ]
  },
  {
   "cell_type": "code",
   "execution_count": 4,
   "metadata": {
    "slideshow": {
     "slide_type": "fragment"
    }
   },
   "outputs": [
    {
     "name": "stdout",
     "output_type": "stream",
     "text": [
      "Visiting 0\n",
      "Visiting 1\n",
      "Visiting 4\n",
      "Visiting 5\n",
      "Visiting 6\n",
      "Visiting 7\n",
      "Visiting 2\n",
      "Visiting 3\n"
     ]
    }
   ],
   "source": [
    "from typing import Hashable # for use with the type annotation below\n",
    "\n",
    "visited = [ False ] * len(g)\n",
    "\n",
    "def dfs(g: dict, node: Hashable) -> None:\n",
    "    print(\"Visiting\", node)\n",
    "    visited[node] = True\n",
    "    for v in g[node]:\n",
    "        if not visited[v]:\n",
    "            dfs(g, v)\n",
    "            \n",
    "dfs(g, 0)"
   ]
  },
  {
   "cell_type": "markdown",
   "metadata": {
    "slideshow": {
     "slide_type": "slide"
    }
   },
   "source": [
    "It is possible to implement depth-first search without recursion.\n",
    "\n",
    "To do that, we have to emulate recursion ourselves, by using a stack."
   ]
  },
  {
   "cell_type": "code",
   "execution_count": 5,
   "metadata": {
    "slideshow": {
     "slide_type": "fragment"
    }
   },
   "outputs": [
    {
     "name": "stdout",
     "output_type": "stream",
     "text": [
      "Stack [0]\n",
      "Visiting 0\n",
      "Stack [1, 2, 3]\n",
      "Visiting 3\n",
      "Stack [1, 2, 5]\n",
      "Visiting 5\n",
      "Stack [1, 2, 4, 6, 7]\n",
      "Visiting 7\n",
      "Stack [1, 2, 4, 6]\n",
      "Visiting 6\n",
      "Stack [1, 2, 4]\n",
      "Visiting 4\n",
      "Stack [1, 2]\n",
      "Visiting 2\n",
      "Stack [1]\n",
      "Visiting 1\n"
     ]
    },
    {
     "data": {
      "text/plain": [
       "[True, True, True, True, True, True, True, True]"
      ]
     },
     "execution_count": 5,
     "metadata": {},
     "output_type": "execute_result"
    }
   ],
   "source": [
    "def dfs_stack(g: dict, node: Hashable) -> list[bool]:\n",
    "    s = []\n",
    "    visited = [ False ] * len(g)\n",
    "\n",
    "    s.append(node)\n",
    "    while len(s) != 0:\n",
    "        print(\"Stack\", s)\n",
    "        c = s.pop()\n",
    "        print(\"Visiting\", c)\n",
    "        visited[c] = True\n",
    "        for v in g[c]:\n",
    "            if not visited[v]:\n",
    "                s.append(v)\n",
    "    return visited\n",
    "\n",
    "dfs_stack(g, 0)"
   ]
  },
  {
   "cell_type": "markdown",
   "metadata": {
    "slideshow": {
     "slide_type": "slide"
    }
   },
   "source": [
    "The stack-based depth-first search may insert a node in the stack multiple times.\n",
    "\n",
    "For example, consider the following graph:"
   ]
  },
  {
   "cell_type": "markdown",
   "metadata": {
    "slideshow": {
     "slide_type": "slide"
    }
   },
   "source": [
    "<img width=\"250\" src=\"example_graph_2.png\"/>"
   ]
  },
  {
   "cell_type": "markdown",
   "metadata": {
    "collapsed": true,
    "jupyter": {
     "outputs_hidden": true
    },
    "slideshow": {
     "slide_type": "slide"
    }
   },
   "source": [
    "The graph is represented as follows:"
   ]
  },
  {
   "cell_type": "code",
   "execution_count": 6,
   "metadata": {
    "slideshow": {
     "slide_type": "fragment"
    }
   },
   "outputs": [],
   "source": [
    "g2 = {\n",
    "  0: [1, 2, 3],\n",
    "  1: [0, 4],\n",
    "  2: [0],\n",
    "  3: [0, 5],\n",
    "  4: [1, 5],\n",
    "  5: [3, 4, 6, 7],\n",
    "  6: [5],\n",
    "  7: [5]\n",
    "}"
   ]
  },
  {
   "cell_type": "markdown",
   "metadata": {
    "slideshow": {
     "slide_type": "slide"
    }
   },
   "source": [
    "Then we can traverse with with the stack-based version of depth-first search:"
   ]
  },
  {
   "cell_type": "code",
   "execution_count": 7,
   "metadata": {
    "slideshow": {
     "slide_type": "fragment"
    }
   },
   "outputs": [
    {
     "name": "stdout",
     "output_type": "stream",
     "text": [
      "Stack [0]\n",
      "Visiting 0\n",
      "Stack [1, 2, 3]\n",
      "Visiting 3\n",
      "Stack [1, 2, 5]\n",
      "Visiting 5\n",
      "Stack [1, 2, 4, 6, 7]\n",
      "Visiting 7\n",
      "Stack [1, 2, 4, 6]\n",
      "Visiting 6\n",
      "Stack [1, 2, 4]\n",
      "Visiting 4\n",
      "Stack [1, 2, 1]\n",
      "Visiting 1\n",
      "Stack [1, 2]\n",
      "Visiting 2\n",
      "Stack [1]\n",
      "Visiting 1\n"
     ]
    },
    {
     "data": {
      "text/plain": [
       "[True, True, True, True, True, True, True, True]"
      ]
     },
     "execution_count": 7,
     "metadata": {},
     "output_type": "execute_result"
    }
   ],
   "source": [
    "dfs_stack(g2, 0)"
   ]
  },
  {
   "cell_type": "markdown",
   "metadata": {
    "slideshow": {
     "slide_type": "slide"
    }
   },
   "source": [
    "You may notice that node 1 enters the stack twice.\n",
    "\n",
    "That does not affect the correctness of the algorithm, as the algorithm will explore the whole graph, but we can fix it anyway.\n",
    "\n",
    "One way to fix it would be to search in the stack and if the node is already there, we would not put it.\n",
    "\n",
    "However, searching in a list takes place in linear time, depending on the length of the list.\n",
    "\n",
    "It is faster to keep a separate structure in which we record if something is in the stack. \n",
    "\n",
    "That requires more space: an instance of speed-space trade-off."
   ]
  },
  {
   "cell_type": "code",
   "execution_count": 8,
   "metadata": {
    "slideshow": {
     "slide_type": "slide"
    }
   },
   "outputs": [
    {
     "name": "stdout",
     "output_type": "stream",
     "text": [
      "Stack [0]\n",
      "Visiting 0\n",
      "Stack [1, 2, 3]\n",
      "Visiting 3\n",
      "Stack [1, 2, 5]\n",
      "Visiting 5\n",
      "Stack [1, 2, 4, 6, 7]\n",
      "Visiting 7\n",
      "Stack [1, 2, 4, 6]\n",
      "Visiting 6\n",
      "Stack [1, 2, 4]\n",
      "Visiting 4\n",
      "Stack [1, 2]\n",
      "Visiting 2\n",
      "Stack [1]\n",
      "Visiting 1\n"
     ]
    },
    {
     "data": {
      "text/plain": [
       "[True, True, True, True, True, True, True, True]"
      ]
     },
     "execution_count": 8,
     "metadata": {},
     "output_type": "execute_result"
    }
   ],
   "source": [
    "def dfs_nd_stack(g: dict, node: Hashable) -> list[bool]:\n",
    "    s = []\n",
    "    visited = [ False ] * len(g)\n",
    "    instack = [ False ] * len(g)\n",
    "\n",
    "    s.append(node)\n",
    "    instack[node] = True\n",
    "    while len(s) != 0:\n",
    "        print(\"Stack\", s)\n",
    "        c = s.pop()\n",
    "        instack[c] = False\n",
    "        print(\"Visiting\", c)\n",
    "        visited[c] = True\n",
    "        for v in g[c]:\n",
    "            if not visited[v] and not instack[v]:\n",
    "                s.append(v)\n",
    "                instack[v] = True\n",
    "    return visited\n",
    "  \n",
    "dfs_nd_stack(g2, 0)"
   ]
  },
  {
   "cell_type": "markdown",
   "metadata": {
    "slideshow": {
     "slide_type": "slide"
    }
   },
   "source": [
    "# Breadth-first Search\n",
    "\n",
    "In breadth-first search we visit all neighbours of a node, then all the neighbours of the neighbours, and so on.\n",
    "\n",
    "The exploration is like a ripple spreading outwards.\n",
    "\n",
    "We can implement breadth-first search using a First-In First-Out (FIFO) queue; in Python this is provided by `collections.deque`."
   ]
  },
  {
   "cell_type": "code",
   "execution_count": 9,
   "metadata": {
    "slideshow": {
     "slide_type": "slide"
    }
   },
   "outputs": [
    {
     "name": "stdout",
     "output_type": "stream",
     "text": [
      "Queue deque([0])\n",
      "Visiting 0\n",
      "Queue deque([3, 2, 1])\n",
      "Visiting 1\n",
      "Queue deque([4, 3, 2])\n",
      "Visiting 2\n",
      "Queue deque([4, 3])\n",
      "Visiting 3\n",
      "Queue deque([5, 4])\n",
      "Visiting 4\n",
      "Queue deque([5])\n",
      "Visiting 5\n",
      "Queue deque([7, 6])\n",
      "Visiting 6\n",
      "Queue deque([7])\n",
      "Visiting 7\n"
     ]
    },
    {
     "data": {
      "text/plain": [
       "[True, True, True, True, True, True, True, True]"
      ]
     },
     "execution_count": 9,
     "metadata": {},
     "output_type": "execute_result"
    }
   ],
   "source": [
    "from collections import deque \n",
    "\n",
    "g = {\n",
    "    0: [1, 2, 3],\n",
    "    1: [0, 4],\n",
    "    2: [0, 4],\n",
    "    3: [0, 5],\n",
    "    4: [5],\n",
    "    5: [4, 6, 7],\n",
    "    6: [],\n",
    "    7: []\n",
    "}\n",
    "\n",
    "def bfs(g: dict, node: Hashable) -> list[bool]:\n",
    "    \n",
    "    q = deque()\n",
    "    \n",
    "    visited = [ False ] * len(g)\n",
    "    inqueue = [ False ] * len(g)\n",
    "    \n",
    "    q.appendleft(node)\n",
    "    inqueue[node] = True\n",
    "    \n",
    "    while not (len(q) == 0):\n",
    "        print(\"Queue\", q)\n",
    "        c = q.pop()\n",
    "        print(\"Visiting\", c)\n",
    "        inqueue[c] = False\n",
    "        visited[c] = True\n",
    "        for v in g[c]:\n",
    "            if not visited[v] and not inqueue[v]:\n",
    "                q.appendleft(v)\n",
    "                inqueue[v] = True\n",
    "                \n",
    "    return visited\n",
    "\n",
    "bfs(g, 0)"
   ]
  },
  {
   "cell_type": "markdown",
   "metadata": {
    "slideshow": {
     "slide_type": "slide"
    }
   },
   "source": [
    "# Reading a Graph from a File\n",
    "\n",
    "Usually we read graphs from files, typically text files.\n",
    "\n",
    "A common way to store graphs is in text files where each line contains a link between two nodes.\n",
    "\n",
    "For example, the file containing the first graph we saw would be:\n",
    "```\n",
    "0 1\n",
    "0 2\n",
    "0 3\n",
    "1 0\n",
    "1 4\n",
    "2 0\n",
    "2 4\n",
    "3 0\n",
    "3 5\n",
    "4 5\n",
    "5 4\n",
    "5 6\n",
    "5 7\n",
    "```"
   ]
  },
  {
   "cell_type": "markdown",
   "metadata": {
    "slideshow": {
     "slide_type": "slide"
    }
   },
   "source": [
    "To read this file we would go line-by-line.\n",
    "\n",
    "We would split each line on whitespace.\n",
    "\n",
    "We would then get the two parts and treat them as nodes.\n",
    "\n",
    "Note that we assume that the nodes are integers, so we convert the split pieces with `int(x)`. If nodes were strings, this would not be required.\n",
    "\n",
    "We also assume that the graph is directed."
   ]
  },
  {
   "cell_type": "markdown",
   "metadata": {
    "slideshow": {
     "slide_type": "slide"
    }
   },
   "source": [
    "The following example will read file [example_graph_1.txt](example_graph_1.txt), the directed graph we used for the depth-first example, which has the following contents:\n",
    "\n",
    "```\n",
    "0 1\n",
    "0 2\n",
    "0 3\n",
    "1 0\n",
    "1 4\n",
    "2 0\n",
    "2 4\n",
    "3 0\n",
    "3 5\n",
    "4 5\n",
    "5 4\n",
    "5 6\n",
    "5 7\n",
    "```"
   ]
  },
  {
   "cell_type": "code",
   "execution_count": 10,
   "metadata": {
    "slideshow": {
     "slide_type": "fragment"
    }
   },
   "outputs": [
    {
     "name": "stdout",
     "output_type": "stream",
     "text": [
      "{0: [1, 2, 3], 1: [0, 4], 2: [0, 4], 3: [0, 5], 4: [5], 5: [4, 6, 7], 6: [], 7: []}\n"
     ]
    }
   ],
   "source": [
    "input_filename = \"example_graph_1.txt\"\n",
    "\n",
    "g = {}\n",
    "\n",
    "with open(input_filename) as graph_input:\n",
    "    for line in graph_input:\n",
    "        # Split line and convert line parts to integers.\n",
    "        nodes = [int(x) for x in line.split()]\n",
    "        if len(nodes) != 2:\n",
    "            continue\n",
    "        # If a node is not already in the graph\n",
    "        # we must create a new empty list.\n",
    "        if nodes[0] not in g:\n",
    "            g[nodes[0]] = []\n",
    "        if nodes[1] not in g:\n",
    "            g[nodes[1]] = []\n",
    "        # We need to append the \"to\" node\n",
    "        # to the existing list for the \"from\" node.\n",
    "        g[nodes[0]].append(nodes[1])\n",
    "\n",
    "print(g)"
   ]
  },
  {
   "cell_type": "markdown",
   "metadata": {
    "slideshow": {
     "slide_type": "slide"
    }
   },
   "source": [
    "Printing a graph like that is not very convenient.\n",
    "\n",
    "Python offers the ``pprint`` (pretty-print) library that can help us output stuff in a more meaningful manner."
   ]
  },
  {
   "cell_type": "code",
   "execution_count": 11,
   "metadata": {
    "slideshow": {
     "slide_type": "fragment"
    }
   },
   "outputs": [
    {
     "name": "stdout",
     "output_type": "stream",
     "text": [
      "{0: [1, 2, 3],\n",
      " 1: [0, 4],\n",
      " 2: [0, 4],\n",
      " 3: [0, 5],\n",
      " 4: [5],\n",
      " 5: [4, 6, 7],\n",
      " 6: [],\n",
      " 7: []}\n"
     ]
    }
   ],
   "source": [
    "import pprint\n",
    "\n",
    "pprint.pprint(g)"
   ]
  },
  {
   "cell_type": "markdown",
   "metadata": {
    "slideshow": {
     "slide_type": "slide"
    }
   },
   "source": [
    "For undirected graphs, the code is pretty much the same; we only need to take care to enter the edge $(v, u)$ for every edge $(u, v)$ that we meet in the file.\n",
    "\n",
    "Here is the equivalent for the file [example_graph_2.txt](example_graph_2.txt), which is the undirected graph we used for depth-first search."
   ]
  },
  {
   "cell_type": "code",
   "execution_count": 12,
   "metadata": {
    "slideshow": {
     "slide_type": "slide"
    }
   },
   "outputs": [
    {
     "name": "stdout",
     "output_type": "stream",
     "text": [
      "{0: [1, 2, 3],\n",
      " 1: [0, 4],\n",
      " 2: [0],\n",
      " 3: [0, 5],\n",
      " 4: [1, 5],\n",
      " 5: [3, 4, 6, 7],\n",
      " 6: [5],\n",
      " 7: [5]}\n"
     ]
    }
   ],
   "source": [
    "input_filename = \"example_graph_2.txt\"\n",
    "\n",
    "g = {}\n",
    "\n",
    "with open(input_filename) as graph_input:\n",
    "    for line in graph_input:\n",
    "        # Split line and convert line parts to integers.\n",
    "        nodes = [int(x) for x in line.split()]\n",
    "        if len(nodes) != 2:\n",
    "            continue\n",
    "        # If a node is not already in the graph\n",
    "        # we must create a new empty list.\n",
    "        if nodes[0] not in g:\n",
    "            g[nodes[0]] = []\n",
    "        if nodes[1] not in g:\n",
    "            g[nodes[1]] = []\n",
    "        # We need to append the \"to\" node\n",
    "        # to the existing list for the \"from\" node.\n",
    "        g[nodes[0]].append(nodes[1])\n",
    "        # And also the other way round.\n",
    "        g[nodes[1]].append(nodes[0])\n",
    "\n",
    "pprint.pprint(g)"
   ]
  },
  {
   "cell_type": "markdown",
   "metadata": {
    "slideshow": {
     "slide_type": "slide"
    }
   },
   "source": [
    "# Real Graph Processing in Python\n",
    "\n",
    "In a real program we would not use our own hand-crafted code for handling graphs in Python.\n",
    "\n",
    "we would use instead use a respected library, used by many developers around the world, and optimized over time.\n",
    "\n",
    "For that purpose, check the [NetworkX](https://networkx.github.io/) library."
   ]
  }
 ],
 "metadata": {
  "celltoolbar": "Slideshow",
  "kernelspec": {
   "display_name": "Python 3 (ipykernel)",
   "language": "python",
   "name": "python3"
  },
  "language_info": {
   "codemirror_mode": {
    "name": "ipython",
    "version": 3
   },
   "file_extension": ".py",
   "mimetype": "text/x-python",
   "name": "python",
   "nbconvert_exporter": "python",
   "pygments_lexer": "ipython3",
   "version": "3.11.8"
  }
 },
 "nbformat": 4,
 "nbformat_minor": 4
}
