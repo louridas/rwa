{
 "cells": [
  {
   "cell_type": "markdown",
   "metadata": {
    "slideshow": {
     "slide_type": "slide"
    }
   },
   "source": [
    "# Secrets\n",
    "\n",
    "Chapter 4 of [Real-World Algorithms](https://mitpress.mit.edu/books/real-world-algorithms).\n",
    "\n",
    "---\n",
    "\n",
    "> Panos Louridas<br />\n",
    "> Athens University of Economics and Business"
   ]
  },
  {
   "cell_type": "markdown",
   "metadata": {
    "slideshow": {
     "slide_type": "slide"
    }
   },
   "source": [
    "## Substitution Cipher\n",
    "\n",
    "The simplest encryption and decryption scheme is probably a substitution cipher, also known as Caesar cipher.\n",
    "\n",
    "In Python, we take each character's encoding, via `ord()`. \n",
    "\n",
    "We calculate its position in the alphabet by subtracting the encoding for `A`.\n",
    "\n",
    "We add a `shift` to it, taking care to wrap around if we get past 26 (the number of letters in our alphabet).\n",
    "\n",
    "The result is the position in the alphabet of the encrypted character, so we add it to the position of `A` to get its actual encoding. \n",
    "\n",
    "We convert the encoding to a character with `chr()`.\n",
    "\n",
    "In our example we assume that we encrypt texts containing only upper case latin characters."
   ]
  },
  {
   "cell_type": "code",
   "execution_count": 1,
   "metadata": {
    "slideshow": {
     "slide_type": "fragment"
    }
   },
   "outputs": [
    {
     "name": "stdout",
     "output_type": "stream",
     "text": [
      "NFRXJFYJINSFSTKKNHJ\n"
     ]
    }
   ],
   "source": [
    "import io\n",
    "\n",
    "def caesar_cipher(plaintext, shift):\n",
    "    ciphertext = [ chr((ord(c) - ord('A') + shift) % 26 + ord('A')) \n",
    "                  for c in plaintext ]\n",
    "    return ''.join(ciphertext)\n",
    "    \n",
    "ciphertext = caesar_cipher('IAMSEATEDINANOFFICE', 5)\n",
    "print(ciphertext)"
   ]
  },
  {
   "cell_type": "markdown",
   "metadata": {
    "slideshow": {
     "slide_type": "slide"
    }
   },
   "source": [
    "Decryption is really the same think as encryption, we just use the opposite shift:"
   ]
  },
  {
   "cell_type": "code",
   "execution_count": 2,
   "metadata": {
    "slideshow": {
     "slide_type": "fragment"
    }
   },
   "outputs": [
    {
     "name": "stdout",
     "output_type": "stream",
     "text": [
      "IAMSEATEDINANOFFICE\n"
     ]
    }
   ],
   "source": [
    "print(caesar_cipher(ciphertext, -5))"
   ]
  },
  {
   "cell_type": "markdown",
   "metadata": {
    "slideshow": {
     "slide_type": "slide"
    }
   },
   "source": [
    "Needless to say, this is not a good cipher. \n",
    "\n",
    "As we have not taken out the spaces between the words, one can even make out the structure of the text.\n",
    "\n",
    "To break the decryption, one only needs to try different shifts."
   ]
  },
  {
   "cell_type": "markdown",
   "metadata": {
    "slideshow": {
     "slide_type": "slide"
    }
   },
   "source": [
    "## One-time Pad\n",
    "\n",
    "The only truly unbreakable cipher is the one-time pad.\n",
    "\n",
    "To implement a simple version of it, we will use a helper function that returns the position of a character in the alphabet.\n",
    "\n",
    "Again, we assume that we work with messages composed only of upper case latin characters."
   ]
  },
  {
   "cell_type": "code",
   "execution_count": 3,
   "metadata": {
    "slideshow": {
     "slide_type": "fragment"
    }
   },
   "outputs": [],
   "source": [
    "def ord0(c):\n",
    "    return ord(c) - ord('A')"
   ]
  },
  {
   "cell_type": "markdown",
   "metadata": {
    "slideshow": {
     "slide_type": "slide"
    }
   },
   "source": [
    "This is then the one-time pad encryption function:"
   ]
  },
  {
   "cell_type": "code",
   "execution_count": 4,
   "metadata": {
    "slideshow": {
     "slide_type": "fragment"
    }
   },
   "outputs": [],
   "source": [
    "def otpad_encrypt(plaintext, randomtext):\n",
    "    encrypted = [ chr((ord0(c) + ord0(r)) % 26 + ord('A')) \n",
    "                 for c, r in zip(plaintext, randomtext) ]\n",
    "    return ''.join(encrypted)"
   ]
  },
  {
   "cell_type": "markdown",
   "metadata": {
    "slideshow": {
     "slide_type": "slide"
    }
   },
   "source": [
    "To see it in action:"
   ]
  },
  {
   "cell_type": "code",
   "execution_count": 5,
   "metadata": {
    "slideshow": {
     "slide_type": "fragment"
    }
   },
   "outputs": [
    {
     "name": "stdout",
     "output_type": "stream",
     "text": [
      "ZISIQAIMNUHTZQHPX\n"
     ]
    }
   ],
   "source": [
    "plaintext = \"IFYOUREALLYWANTTO\"\n",
    "randomtext = \"RDUUWJEMCJJXZDOWJ\"\n",
    "\n",
    "ciphertext = otpad_encrypt(plaintext, randomtext)\n",
    "print(ciphertext)"
   ]
  },
  {
   "cell_type": "markdown",
   "metadata": {
    "slideshow": {
     "slide_type": "slide"
    }
   },
   "source": [
    "Decryption is similar, but we subtract instead of adding:"
   ]
  },
  {
   "cell_type": "code",
   "execution_count": 6,
   "metadata": {
    "slideshow": {
     "slide_type": "fragment"
    }
   },
   "outputs": [],
   "source": [
    "def otpad_decrypt(ciphertext, randomtext):\n",
    "    decrypted = [ chr((ord0(c) - ord0(r)) % 26 + ord('A')) \n",
    "                 for c, r in zip(ciphertext, randomtext) ]\n",
    "    return ''.join(decrypted)"
   ]
  },
  {
   "cell_type": "markdown",
   "metadata": {
    "slideshow": {
     "slide_type": "slide"
    }
   },
   "source": [
    "So we can now decrypt the message we encrypted:"
   ]
  },
  {
   "cell_type": "code",
   "execution_count": 7,
   "metadata": {
    "slideshow": {
     "slide_type": "fragment"
    }
   },
   "outputs": [
    {
     "name": "stdout",
     "output_type": "stream",
     "text": [
      "IFYOUREALLYWANTTO\n"
     ]
    }
   ],
   "source": [
    "plaintext = otpad_decrypt(ciphertext, randomtext)\n",
    "print(plaintext)"
   ]
  },
  {
   "cell_type": "markdown",
   "metadata": {
    "slideshow": {
     "slide_type": "slide"
    }
   },
   "source": [
    "A one-time pad is impossible to decrypt unless you know the random text that has been used as the encryption key.\n",
    "\n",
    "In fact, you can always invent a random text that decrypts to something sensible, but completely irrelevant to the original plaintext.\n",
    "\n",
    "To do that, we only need to decrypt our *ciphertext* using as key our *intended decryption*."
   ]
  },
  {
   "cell_type": "code",
   "execution_count": 8,
   "metadata": {
    "slideshow": {
     "slide_type": "fragment"
    }
   },
   "outputs": [
    {
     "name": "stdout",
     "output_type": "stream",
     "text": [
      "RIGQMAPIKMUTMCCKP\n"
     ]
    }
   ],
   "source": [
    "red_herring = otpad_decrypt(ciphertext, \"IAMSEATEDINANOFFI\")\n",
    "print(red_herring)"
   ]
  },
  {
   "cell_type": "markdown",
   "metadata": {
    "slideshow": {
     "slide_type": "slide"
    }
   },
   "source": [
    "So now we can leak the value of `red_herring` as the key, and the opponent will then decrypt:"
   ]
  },
  {
   "cell_type": "code",
   "execution_count": 9,
   "metadata": {
    "slideshow": {
     "slide_type": "fragment"
    }
   },
   "outputs": [
    {
     "name": "stdout",
     "output_type": "stream",
     "text": [
      "IAMSEATEDINANOFFI\n"
     ]
    }
   ],
   "source": [
    "print(otpad_decrypt(ciphertext, red_herring))"
   ]
  },
  {
   "cell_type": "markdown",
   "metadata": {
    "slideshow": {
     "slide_type": "slide"
    }
   },
   "source": [
    "Or anything else we like, for instance:"
   ]
  },
  {
   "cell_type": "code",
   "execution_count": 10,
   "metadata": {
    "slideshow": {
     "slide_type": "fragment"
    }
   },
   "outputs": [
    {
     "name": "stdout",
     "output_type": "stream",
     "text": [
      "IEFFMBNYTCHAMIBIE\n"
     ]
    }
   ],
   "source": [
    "red_herring = otpad_decrypt(ciphertext, \"RENDEZVOUSATNIGHT\")\n",
    "print(red_herring)"
   ]
  },
  {
   "cell_type": "markdown",
   "metadata": {
    "slideshow": {
     "slide_type": "slide"
    }
   },
   "source": [
    "That will happily decrypt our initial ciphertext again:"
   ]
  },
  {
   "cell_type": "code",
   "execution_count": 11,
   "metadata": {
    "slideshow": {
     "slide_type": "fragment"
    }
   },
   "outputs": [
    {
     "name": "stdout",
     "output_type": "stream",
     "text": [
      "RENDEZVOUSATNIGHT\n"
     ]
    }
   ],
   "source": [
    "print(otpad_decrypt(ciphertext, red_herring))"
   ]
  },
  {
   "cell_type": "markdown",
   "metadata": {
    "slideshow": {
     "slide_type": "slide"
    }
   },
   "source": [
    "When working with a one-time pad, we don't really need to do addition and subtraction on the positions of the letters in the alphabet.\n",
    "\n",
    "It is more convenient and faster to use the XOR operation.\n",
    "\n",
    "For encryption, we just XOR the plaintext and the randomtext:"
   ]
  },
  {
   "cell_type": "code",
   "execution_count": 12,
   "metadata": {
    "slideshow": {
     "slide_type": "fragment"
    }
   },
   "outputs": [],
   "source": [
    "def otpad_xencrypt(plaintext, randomtext):\n",
    "    encrypted = [ chr(ord(p) ^ ord(r)) for p, r in zip(plaintext, randomtext) ]\n",
    "    return ''.join(encrypted)"
   ]
  },
  {
   "cell_type": "markdown",
   "metadata": {
    "slideshow": {
     "slide_type": "slide"
    }
   },
   "source": [
    "So we can now see how it works:"
   ]
  },
  {
   "cell_type": "code",
   "execution_count": 13,
   "metadata": {
    "slideshow": {
     "slide_type": "fragment"
    }
   },
   "outputs": [
    {
     "name": "stdout",
     "output_type": "stream",
     "text": [
      "\u001b\u0002\f",
      "\u001a\u0002\u0018\u0000\f",
      "\u000f\u0006\u0013\u000f\u001b\n",
      "\u001b\u0003\u0005\n"
     ]
    }
   ],
   "source": [
    "ciphertext = otpad_xencrypt(plaintext, randomtext)\n",
    "print(ciphertext)"
   ]
  },
  {
   "cell_type": "markdown",
   "metadata": {
    "slideshow": {
     "slide_type": "slide"
    }
   },
   "source": [
    "In fact we see nothing!\n",
    "\n",
    "That is because the encrypted string is composed entirely of non-printable ASCII characters or whitespace.\n",
    "\n",
    "If we really want to, we can print its hexadecimal representation."
   ]
  },
  {
   "cell_type": "code",
   "execution_count": 14,
   "metadata": {
    "slideshow": {
     "slide_type": "fragment"
    }
   },
   "outputs": [
    {
     "name": "stdout",
     "output_type": "stream",
     "text": [
      "b'\\x1b\\x02\\x0c\\x1a\\x02\\x18\\x00\\x0c\\x0f\\x06\\x13\\x0f\\x1b\\n\\x1b\\x03\\x05'\n"
     ]
    }
   ],
   "source": [
    "print(ciphertext.encode('utf8'))"
   ]
  },
  {
   "cell_type": "markdown",
   "metadata": {
    "slideshow": {
     "slide_type": "slide"
    }
   },
   "source": [
    "Decryption now is exactly the same with encryption, but we use the ciphertext and the random text:"
   ]
  },
  {
   "cell_type": "code",
   "execution_count": 15,
   "metadata": {
    "slideshow": {
     "slide_type": "fragment"
    }
   },
   "outputs": [
    {
     "name": "stdout",
     "output_type": "stream",
     "text": [
      "IFYOUREALLYWANTTO\n"
     ]
    }
   ],
   "source": [
    "decrypted = otpad_xencrypt(ciphertext, randomtext)\n",
    "\n",
    "print(decrypted)"
   ]
  },
  {
   "cell_type": "markdown",
   "metadata": {},
   "source": [
    "## Vigenère Cipher\n"
   ]
  },
  {
   "cell_type": "code",
   "execution_count": 16,
   "metadata": {},
   "outputs": [
    {
     "name": "stdout",
     "output_type": "stream",
     "text": [
      "['ABCDEFGHIJKLMNOPQRSTUVWXYZ',\n",
      " 'BCDEFGHIJKLMNOPQRSTUVWXYZA',\n",
      " 'CDEFGHIJKLMNOPQRSTUVWXYZAB',\n",
      " 'DEFGHIJKLMNOPQRSTUVWXYZABC',\n",
      " 'EFGHIJKLMNOPQRSTUVWXYZABCD',\n",
      " 'FGHIJKLMNOPQRSTUVWXYZABCDE',\n",
      " 'GHIJKLMNOPQRSTUVWXYZABCDEF',\n",
      " 'HIJKLMNOPQRSTUVWXYZABCDEFG',\n",
      " 'IJKLMNOPQRSTUVWXYZABCDEFGH',\n",
      " 'JKLMNOPQRSTUVWXYZABCDEFGHI',\n",
      " 'KLMNOPQRSTUVWXYZABCDEFGHIJ',\n",
      " 'LMNOPQRSTUVWXYZABCDEFGHIJK',\n",
      " 'MNOPQRSTUVWXYZABCDEFGHIJKL',\n",
      " 'NOPQRSTUVWXYZABCDEFGHIJKLM',\n",
      " 'OPQRSTUVWXYZABCDEFGHIJKLMN',\n",
      " 'PQRSTUVWXYZABCDEFGHIJKLMNO',\n",
      " 'QRSTUVWXYZABCDEFGHIJKLMNOP',\n",
      " 'RSTUVWXYZABCDEFGHIJKLMNOPQ',\n",
      " 'STUVWXYZABCDEFGHIJKLMNOPQR',\n",
      " 'TUVWXYZABCDEFGHIJKLMNOPQRS',\n",
      " 'UVWXYZABCDEFGHIJKLMNOPQRST',\n",
      " 'VWXYZABCDEFGHIJKLMNOPQRSTU',\n",
      " 'WXYZABCDEFGHIJKLMNOPQRSTUV',\n",
      " 'XYZABCDEFGHIJKLMNOPQRSTUVW',\n",
      " 'YZABCDEFGHIJKLMNOPQRSTUVWX',\n",
      " 'ZABCDEFGHIJKLMNOPQRSTUVWXY']\n"
     ]
    }
   ],
   "source": [
    "import string\n",
    "import pprint\n",
    "\n",
    "tabula_recta = [\n",
    "    string.ascii_uppercase[i:] + string.ascii_uppercase[:i]\n",
    "    for i, row in enumerate(string.ascii_uppercase)\n",
    "]\n",
    "\n",
    "pprint.pprint(tabula_recta)"
   ]
  },
  {
   "cell_type": "code",
   "execution_count": 17,
   "metadata": {},
   "outputs": [
    {
     "name": "stdout",
     "output_type": "stream",
     "text": [
      "LEMONLEMONLE\n",
      "LXFOPVEFRNHR\n"
     ]
    }
   ],
   "source": [
    "key = 'LEMON'\n",
    "\n",
    "plaintext = 'ATTACKATDAWN'\n",
    "\n",
    "key_repetitions, key_remainder = divmod(len(plaintext), len(key))\n",
    "                   \n",
    "expand_key = key * key_repetitions + key[:key_remainder]\n",
    "print(expand_key)\n",
    "ciphertext = ''\n",
    "for k, p in zip (expand_key, plaintext):\n",
    "    ciphertext += tabula_recta[ord(k) - ord('A')][ord(p) - ord('A')]\n",
    "print(ciphertext)"
   ]
  },
  {
   "cell_type": "markdown",
   "metadata": {
    "slideshow": {
     "slide_type": "slide"
    }
   },
   "source": [
    "## AES\n",
    "\n",
    "No, we are not going to give an implementation of AES here.\n",
    "\n",
    "The algorithm is very complicated, and a real implementation would go well beyond the scope of this notebook."
   ]
  },
  {
   "cell_type": "markdown",
   "metadata": {
    "slideshow": {
     "slide_type": "slide"
    }
   },
   "source": [
    "## Diffie-Hellman Key Exchange\n",
    "\n",
    "The Diffie-Hellman key exchange scheme is based on the discrete logarithm problem.\n",
    "\n",
    "That is, it is very difficult to find $x$ from the value of $g^x \\bmod p$, if $g$ and $p$ are chosen carefully."
   ]
  },
  {
   "cell_type": "markdown",
   "metadata": {
    "slideshow": {
     "slide_type": "slide"
    }
   },
   "source": [
    "For example, see what is happening for $g = 2$ and $p = 13$.\n",
    "\n",
    "$g^x$ is predictable, but $g^x \\bmod p$ does not show any pattern.\n",
    "\n",
    "Note that, in what follows, we are going to use Python's function `pow()`. \n",
    "\n",
    "Although Python has an operator for exponentiation (`**`), `pow()` is useful because it can either be called as `pow(x, y)` to return $x^y$, or `pow(x, y, p)` to return $x^y \\bmod p$."
   ]
  },
  {
   "cell_type": "code",
   "execution_count": 18,
   "metadata": {
    "slideshow": {
     "slide_type": "fragment"
    }
   },
   "outputs": [
    {
     "name": "stdout",
     "output_type": "stream",
     "text": [
      "2 2\n",
      "4 4\n",
      "8 8\n",
      "16 3\n",
      "32 6\n",
      "64 12\n",
      "128 11\n",
      "256 9\n",
      "512 5\n",
      "1024 10\n",
      "2048 7\n",
      "4096 1\n"
     ]
    }
   ],
   "source": [
    "g = 2\n",
    "p = 13\n",
    "\n",
    "for x in range(1, 13):\n",
    "    print(pow(g, x), pow(g, x, p))"
   ]
  },
  {
   "cell_type": "markdown",
   "metadata": {
    "slideshow": {
     "slide_type": "slide"
    }
   },
   "source": [
    "To see how Diffie-Hellman works, let us take Alice and Bob.\n",
    "\n",
    "Alice and Bob agree on $g$ and $p$.\n",
    "\n",
    "They choose $p = 2^{4096} - 2^{4032} - 1 + 2^{64} \\times [ (2^{3966} \\pi) + 240904 ]$.\n",
    "\n",
    "Yes, this is a terrifying number. It is 4096 bits long.\n",
    "\n",
    "No, Alice and Bob did not got it out of thin air. They chose it from a [list of published recommendations](https://tools.ietf.org/html/rfc3526#section-5).\n",
    "\n",
    "The hexadecimal value of $p$ is equal to:\n",
    "\n",
    "```\n",
    "FFFFFFFF FFFFFFFF C90FDAA2 2168C234 C4C6628B 80DC1CD1\n",
    "29024E08 8A67CC74 020BBEA6 3B139B22 514A0879 8E3404DD\n",
    "EF9519B3 CD3A431B 302B0A6D F25F1437 4FE1356D 6D51C245\n",
    "E485B576 625E7EC6 F44C42E9 A637ED6B 0BFF5CB6 F406B7ED\n",
    "EE386BFB 5A899FA5 AE9F2411 7C4B1FE6 49286651 ECE45B3D\n",
    "C2007CB8 A163BF05 98DA4836 1C55D39A 69163FA8 FD24CF5F\n",
    "83655D23 DCA3AD96 1C62F356 208552BB 9ED52907 7096966D\n",
    "670C354E 4ABC9804 F1746C08 CA18217C 32905E46 2E36CE3B\n",
    "E39E772C 180E8603 9B2783A2 EC07A28F B5C55DF0 6F4C52C9\n",
    "DE2BCBF6 95581718 3995497C EA956AE5 15D22618 98FA0510\n",
    "15728E5A 8AAAC42D AD33170D 04507A33 A85521AB DF1CBA64\n",
    "ECFB8504 58DBEF0A 8AEA7157 5D060C7D B3970F85 A6E1E4C7\n",
    "ABF5AE8C DB0933D7 1E8C94E0 4A25619D CEE3D226 1AD2EE6B\n",
    "F12FFA06 D98A0864 D8760273 3EC86A64 521F2B18 177B200C\n",
    "BBE11757 7A615D6C 770988C0 BAD946E2 08E24FA0 74E5AB31\n",
    "43DB5BFC E0FD108E 4B82D120 A9210801 1A723C12 A787E6D7\n",
    "88719A10 BDBA5B26 99C32718 6AF4E23C 1A946834 B6150BDA\n",
    "2583E9CA 2AD44CE8 DBBBC2DB 04DE8EF9 2E8EFC14 1FBECAA6\n",
    "287C5947 4E6BC05D 99B2964F A090C3A2 233BA186 515BE7ED\n",
    "1F612970 CEE2D7AF B81BDD76 2170481C D0069127 D5B05AA9\n",
    "93B4EA98 8D8FDDC1 86FFB7DC 90A6C08F 4DF435C9 34063199\n",
    "FFFFFFFF FFFFFFFF\n",
    "```"
   ]
  },
  {
   "cell_type": "code",
   "execution_count": 19,
   "metadata": {
    "slideshow": {
     "slide_type": "fragment"
    }
   },
   "outputs": [],
   "source": [
    "p = 0xFFFFFFFFFFFFFFFFC90FDAA22168C234C4C6628B80DC1CD129024E088A67CC74020BBEA63B139B22514A08798E3404DDEF9519B3CD3A431B302B0A6DF25F14374FE1356D6D51C245E485B576625E7EC6F44C42E9A637ED6B0BFF5CB6F406B7EDEE386BFB5A899FA5AE9F24117C4B1FE649286651ECE45B3DC2007CB8A163BF0598DA48361C55D39A69163FA8FD24CF5F83655D23DCA3AD961C62F356208552BB9ED529077096966D670C354E4ABC9804F1746C08CA18217C32905E462E36CE3BeE39E772C180E86039B2783A2EC07A28FB5C55DF06F4C52C9DE2BCBF6955817183995497CEA956AE515D2261898FA051015728E5A8AAAC42DAD33170D04507A33A85521ABDF1CBA64ECFB850458DBEF0A8AEA71575D060C7DB3970F85A6E1E4C7ABF5AE8CDB0933D71E8C94E04A25619DCEE3D2261AD2EE6BF12FFA06D98A0864D87602733EC86A64521F2B18177B200CBBE117577A615D6C770988C0BAD946E208E24FA074E5AB3143DB5BFCE0FD108E4B82D120A92108011A723C12A787E6D788719A10BDBA5B2699C327186AF4E23C1A946834B6150BDA2583E9CA2AD44CE8DBBBC2DB04DE8EF92E8EFC141FBECAA6287C59474E6BC05D99B2964FA090C3A2233BA186515BE7ED1F612970CEE2D7AFB81BDD762170481CD0069127D5B05AA993B4EA988D8FDDC186FFB7DC90A6C08F4DF435C934063199FFFFFFFFFFFFFFFF"
   ]
  },
  {
   "cell_type": "markdown",
   "metadata": {
    "slideshow": {
     "slide_type": "slide"
    }
   },
   "source": [
    "Then, again following the recommendations, they choose $g = 2$.\n"
   ]
  },
  {
   "cell_type": "code",
   "execution_count": 20,
   "metadata": {
    "slideshow": {
     "slide_type": "fragment"
    }
   },
   "outputs": [],
   "source": [
    "g = 2"
   ]
  },
  {
   "cell_type": "markdown",
   "metadata": {
    "slideshow": {
     "slide_type": "slide"
    }
   },
   "source": [
    "After settling for $p$ and $g$ with Bob, she picks a secret number $a$.\n",
    "\n",
    "We want $a$ to be big, 256 bits long.\n",
    "\n",
    "Alice can pick $a$ in random."
   ]
  },
  {
   "cell_type": "code",
   "execution_count": 21,
   "metadata": {
    "slideshow": {
     "slide_type": "fragment"
    }
   },
   "outputs": [
    {
     "name": "stdout",
     "output_type": "stream",
     "text": [
      "44502732632040683578775830238940160195998733706571117541161583350352458601427\n"
     ]
    }
   ],
   "source": [
    "import random\n",
    "\n",
    "a = random.getrandbits(256)\n",
    "print(a)"
   ]
  },
  {
   "cell_type": "markdown",
   "metadata": {},
   "source": [
    "She calculates $A = g^a \\bmod p$.\n",
    "\n",
    "She sends $A$ to Bob."
   ]
  },
  {
   "cell_type": "code",
   "execution_count": 22,
   "metadata": {
    "slideshow": {
     "slide_type": "fragment"
    }
   },
   "outputs": [
    {
     "name": "stdout",
     "output_type": "stream",
     "text": [
      "15090092004999429913909369022805369557001350033824932697393349869113801037011050109811348942024292205084605889709135036297831248768887179140271168358679497417316098805631144705798263166046299998379047602576092295121055893917423846408799794634243083273816333059689062877799463275201674498538122107598321996662767923601196526258679380724314347253858151042468472753557840035995737458535367064137778811488521969878662500759512842122453031500013697987291863078573360634994281209574295896714373728350755172028269001172149261429081320822110995185521951579306545183870570964632892476610535583199026503975078346154450569621546481218886114181483875513084854565524597057398651114437796748683944312460801966551732912766236434738293167268805792243492991736004917330913111151547827133685942819554228919923652018688881642086917191943638920187704149145992491189240424699465681717964537148323915462511325504507423273180692519222237604136486692922490719509164848798837826496768244725948064632498264138938734285629716925664961289164110840073088710353972017503963493169209962799511280819690868394881855532435182625506623055980993192666389325803256620501671161982633443140107733938406859390570636405173833862368117671857563847694755552068592660725373686225\n"
     ]
    }
   ],
   "source": [
    "alice_to_bob = pow(g, a, p)\n",
    "print(alice_to_bob)"
   ]
  },
  {
   "cell_type": "markdown",
   "metadata": {
    "slideshow": {
     "slide_type": "slide"
    }
   },
   "source": [
    "Bob uses the same values for $p$ and $g$.\n",
    "\n",
    "He picks a secret number $b$.\n",
    "\n",
    "He calculates $B = g^b \\bmod p$.\n",
    "\n",
    "He sends $B$ to Alice."
   ]
  },
  {
   "cell_type": "code",
   "execution_count": 23,
   "metadata": {
    "slideshow": {
     "slide_type": "fragment"
    }
   },
   "outputs": [
    {
     "name": "stdout",
     "output_type": "stream",
     "text": [
      "b = 20008824287038442565832697996952675301391062763087267949479764602963817465406\n",
      "14688910548228559574248393182549853049672899722493570710657765011234905093453411599958633613688982084492523145115909026710724066144602253896548371201904531069218771409978420526637151497267198639200035881615851136898132872152900258870687933833983033366329759080450232454075412583932663671916145154497670106994276294467776588426930701938628978418661153448372450442707785946362566126498685749048631458456543775567340424908543377501742846915889247791739240575381768480407130808672762460484387495227580119854486483043295506999874836584282267101095247901630323211646083276781078174385705070521188160377421744646366474563977394812797551262704630656733543825459064355773865433206922760535646047394030750498097838836886564433177151193258747219107953946192123011615328357876171922944114642229787800758050102159635292438477690684695423977007275125980844660315824021317061615892905288441667074374506875347079987218113933532488862286288157606404128241938709525760832698823478534357009194486521091617056222706417089811194771383543519298038382921299123036293417536150194761454598252251781912486531165481586482909549648444346591754848110617606571631407516480591555471804728695251184560376931511384522337485165207767987448884420514702269555977429228374\n"
     ]
    }
   ],
   "source": [
    "p = 0xFFFFFFFFFFFFFFFFC90FDAA22168C234C4C6628B80DC1CD129024E088A67CC74020BBEA63B139B22514A08798E3404DDEF9519B3CD3A431B302B0A6DF25F14374FE1356D6D51C245E485B576625E7EC6F44C42E9A637ED6B0BFF5CB6F406B7EDEE386BFB5A899FA5AE9F24117C4B1FE649286651ECE45B3DC2007CB8A163BF0598DA48361C55D39A69163FA8FD24CF5F83655D23DCA3AD961C62F356208552BB9ED529077096966D670C354E4ABC9804F1746C08CA18217C32905E462E36CE3BeE39E772C180E86039B2783A2EC07A28FB5C55DF06F4C52C9DE2BCBF6955817183995497CEA956AE515D2261898FA051015728E5A8AAAC42DAD33170D04507A33A85521ABDF1CBA64ECFB850458DBEF0A8AEA71575D060C7DB3970F85A6E1E4C7ABF5AE8CDB0933D71E8C94E04A25619DCEE3D2261AD2EE6BF12FFA06D98A0864D87602733EC86A64521F2B18177B200CBBE117577A615D6C770988C0BAD946E208E24FA074E5AB3143DB5BFCE0FD108E4B82D120A92108011A723C12A787E6D788719A10BDBA5B2699C327186AF4E23C1A946834B6150BDA2583E9CA2AD44CE8DBBBC2DB04DE8EF92E8EFC141FBECAA6287C59474E6BC05D99B2964FA090C3A2233BA186515BE7ED1F612970CEE2D7AFB81BDD762170481CD0069127D5B05AA993B4EA988D8FDDC186FFB7DC90A6C08F4DF435C934063199FFFFFFFFFFFFFFFF\n",
    "\n",
    "g = 2\n",
    "\n",
    "b = random.getrandbits(256)\n",
    "print('b =', b)\n",
    "\n",
    "bob_to_alice = pow(g, b, p)\n",
    "print(bob_to_alice)"
   ]
  },
  {
   "cell_type": "markdown",
   "metadata": {
    "slideshow": {
     "slide_type": "slide"
    }
   },
   "source": [
    "Then Alice calculates $B^a \\bmod b$:"
   ]
  },
  {
   "cell_type": "code",
   "execution_count": 24,
   "metadata": {
    "slideshow": {
     "slide_type": "fragment"
    }
   },
   "outputs": [
    {
     "name": "stdout",
     "output_type": "stream",
     "text": [
      "12815961307163765927703079021356740613072897392040946539376993544967809670881970223737262918198027346975673524427428147223752998866590831356254123867620846072384099286744312783775759881941900107785922935956193345704542551632796232185893373953088436758697565369981573892997065921512680523446474708575138891330328773581164183653308310903471529170937416963847919647829728159254403217979365437614231371249598087338339155934430392920124023112999977182383425123355537225542597831899288166673413144620460781950426425169213209896771576719087530618824425116912121357793895276127882364730561837106561910120465305511387544637439750147037602797681985578297392514731249644687187068283816885765264825862614304298736656356483963891882767331131254447847049830256996277050807845511074729792526028749427024300913682902881488215439399169388079381416524876080258980138471052086187510127579699249220104708637698553829110571514557997384340597160592385844603621769097968010932091321900806245955055333592794473816765784152381047369671130968192422450325289952158518489766735715393746638905112276253112810890480634209812615662723309449796751064666611399171485202819763430155094073994403151716608222841326463712409264653625596819247039977064460623007922610211156\n"
     ]
    }
   ],
   "source": [
    "shared_secret_alice = pow(bob_to_alice, a, p)\n",
    "print(shared_secret_alice)"
   ]
  },
  {
   "cell_type": "markdown",
   "metadata": {
    "slideshow": {
     "slide_type": "slide"
    }
   },
   "source": [
    "And Bob calculates $A^b \\bmod p$:"
   ]
  },
  {
   "cell_type": "code",
   "execution_count": 25,
   "metadata": {
    "slideshow": {
     "slide_type": "fragment"
    }
   },
   "outputs": [
    {
     "name": "stdout",
     "output_type": "stream",
     "text": [
      "12815961307163765927703079021356740613072897392040946539376993544967809670881970223737262918198027346975673524427428147223752998866590831356254123867620846072384099286744312783775759881941900107785922935956193345704542551632796232185893373953088436758697565369981573892997065921512680523446474708575138891330328773581164183653308310903471529170937416963847919647829728159254403217979365437614231371249598087338339155934430392920124023112999977182383425123355537225542597831899288166673413144620460781950426425169213209896771576719087530618824425116912121357793895276127882364730561837106561910120465305511387544637439750147037602797681985578297392514731249644687187068283816885765264825862614304298736656356483963891882767331131254447847049830256996277050807845511074729792526028749427024300913682902881488215439399169388079381416524876080258980138471052086187510127579699249220104708637698553829110571514557997384340597160592385844603621769097968010932091321900806245955055333592794473816765784152381047369671130968192422450325289952158518489766735715393746638905112276253112810890480634209812615662723309449796751064666611399171485202819763430155094073994403151716608222841326463712409264653625596819247039977064460623007922610211156\n"
     ]
    }
   ],
   "source": [
    "shared_secret_bob = pow(alice_to_bob, b, p)\n",
    "print(shared_secret_bob)"
   ]
  },
  {
   "cell_type": "markdown",
   "metadata": {
    "slideshow": {
     "slide_type": "slide"
    }
   },
   "source": [
    "They arrived at the same result.\n",
    "\n",
    "That is their secret secret."
   ]
  },
  {
   "cell_type": "code",
   "execution_count": 26,
   "metadata": {
    "slideshow": {
     "slide_type": "fragment"
    }
   },
   "outputs": [
    {
     "data": {
      "text/plain": [
       "True"
      ]
     },
     "execution_count": 26,
     "metadata": {},
     "output_type": "execute_result"
    }
   ],
   "source": [
    "shared_secret_alice == shared_secret_bob"
   ]
  },
  {
   "cell_type": "markdown",
   "metadata": {
    "slideshow": {
     "slide_type": "slide"
    }
   },
   "source": [
    "## Modular Exponentiation\n",
    "\n",
    "We saw that we are dealing with huge numbers.\n",
    "\n",
    "We need efficient implementations of the arithmetic operations.\n",
    "\n",
    "In particular, we want fast exponentiation and fast modular exponentiation.\n",
    "\n",
    "Python already implements fast operations---otherwise we would not be able to run this workbook.\n",
    "\n",
    "But it is worth seeing how such algorithms look like."
   ]
  },
  {
   "cell_type": "markdown",
   "metadata": {
    "slideshow": {
     "slide_type": "slide"
    }
   },
   "source": [
    "Exponentiation by repeated squaring is a direct application of the algorithm in the book.\n",
    "\n",
    "Instead of calculating $d \\bmod 2$, we calculate simply `d & 0b1`.\n",
    "\n",
    "That performs a bitwise AND operation between `d` and the single bit `1`. It therefore checks whether the last digit of `d` is one, which is equivalent to whether it is an odd number.\n",
    "\n",
    "Then, to perform integer division by 2, that is, $\\lfloor d / 2\\rfloor$, we only need to shift right d by one bit, `d >> 1`.\n",
    "\n",
    "We also add a statement to print the progress of the calculation, so that we get the values of $c$, $r$, and $d$ of Table 4.9 in the book.\n"
   ]
  },
  {
   "cell_type": "code",
   "execution_count": 27,
   "metadata": {
    "slideshow": {
     "slide_type": "slide"
    }
   },
   "outputs": [
    {
     "name": "stdout",
     "output_type": "stream",
     "text": [
      "         c          r          d\n",
      "        13          1     0b1101\n",
      "       169         13      0b110\n",
      "     28561         13       0b11\n",
      " 815730721     371293        0b1\n"
     ]
    },
    {
     "data": {
      "text/plain": [
       "302875106592253"
      ]
     },
     "execution_count": 27,
     "metadata": {},
     "output_type": "execute_result"
    }
   ],
   "source": [
    "def exponentiation(g, x):\n",
    "    print('{0:>10} {1:>10} {2:>10}'.format('c', 'r', 'd'))\n",
    "    c = g\n",
    "    d = x\n",
    "    r = 1\n",
    "    while d > 0:\n",
    "        print(f'{c:-10d} {r:-10d} {bin(d):>10}')\n",
    "        if d & 0b1 == 1:\n",
    "            r = r * c\n",
    "        d = d >> 1\n",
    "        c = c * c\n",
    "    return r\n",
    "\n",
    "exponentiation(13, 13)"
   ]
  },
  {
   "cell_type": "markdown",
   "metadata": {
    "slideshow": {
     "slide_type": "slide"
    }
   },
   "source": [
    "The modular exponentiation by repeated squaring is almost the same function.\n",
    "\n",
    "The only change is that the calculations of `r` and `c` inside the loop are done modulo `p`."
   ]
  },
  {
   "cell_type": "code",
   "execution_count": 28,
   "metadata": {
    "slideshow": {
     "slide_type": "slide"
    }
   },
   "outputs": [
    {
     "name": "stdout",
     "output_type": "stream",
     "text": [
      "         c          r          d\n",
      "       155          1 0b11101011\n",
      "       174        155  0b1110101\n",
      "       169        382   0b111010\n",
      "        18        382    0b11101\n",
      "       324        229     0b1110\n",
      "       188        229      0b111\n",
      "       154         42       0b11\n",
      "       256        212        0b1\n"
     ]
    },
    {
     "data": {
      "text/plain": [
       "314"
      ]
     },
     "execution_count": 28,
     "metadata": {},
     "output_type": "execute_result"
    }
   ],
   "source": [
    "def mod_exponentiation(g, x, p):\n",
    "    print('{0:>10} {1:>10} {2:>10}'.format('c', 'r', 'd'))\n",
    "    c = g % p\n",
    "    d = x\n",
    "    r = 1\n",
    "    while d > 0:\n",
    "        print(f'{c:-10d} {r:-10d} {bin(d):>10}')\n",
    "        if d & 0b1 == 1:\n",
    "            r = (r * c) % p\n",
    "        d = d >> 1\n",
    "        c = (c * c) % p\n",
    "    return r\n",
    "\n",
    "mod_exponentiation(155, 235, 391)"
   ]
  },
  {
   "cell_type": "markdown",
   "metadata": {
    "slideshow": {
     "slide_type": "slide"
    }
   },
   "source": [
    "# Secrets in Practice\n",
    "\n",
    "You should never, ever, use any of the code in this notepad for production use if you care a bit about security.\n",
    "\n",
    "The code we have shown serves for demonstration purposes only.\n",
    "\n",
    "However, the development of secure code is a full-blown art. There are many details that one has to take into account when writing code for a robust, secure system.\n",
    "\n",
    "You should *always* use libraries that have a good security record, that are actively supported, and are well documented.\n",
    "\n",
    "You should never use your own cryptographic code unless you are an expert programmer, you have shared your code with the programming community, and the consensus is that the implementation is sound."
   ]
  }
 ],
 "metadata": {
  "celltoolbar": "Slideshow",
  "kernelspec": {
   "display_name": "Python 3 (ipykernel)",
   "language": "python",
   "name": "python3"
  },
  "language_info": {
   "codemirror_mode": {
    "name": "ipython",
    "version": 3
   },
   "file_extension": ".py",
   "mimetype": "text/x-python",
   "name": "python",
   "nbconvert_exporter": "python",
   "pygments_lexer": "ipython3",
   "version": "3.11.8"
  }
 },
 "nbformat": 4,
 "nbformat_minor": 4
}
