{
 "cells": [
  {
   "cell_type": "markdown",
   "metadata": {
    "slideshow": {
     "slide_type": "slide"
    }
   },
   "source": [
    "# Secrets\n",
    "\n",
    "Chapter 4 of [Real World Algorithms](https://mitpress.mit.edu/books/real-world-algorithms).\n",
    "\n",
    "---\n",
    "\n",
    "> Panos Louridas<br />\n",
    "> Athens University of Economics and Business"
   ]
  },
  {
   "cell_type": "markdown",
   "metadata": {
    "slideshow": {
     "slide_type": "slide"
    }
   },
   "source": [
    "## Substitution Cipher\n",
    "\n",
    "The simplest encryption and decryption scheme is probably a substitution cipher, also known as Caesar cipher.\n",
    "\n",
    "In Python, we take each character's encoding, via `ord()`. \n",
    "\n",
    "We calculate its position in the alphabet by subtracting the encoding for `A`.\n",
    "\n",
    "We add a `shift` to it, taking care to wrap around if we get past 26 (the number of letters in our alphabet).\n",
    "\n",
    "The result is the position in the alphabet of the encrypted character, so we add it to the position of `A` to get its actual encoding. \n",
    "\n",
    "We convert the encoding to a character with `chr()`.\n",
    "\n",
    "In our example we assume that we encrypt texts containing only upper case latin characters."
   ]
  },
  {
   "cell_type": "code",
   "execution_count": 1,
   "metadata": {
    "slideshow": {
     "slide_type": "fragment"
    }
   },
   "outputs": [
    {
     "name": "stdout",
     "output_type": "stream",
     "text": [
      "NFRXJFYJINSFSTKKNHJ\n"
     ]
    }
   ],
   "source": [
    "import io\n",
    "\n",
    "def caesar_cipher(plaintext, shift):\n",
    "    ciphertext = [ chr((ord(c) - ord('A') + shift) % 26 + ord('A')) \n",
    "                  for c in plaintext ]\n",
    "    return ''.join(ciphertext)\n",
    "    \n",
    "ciphertext = caesar_cipher('IAMSEATEDINANOFFICE', 5)\n",
    "print(ciphertext)"
   ]
  },
  {
   "cell_type": "markdown",
   "metadata": {
    "slideshow": {
     "slide_type": "slide"
    }
   },
   "source": [
    "Decryption is really the same think as encryption, we just use the opposite shift:"
   ]
  },
  {
   "cell_type": "code",
   "execution_count": 2,
   "metadata": {
    "slideshow": {
     "slide_type": "fragment"
    }
   },
   "outputs": [
    {
     "name": "stdout",
     "output_type": "stream",
     "text": [
      "IAMSEATEDINANOFFICE\n"
     ]
    }
   ],
   "source": [
    "print(caesar_cipher(ciphertext, -5))"
   ]
  },
  {
   "cell_type": "markdown",
   "metadata": {
    "slideshow": {
     "slide_type": "slide"
    }
   },
   "source": [
    "Needless to say, this is not a good cipher. \n",
    "\n",
    "As we have not taken out the spaces between the words, one can even make out the structure of the text.\n",
    "\n",
    "To break the decryption, one only needs to try different shifts."
   ]
  },
  {
   "cell_type": "markdown",
   "metadata": {
    "slideshow": {
     "slide_type": "slide"
    }
   },
   "source": [
    "## One-time Pad\n",
    "\n",
    "The only truly unbreakable cipher is the one-time pad.\n",
    "\n",
    "To implement a simple version of it, we will use a helper function that returns the position of a character in the alphabet.\n",
    "\n",
    "Again, we assume that we work with messages composed only of upper case latin characters."
   ]
  },
  {
   "cell_type": "code",
   "execution_count": 3,
   "metadata": {
    "slideshow": {
     "slide_type": "fragment"
    }
   },
   "outputs": [],
   "source": [
    "def ord0(c):\n",
    "    return ord(c) - ord('A')"
   ]
  },
  {
   "cell_type": "markdown",
   "metadata": {
    "slideshow": {
     "slide_type": "slide"
    }
   },
   "source": [
    "This is then the one-time pad encryption function:"
   ]
  },
  {
   "cell_type": "code",
   "execution_count": 4,
   "metadata": {
    "slideshow": {
     "slide_type": "fragment"
    }
   },
   "outputs": [],
   "source": [
    "def otpad_encrypt(plaintext, randomtext):\n",
    "    encrypted = [ chr((ord0(c) + ord0(r)) % 26 + ord('A')) \n",
    "                 for c, r in zip(plaintext, randomtext) ]\n",
    "    return ''.join(encrypted)"
   ]
  },
  {
   "cell_type": "markdown",
   "metadata": {
    "slideshow": {
     "slide_type": "slide"
    }
   },
   "source": [
    "To see it in action:"
   ]
  },
  {
   "cell_type": "code",
   "execution_count": 5,
   "metadata": {
    "slideshow": {
     "slide_type": "fragment"
    }
   },
   "outputs": [
    {
     "name": "stdout",
     "output_type": "stream",
     "text": [
      "ZISIQAIMNUHTZQHPX\n"
     ]
    }
   ],
   "source": [
    "plaintext = \"IFYOUREALLYWANTTO\"\n",
    "randomtext = \"RDUUWJEMCJJXZDOWJ\"\n",
    "\n",
    "ciphertext = otpad_encrypt(plaintext, randomtext)\n",
    "print(ciphertext)"
   ]
  },
  {
   "cell_type": "markdown",
   "metadata": {
    "slideshow": {
     "slide_type": "slide"
    }
   },
   "source": [
    "Decryption is similar, but we subtract instead of adding:"
   ]
  },
  {
   "cell_type": "code",
   "execution_count": 6,
   "metadata": {
    "slideshow": {
     "slide_type": "fragment"
    }
   },
   "outputs": [],
   "source": [
    "def otpad_decrypt(ciphertext, randomtext):\n",
    "    decrypted = [ chr((ord0(c) - ord0(r)) % 26 + ord('A')) \n",
    "                 for c, r in zip(ciphertext, randomtext) ]\n",
    "    return ''.join(decrypted)"
   ]
  },
  {
   "cell_type": "markdown",
   "metadata": {
    "slideshow": {
     "slide_type": "slide"
    }
   },
   "source": [
    "So we can now decrypt the message we encrypted:"
   ]
  },
  {
   "cell_type": "code",
   "execution_count": 7,
   "metadata": {
    "slideshow": {
     "slide_type": "fragment"
    }
   },
   "outputs": [
    {
     "name": "stdout",
     "output_type": "stream",
     "text": [
      "IFYOUREALLYWANTTO\n"
     ]
    }
   ],
   "source": [
    "plaintext = otpad_decrypt(ciphertext, randomtext)\n",
    "print(plaintext)"
   ]
  },
  {
   "cell_type": "markdown",
   "metadata": {
    "slideshow": {
     "slide_type": "slide"
    }
   },
   "source": [
    "A one-time pad is impossible to decrypt unless you know the random text that has been used as the encryption key.\n",
    "\n",
    "In fact, you can always invent a random text that decrypts to something sensible, but completely irrelevant to the original plaintext.\n",
    "\n",
    "To do that, we only need to decrypt our *ciphertext* using as key our *intended decryption*."
   ]
  },
  {
   "cell_type": "code",
   "execution_count": 8,
   "metadata": {
    "slideshow": {
     "slide_type": "fragment"
    }
   },
   "outputs": [
    {
     "name": "stdout",
     "output_type": "stream",
     "text": [
      "RIGQMAPIKMUTMCCKP\n"
     ]
    }
   ],
   "source": [
    "red_herring = otpad_decrypt(ciphertext, \"IAMSEATEDINANOFFI\")\n",
    "print(red_herring)"
   ]
  },
  {
   "cell_type": "markdown",
   "metadata": {
    "slideshow": {
     "slide_type": "slide"
    }
   },
   "source": [
    "So now we can leak the value of `red_herring` as the key, and the opponent will then decrypt:"
   ]
  },
  {
   "cell_type": "code",
   "execution_count": 9,
   "metadata": {
    "slideshow": {
     "slide_type": "fragment"
    }
   },
   "outputs": [
    {
     "name": "stdout",
     "output_type": "stream",
     "text": [
      "IAMSEATEDINANOFFI\n"
     ]
    }
   ],
   "source": [
    "print(otpad_decrypt(ciphertext, red_herring))"
   ]
  },
  {
   "cell_type": "markdown",
   "metadata": {
    "slideshow": {
     "slide_type": "slide"
    }
   },
   "source": [
    "Or anything else we like, for instance:"
   ]
  },
  {
   "cell_type": "code",
   "execution_count": 10,
   "metadata": {
    "slideshow": {
     "slide_type": "fragment"
    }
   },
   "outputs": [
    {
     "name": "stdout",
     "output_type": "stream",
     "text": [
      "IEFFMBNYTCHAMIBIE\n"
     ]
    }
   ],
   "source": [
    "red_herring = otpad_decrypt(ciphertext, \"RENDEZVOUSATNIGHT\")\n",
    "print(red_herring)"
   ]
  },
  {
   "cell_type": "markdown",
   "metadata": {
    "slideshow": {
     "slide_type": "slide"
    }
   },
   "source": [
    "That will happily decrypt our initial ciphertext again:"
   ]
  },
  {
   "cell_type": "code",
   "execution_count": 11,
   "metadata": {
    "slideshow": {
     "slide_type": "fragment"
    }
   },
   "outputs": [
    {
     "name": "stdout",
     "output_type": "stream",
     "text": [
      "RENDEZVOUSATNIGHT\n"
     ]
    }
   ],
   "source": [
    "print(otpad_decrypt(ciphertext, red_herring))"
   ]
  },
  {
   "cell_type": "markdown",
   "metadata": {
    "slideshow": {
     "slide_type": "slide"
    }
   },
   "source": [
    "When working with a one-time pad, we don't really need to do addition and subtraction on the positions of the letters in the alphabet.\n",
    "\n",
    "It is more convenient and faster to use the XOR operation.\n",
    "\n",
    "For encryption, we just XOR the plaintext and the randomtext:"
   ]
  },
  {
   "cell_type": "code",
   "execution_count": 12,
   "metadata": {
    "slideshow": {
     "slide_type": "fragment"
    }
   },
   "outputs": [],
   "source": [
    "def otpad_xencrypt(plaintext, randomtext):\n",
    "    encrypted = [ chr(ord(p) ^ ord(r)) for p, r in zip(plaintext, randomtext) ]\n",
    "    return ''.join(encrypted)"
   ]
  },
  {
   "cell_type": "markdown",
   "metadata": {
    "slideshow": {
     "slide_type": "slide"
    }
   },
   "source": [
    "So we can now see how it works:"
   ]
  },
  {
   "cell_type": "code",
   "execution_count": 13,
   "metadata": {
    "slideshow": {
     "slide_type": "fragment"
    }
   },
   "outputs": [
    {
     "name": "stdout",
     "output_type": "stream",
     "text": [
      "\u001b\u0002\f",
      "\u001a\u0002\u0018\u0000\f",
      "\u000f\u0006\u0013\u000f\u001b\n",
      "\u001b\u0003\u0005\n"
     ]
    }
   ],
   "source": [
    "ciphertext = otpad_xencrypt(plaintext, randomtext)\n",
    "print(ciphertext)"
   ]
  },
  {
   "cell_type": "markdown",
   "metadata": {
    "slideshow": {
     "slide_type": "slide"
    }
   },
   "source": [
    "In fact we see nothing!\n",
    "\n",
    "That is because the encrypted string is composed entirely of non-printable ASCII characters or whitespace.\n",
    "\n",
    "If we really want to, we can print its hexadecimal representation."
   ]
  },
  {
   "cell_type": "code",
   "execution_count": 14,
   "metadata": {
    "slideshow": {
     "slide_type": "fragment"
    }
   },
   "outputs": [
    {
     "name": "stdout",
     "output_type": "stream",
     "text": [
      "b'\\x1b\\x02\\x0c\\x1a\\x02\\x18\\x00\\x0c\\x0f\\x06\\x13\\x0f\\x1b\\n\\x1b\\x03\\x05'\n"
     ]
    }
   ],
   "source": [
    "print(ciphertext.encode('utf8'))"
   ]
  },
  {
   "cell_type": "markdown",
   "metadata": {
    "slideshow": {
     "slide_type": "slide"
    }
   },
   "source": [
    "Decryption now is exactly the same with encryption, but we use the ciphertext and the random text:"
   ]
  },
  {
   "cell_type": "code",
   "execution_count": 15,
   "metadata": {
    "slideshow": {
     "slide_type": "fragment"
    }
   },
   "outputs": [
    {
     "name": "stdout",
     "output_type": "stream",
     "text": [
      "IFYOUREALLYWANTTO\n"
     ]
    }
   ],
   "source": [
    "decrypted = otpad_xencrypt(ciphertext, randomtext)\n",
    "\n",
    "print(decrypted)"
   ]
  },
  {
   "cell_type": "markdown",
   "metadata": {
    "slideshow": {
     "slide_type": "slide"
    }
   },
   "source": [
    "## AES\n",
    "\n",
    "No, we are not going to give an implementation of AES here.\n",
    "\n",
    "The algorithm is very complicated, and a real implementation would go well beyond the scope of this notebook."
   ]
  },
  {
   "cell_type": "markdown",
   "metadata": {
    "slideshow": {
     "slide_type": "slide"
    }
   },
   "source": [
    "## Diffie-Hellman Key Exchange\n",
    "\n",
    "The Diffie-Hellman key exchange scheme is based on the discrete logarithm problem.\n",
    "\n",
    "That is, it is very difficult to find $x$ from the value of $g^x \\bmod p$, if $g$ and $p$ are chosen carefully."
   ]
  },
  {
   "cell_type": "markdown",
   "metadata": {
    "slideshow": {
     "slide_type": "slide"
    }
   },
   "source": [
    "For example, see what is happening for $g = 2$ and $p = 13$.\n",
    "\n",
    "$g^x$ is predictable, but $g^x \\bmod p$ does not show any pattern.\n",
    "\n",
    "Note that, in what follows, we are going to use Python's function `pow()`. \n",
    "\n",
    "Although Python has an operator for exponentiation (`**`), `pow()` is useful because it can either be called as `pow(x, y)` to return $x^y$, or `pow(x, y, p)` to return $x^y \\bmod p$."
   ]
  },
  {
   "cell_type": "code",
   "execution_count": 16,
   "metadata": {
    "slideshow": {
     "slide_type": "fragment"
    }
   },
   "outputs": [
    {
     "name": "stdout",
     "output_type": "stream",
     "text": [
      "2 2\n",
      "4 4\n",
      "8 8\n",
      "16 3\n",
      "32 6\n",
      "64 12\n",
      "128 11\n",
      "256 9\n",
      "512 5\n",
      "1024 10\n",
      "2048 7\n",
      "4096 1\n"
     ]
    }
   ],
   "source": [
    "g = 2\n",
    "p = 13\n",
    "\n",
    "for x in range(1, 13):\n",
    "    print(pow(g, x), pow(g, x, p))"
   ]
  },
  {
   "cell_type": "markdown",
   "metadata": {
    "slideshow": {
     "slide_type": "slide"
    }
   },
   "source": [
    "To see how Diffie-Hellman works, let us take Alice and Bob.\n",
    "\n",
    "Alice and Bob agree on $g$ and $p$.\n",
    "\n",
    "They choose $p = 2^{4096} - 2^{4032} - 1 + 2^{64} \\times [ (2^{3966} \\pi) + 240904 ]$.\n",
    "\n",
    "Yes, this is a terrifying number. It is 4096 bits long.\n",
    "\n",
    "No, Alice and Bob did not got it out of thin air. They chose it from a [list of published recommendations](https://tools.ietf.org/html/rfc3526#section-5).\n",
    "\n",
    "The hexadecimal value of $p$ is equal to:\n",
    "\n",
    "```\n",
    "FFFFFFFF FFFFFFFF C90FDAA2 2168C234 C4C6628B 80DC1CD1\n",
    "29024E08 8A67CC74 020BBEA6 3B139B22 514A0879 8E3404DD\n",
    "EF9519B3 CD3A431B 302B0A6D F25F1437 4FE1356D 6D51C245\n",
    "E485B576 625E7EC6 F44C42E9 A637ED6B 0BFF5CB6 F406B7ED\n",
    "EE386BFB 5A899FA5 AE9F2411 7C4B1FE6 49286651 ECE45B3D\n",
    "C2007CB8 A163BF05 98DA4836 1C55D39A 69163FA8 FD24CF5F\n",
    "83655D23 DCA3AD96 1C62F356 208552BB 9ED52907 7096966D\n",
    "670C354E 4ABC9804 F1746C08 CA18217C 32905E46 2E36CE3B\n",
    "E39E772C 180E8603 9B2783A2 EC07A28F B5C55DF0 6F4C52C9\n",
    "DE2BCBF6 95581718 3995497C EA956AE5 15D22618 98FA0510\n",
    "15728E5A 8AAAC42D AD33170D 04507A33 A85521AB DF1CBA64\n",
    "ECFB8504 58DBEF0A 8AEA7157 5D060C7D B3970F85 A6E1E4C7\n",
    "ABF5AE8C DB0933D7 1E8C94E0 4A25619D CEE3D226 1AD2EE6B\n",
    "F12FFA06 D98A0864 D8760273 3EC86A64 521F2B18 177B200C\n",
    "BBE11757 7A615D6C 770988C0 BAD946E2 08E24FA0 74E5AB31\n",
    "43DB5BFC E0FD108E 4B82D120 A9210801 1A723C12 A787E6D7\n",
    "88719A10 BDBA5B26 99C32718 6AF4E23C 1A946834 B6150BDA\n",
    "2583E9CA 2AD44CE8 DBBBC2DB 04DE8EF9 2E8EFC14 1FBECAA6\n",
    "287C5947 4E6BC05D 99B2964F A090C3A2 233BA186 515BE7ED\n",
    "1F612970 CEE2D7AF B81BDD76 2170481C D0069127 D5B05AA9\n",
    "93B4EA98 8D8FDDC1 86FFB7DC 90A6C08F 4DF435C9 34063199\n",
    "FFFFFFFF FFFFFFFF\n",
    "```"
   ]
  },
  {
   "cell_type": "code",
   "execution_count": 17,
   "metadata": {
    "slideshow": {
     "slide_type": "fragment"
    }
   },
   "outputs": [],
   "source": [
    "p = 0xFFFFFFFFFFFFFFFFC90FDAA22168C234C4C6628B80DC1CD129024E088A67CC74020BBEA63B139B22514A08798E3404DDEF9519B3CD3A431B302B0A6DF25F14374FE1356D6D51C245E485B576625E7EC6F44C42E9A637ED6B0BFF5CB6F406B7EDEE386BFB5A899FA5AE9F24117C4B1FE649286651ECE45B3DC2007CB8A163BF0598DA48361C55D39A69163FA8FD24CF5F83655D23DCA3AD961C62F356208552BB9ED529077096966D670C354E4ABC9804F1746C08CA18217C32905E462E36CE3BeE39E772C180E86039B2783A2EC07A28FB5C55DF06F4C52C9DE2BCBF6955817183995497CEA956AE515D2261898FA051015728E5A8AAAC42DAD33170D04507A33A85521ABDF1CBA64ECFB850458DBEF0A8AEA71575D060C7DB3970F85A6E1E4C7ABF5AE8CDB0933D71E8C94E04A25619DCEE3D2261AD2EE6BF12FFA06D98A0864D87602733EC86A64521F2B18177B200CBBE117577A615D6C770988C0BAD946E208E24FA074E5AB3143DB5BFCE0FD108E4B82D120A92108011A723C12A787E6D788719A10BDBA5B2699C327186AF4E23C1A946834B6150BDA2583E9CA2AD44CE8DBBBC2DB04DE8EF92E8EFC141FBECAA6287C59474E6BC05D99B2964FA090C3A2233BA186515BE7ED1F612970CEE2D7AFB81BDD762170481CD0069127D5B05AA993B4EA988D8FDDC186FFB7DC90A6C08F4DF435C934063199FFFFFFFFFFFFFFFF"
   ]
  },
  {
   "cell_type": "markdown",
   "metadata": {
    "slideshow": {
     "slide_type": "slide"
    }
   },
   "source": [
    "Then, again following the recommendations, they choose $g = 2$.\n"
   ]
  },
  {
   "cell_type": "code",
   "execution_count": 18,
   "metadata": {
    "slideshow": {
     "slide_type": "fragment"
    }
   },
   "outputs": [],
   "source": [
    "g = 2"
   ]
  },
  {
   "cell_type": "markdown",
   "metadata": {
    "slideshow": {
     "slide_type": "slide"
    }
   },
   "source": [
    "After settling for $p$ and $g$ with Bob, she picks a secret number $a$.\n",
    "\n",
    "We want $a$ to be big, 256 bits long.\n",
    "\n",
    "Alice can pick $a$ in random."
   ]
  },
  {
   "cell_type": "code",
   "execution_count": 19,
   "metadata": {
    "slideshow": {
     "slide_type": "fragment"
    }
   },
   "outputs": [
    {
     "name": "stdout",
     "output_type": "stream",
     "text": [
      "95570172376495944868414398443741209740258001274631769918156103408262051789241\n"
     ]
    }
   ],
   "source": [
    "import random\n",
    "\n",
    "a = random.getrandbits(256)\n",
    "print(a)"
   ]
  },
  {
   "cell_type": "markdown",
   "metadata": {},
   "source": [
    "She calculates $A = g^a \\bmod p$.\n",
    "\n",
    "She sends $A$ to Bob."
   ]
  },
  {
   "cell_type": "code",
   "execution_count": 20,
   "metadata": {
    "slideshow": {
     "slide_type": "fragment"
    }
   },
   "outputs": [
    {
     "name": "stdout",
     "output_type": "stream",
     "text": [
      "12474641491634648428039002725174845071579611355082808102378071018098874370893845881959256879588990107998599508529708478103818299910265831058909308189559545587502752027499236469318275003608103105901862732666612785635105253495947043976001490409144517425906234534449293127271484105182801317938526576239875210554845930884378167178658748341068840873638402702852897474320515882788883788149134301237965179230120883814880092394265526302070663256215718742512880922819524442682725615025464055778343154175477139271028634926169928395827390197142158231752409046546793335482091679481111961019528726207441601665054401499038281458636185709896410092671281687288813786257033468749323049897358054940091522603213987100803900380090873793729236285502691214380195795687386036193745206776975044423953536418626114385789978286328519420631932611604407704433417076240372753317336205564613965312029573256366166258185153437197037120738794006136088111097898339117045835089339036661151014983180740910497594386214882722348034868549590787008813336358568046835942419022287671887298497033289743797760732454698171358855620212187298806110659250134792541489044151382346513016601744697853393342649093757856716528921220276547490825804100173227141692665157147058597170236339812\n"
     ]
    }
   ],
   "source": [
    "alice_to_bob = pow(g, a, p)\n",
    "print(alice_to_bob)"
   ]
  },
  {
   "cell_type": "markdown",
   "metadata": {
    "slideshow": {
     "slide_type": "slide"
    }
   },
   "source": [
    "Bob uses the same values for $p$ and $g$.\n",
    "\n",
    "He picks a secret number $b$.\n",
    "\n",
    "He calculates $B = g^b \\bmod p$.\n",
    "\n",
    "He sends $B$ to Alice."
   ]
  },
  {
   "cell_type": "code",
   "execution_count": 21,
   "metadata": {
    "slideshow": {
     "slide_type": "fragment"
    }
   },
   "outputs": [
    {
     "name": "stdout",
     "output_type": "stream",
     "text": [
      "b = 19446571542886114219175288942395480412771086414252471320365248325567805074540\n",
      "4533625603127656409297676037096264006991086955515960932492319685581336004574888993030603490384786671980949416136937657632979144196592956307671725635546121236400073036540297813857471425600539218819150653649389905173468664300990793909348995794396824371319627468176646717499620165926218438378557145816730575114891484622073619753025780297132153056270004417116546209724416280007936842354550941031637105396505756308703781661837423257764218100040096913908062759069916513725725906685301627930948193051212075124227358575113701793892178548512955695621847258321368954611884675578138188069847825237513812236207597002185473392442427686837915731566371865512613912537132192478746489104923728856080576254968126939547497164576111248002590059640947808159627229719771636200856169801962189789171551623180868227082688665078287426029227298652596387636383303973160135568474431652180338055042981790591945881201436010692761163977987966223793546292402376069701300641289831395591500048485346231077474502158765336962528733854008298795151740655124945477833825628109257966047142336809252128863176547701475494395025357785240436828467874008008899875883088746139895020152955547827998807865195406950678220980824567464704519370585599896177193092775190749375996786615269\n"
     ]
    }
   ],
   "source": [
    "p = 0xFFFFFFFFFFFFFFFFC90FDAA22168C234C4C6628B80DC1CD129024E088A67CC74020BBEA63B139B22514A08798E3404DDEF9519B3CD3A431B302B0A6DF25F14374FE1356D6D51C245E485B576625E7EC6F44C42E9A637ED6B0BFF5CB6F406B7EDEE386BFB5A899FA5AE9F24117C4B1FE649286651ECE45B3DC2007CB8A163BF0598DA48361C55D39A69163FA8FD24CF5F83655D23DCA3AD961C62F356208552BB9ED529077096966D670C354E4ABC9804F1746C08CA18217C32905E462E36CE3BeE39E772C180E86039B2783A2EC07A28FB5C55DF06F4C52C9DE2BCBF6955817183995497CEA956AE515D2261898FA051015728E5A8AAAC42DAD33170D04507A33A85521ABDF1CBA64ECFB850458DBEF0A8AEA71575D060C7DB3970F85A6E1E4C7ABF5AE8CDB0933D71E8C94E04A25619DCEE3D2261AD2EE6BF12FFA06D98A0864D87602733EC86A64521F2B18177B200CBBE117577A615D6C770988C0BAD946E208E24FA074E5AB3143DB5BFCE0FD108E4B82D120A92108011A723C12A787E6D788719A10BDBA5B2699C327186AF4E23C1A946834B6150BDA2583E9CA2AD44CE8DBBBC2DB04DE8EF92E8EFC141FBECAA6287C59474E6BC05D99B2964FA090C3A2233BA186515BE7ED1F612970CEE2D7AFB81BDD762170481CD0069127D5B05AA993B4EA988D8FDDC186FFB7DC90A6C08F4DF435C934063199FFFFFFFFFFFFFFFF\n",
    "\n",
    "g = 2\n",
    "\n",
    "b = random.getrandbits(256)\n",
    "print('b =', b)\n",
    "\n",
    "bob_to_alice = pow(g, b, p)\n",
    "print(bob_to_alice)"
   ]
  },
  {
   "cell_type": "markdown",
   "metadata": {
    "slideshow": {
     "slide_type": "slide"
    }
   },
   "source": [
    "Then Alice calculates $B^a \\bmod b$:"
   ]
  },
  {
   "cell_type": "code",
   "execution_count": 22,
   "metadata": {
    "slideshow": {
     "slide_type": "fragment"
    }
   },
   "outputs": [
    {
     "name": "stdout",
     "output_type": "stream",
     "text": [
      "9150651238668374315063493999237020532235730991223302765015567159058343862612551596015689071570383004061081143179212929905247165973247728831021498023810169434774628540036129455746744059783273645138574466130417354708345261467665796448758708127294794267919619810538083554595624620738544016545955988943285130382922043567089521000085744198575651846177787381650676732794448623388245719480713731848445160599180971992221805590383224749148224975167347977442726186824972181474001100332129284781958117144194903973488870180491170981075642259957075075340951287154502051285397534458128087350177327988442764733266195336968131634011042707513683967757198416470427037629242777966237484048734760960287673065562801509195894071526313066526034638281154909887632031568623394729693266992683497780883852800242146321281836016655915630550599245989809420752778102569896497556838413101231956135562829247035824627659928971600714147378594822757920139255003146345085018880009580268808941444605066555881911813520668632837374932541016464385887370015588800177918633174511367471944455969848129541713460577862477786758691147703339434389260212284696716111961796658057727185821822852561516323583354288786584312096842723045913873032732910716568155035817372373458437091218535\n"
     ]
    }
   ],
   "source": [
    "shared_secret_alice = pow(bob_to_alice, a, p)\n",
    "print(shared_secret_alice)"
   ]
  },
  {
   "cell_type": "markdown",
   "metadata": {
    "slideshow": {
     "slide_type": "slide"
    }
   },
   "source": [
    "And Bob calculates $A^b \\bmod p$:"
   ]
  },
  {
   "cell_type": "code",
   "execution_count": 23,
   "metadata": {
    "slideshow": {
     "slide_type": "fragment"
    }
   },
   "outputs": [
    {
     "name": "stdout",
     "output_type": "stream",
     "text": [
      "9150651238668374315063493999237020532235730991223302765015567159058343862612551596015689071570383004061081143179212929905247165973247728831021498023810169434774628540036129455746744059783273645138574466130417354708345261467665796448758708127294794267919619810538083554595624620738544016545955988943285130382922043567089521000085744198575651846177787381650676732794448623388245719480713731848445160599180971992221805590383224749148224975167347977442726186824972181474001100332129284781958117144194903973488870180491170981075642259957075075340951287154502051285397534458128087350177327988442764733266195336968131634011042707513683967757198416470427037629242777966237484048734760960287673065562801509195894071526313066526034638281154909887632031568623394729693266992683497780883852800242146321281836016655915630550599245989809420752778102569896497556838413101231956135562829247035824627659928971600714147378594822757920139255003146345085018880009580268808941444605066555881911813520668632837374932541016464385887370015588800177918633174511367471944455969848129541713460577862477786758691147703339434389260212284696716111961796658057727185821822852561516323583354288786584312096842723045913873032732910716568155035817372373458437091218535\n"
     ]
    }
   ],
   "source": [
    "shared_secret_bob = pow(alice_to_bob, b, p)\n",
    "print(shared_secret_bob)"
   ]
  },
  {
   "cell_type": "markdown",
   "metadata": {
    "slideshow": {
     "slide_type": "slide"
    }
   },
   "source": [
    "They arrived at the same result.\n",
    "\n",
    "That is their secret secret."
   ]
  },
  {
   "cell_type": "code",
   "execution_count": 24,
   "metadata": {
    "slideshow": {
     "slide_type": "fragment"
    }
   },
   "outputs": [
    {
     "data": {
      "text/plain": [
       "True"
      ]
     },
     "execution_count": 24,
     "metadata": {},
     "output_type": "execute_result"
    }
   ],
   "source": [
    "shared_secret_alice == shared_secret_bob"
   ]
  },
  {
   "cell_type": "markdown",
   "metadata": {
    "slideshow": {
     "slide_type": "slide"
    }
   },
   "source": [
    "## Modular Exponentiation\n",
    "\n",
    "We saw that we are dealing with huge numbers.\n",
    "\n",
    "We need efficient implementations of the arithmetic operations.\n",
    "\n",
    "In particular, we want fast exponentiation and fast modular exponentiation.\n",
    "\n",
    "Python already implements fast operations---otherwise we would not be able to run this workbook.\n",
    "\n",
    "But it is worth seeing how such algorithms look like."
   ]
  },
  {
   "cell_type": "markdown",
   "metadata": {
    "slideshow": {
     "slide_type": "slide"
    }
   },
   "source": [
    "Exponentiation by repeated squaring is a direct application of the algorithm in the book.\n",
    "\n",
    "Instead of calculating $d \\bmod 2$, we calculate simply `d & 0b1`.\n",
    "\n",
    "That performs a bitwise AND operation between `d` and the single bit `1`. It therefore checks whether the last digit of `d` is one, which is equivalent to whether it is an odd number.\n",
    "\n",
    "Then, to perform integer division by 2, that is, $\\lfloor d / 2\\rfloor$, we only need to shift right d by one bit, `d >> 1`.\n",
    "\n",
    "We also add a statement to print the progress of the calculation, so that we get the values of $c$, $r$, and $d$ of Table 4.9 in the book.\n"
   ]
  },
  {
   "cell_type": "code",
   "execution_count": 25,
   "metadata": {
    "slideshow": {
     "slide_type": "slide"
    }
   },
   "outputs": [
    {
     "name": "stdout",
     "output_type": "stream",
     "text": [
      "         c          r          d\n",
      "        13          1     0b1101\n",
      "       169         13      0b110\n",
      "     28561         13       0b11\n",
      " 815730721     371293        0b1\n"
     ]
    },
    {
     "data": {
      "text/plain": [
       "302875106592253"
      ]
     },
     "execution_count": 25,
     "metadata": {},
     "output_type": "execute_result"
    }
   ],
   "source": [
    "def exponentiation(g, x):\n",
    "    print('{0:>10} {1:>10} {2:>10}'.format('c', 'r', 'd'))\n",
    "    c = g\n",
    "    d = x\n",
    "    r = 1\n",
    "    while d > 0:\n",
    "        print(f'{c:-10d} {r:-10d} {bin(d):>10}')\n",
    "        if d & 0b1 == 1:\n",
    "            r = r * c\n",
    "        d = d >> 1\n",
    "        c = c * c\n",
    "    return r\n",
    "\n",
    "exponentiation(13, 13)"
   ]
  },
  {
   "cell_type": "markdown",
   "metadata": {
    "slideshow": {
     "slide_type": "slide"
    }
   },
   "source": [
    "The modular exponentiation by repeated squaring is almost the same function.\n",
    "\n",
    "The only change is that the calculations of `r` and `c` inside the loop are done modulo `p`."
   ]
  },
  {
   "cell_type": "code",
   "execution_count": 26,
   "metadata": {
    "slideshow": {
     "slide_type": "slide"
    }
   },
   "outputs": [
    {
     "name": "stdout",
     "output_type": "stream",
     "text": [
      "         c          r          d\n",
      "       155          1 0b11101011\n",
      "       174        155  0b1110101\n",
      "       169        382   0b111010\n",
      "        18        382    0b11101\n",
      "       324        229     0b1110\n",
      "       188        229      0b111\n",
      "       154         42       0b11\n",
      "       256        212        0b1\n"
     ]
    },
    {
     "data": {
      "text/plain": [
       "314"
      ]
     },
     "execution_count": 26,
     "metadata": {},
     "output_type": "execute_result"
    }
   ],
   "source": [
    "def mod_exponentiation(g, x, p):\n",
    "    print('{0:>10} {1:>10} {2:>10}'.format('c', 'r', 'd'))\n",
    "    c = g % p\n",
    "    d = x\n",
    "    r = 1\n",
    "    while d > 0:\n",
    "        print(f'{c:-10d} {r:-10d} {bin(d):>10}')\n",
    "        if d & 0b1 == 1:\n",
    "            r = (r * c) % p\n",
    "        d = d >> 1\n",
    "        c = (c * c) % p\n",
    "    return r\n",
    "\n",
    "mod_exponentiation(155, 235, 391)"
   ]
  },
  {
   "cell_type": "markdown",
   "metadata": {
    "slideshow": {
     "slide_type": "slide"
    }
   },
   "source": [
    "# Secrets in Practice\n",
    "\n",
    "You should never, ever, use any of the code in this notepad for production use if you care a bit about security.\n",
    "\n",
    "The code we have shown serves for demonstration purposes only.\n",
    "\n",
    "However, the development of secure code is a full-blown art. There are many details that one has to take into account when writing code for a robust, secure system.\n",
    "\n",
    "You should *always* use libraries that have a good security record, that are actively supported, and are well documented.\n",
    "\n",
    "You should never use your own cryptographic code unless you are an expert programmer, you have shared your code with the programming community, and the consensus is that the implementation is sound."
   ]
  }
 ],
 "metadata": {
  "celltoolbar": "Slideshow",
  "kernelspec": {
   "display_name": "Python 3 (ipykernel)",
   "language": "python",
   "name": "python3"
  },
  "language_info": {
   "codemirror_mode": {
    "name": "ipython",
    "version": 3
   },
   "file_extension": ".py",
   "mimetype": "text/x-python",
   "name": "python",
   "nbconvert_exporter": "python",
   "pygments_lexer": "ipython3",
   "version": "3.9.10"
  }
 },
 "nbformat": 4,
 "nbformat_minor": 1
}
